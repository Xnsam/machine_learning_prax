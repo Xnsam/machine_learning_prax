{
  "nbformat": 4,
  "nbformat_minor": 0,
  "metadata": {
    "colab": {
      "name": "Copy of Copy of python_improv.ipynb",
      "provenance": [],
      "collapsed_sections": [
        "xASnVa5sUCEN",
        "h_KvGFJCUKV9",
        "YAaKgIkLUNNP",
        "HiyxLBzNAArL",
        "9GgDWM995g2D",
        "THQytFwutLwK",
        "Imk8I7RutRl6"
      ],
      "include_colab_link": true
    },
    "kernelspec": {
      "name": "python3",
      "display_name": "Python 3"
    }
  },
  "cells": [
    {
      "cell_type": "markdown",
      "metadata": {
        "id": "view-in-github",
        "colab_type": "text"
      },
      "source": [
        "<a href=\"https://colab.research.google.com/github/Xnsam/machine_learning_prax/blob/master/python_improv.ipynb\" target=\"_parent\"><img src=\"https://colab.research.google.com/assets/colab-badge.svg\" alt=\"Open In Colab\"/></a>"
      ]
    },
    {
      "cell_type": "markdown",
      "metadata": {
        "id": "xASnVa5sUCEN",
        "colab_type": "text"
      },
      "source": [
        "# Sunday 1 Dec"
      ]
    },
    {
      "cell_type": "markdown",
      "metadata": {
        "id": "LH1Me9ScUea9",
        "colab_type": "text"
      },
      "source": [
        "**Q1** Create a function to search a number in list using binary search"
      ]
    },
    {
      "cell_type": "code",
      "metadata": {
        "id": "kuA9ZJKSTxYN",
        "colab_type": "code",
        "colab": {}
      },
      "source": [
        ""
      ],
      "execution_count": 0,
      "outputs": []
    },
    {
      "cell_type": "markdown",
      "metadata": {
        "id": "8r0hIa2iUy1s",
        "colab_type": "text"
      },
      "source": [
        "**Q2** Create a time measuring function and apply it as a decorator on the given above function"
      ]
    },
    {
      "cell_type": "code",
      "metadata": {
        "id": "Twg0XxWSUyQk",
        "colab_type": "code",
        "colab": {}
      },
      "source": [
        ""
      ],
      "execution_count": 0,
      "outputs": []
    },
    {
      "cell_type": "markdown",
      "metadata": {
        "id": "7IsYZ_zmVMpd",
        "colab_type": "text"
      },
      "source": [
        "**Q3** Create a dictionary called 'inventory' containing minimum 10 fruit names as keys and randomly assigned integer value in the range 0 - 50 as its corresponding value.\n",
        "\n",
        "Manager takes the order from the customer. Prompt the manager to order specific fruit when not met the requirement qty. Take input from manager and update the number of fruits assuming it is arrived in real time from x - sales person in the inventory.\n",
        "\n",
        "create a dictionary called fruit price, when fruit basket is prepared, calculate the mapped price (put price as any random 2 digit float value for fruit per kg)\n",
        "\n",
        "print the final bill of the fruit basket in the format\n",
        "\n",
        "\n",
        "\n",
        "```\n",
        "------------------------------\n",
        "Fruit | Price | QTY | Total\n",
        "------------------------------\n",
        ".\n",
        ".\n",
        ".\n",
        "------------------------------\n",
        "Grand Total          |      | \n",
        "------------------------------\n",
        "```\n",
        "\n",
        "\n",
        "\n",
        "\n"
      ]
    },
    {
      "cell_type": "markdown",
      "metadata": {
        "id": "mUseyAaoaWJk",
        "colab_type": "text"
      },
      "source": [
        "**Q4** Implement Zero division Error with try catch and else part"
      ]
    },
    {
      "cell_type": "code",
      "metadata": {
        "id": "y8dVPH0cVMPp",
        "colab_type": "code",
        "colab": {}
      },
      "source": [
        ""
      ],
      "execution_count": 0,
      "outputs": []
    },
    {
      "cell_type": "markdown",
      "metadata": {
        "id": "NbzJnsKIagOE",
        "colab_type": "text"
      },
      "source": [
        "**Q5** Print the following pyramid\n",
        "\n",
        "```\n",
        " *\n",
        "\n",
        " ***\n",
        "\n",
        " *****\n",
        "\n",
        " *******\n",
        "\n",
        "*********\n",
        "```\n",
        "\n"
      ]
    },
    {
      "cell_type": "code",
      "metadata": {
        "id": "2KMsPqSZVMM-",
        "colab_type": "code",
        "colab": {}
      },
      "source": [
        ""
      ],
      "execution_count": 0,
      "outputs": []
    },
    {
      "cell_type": "markdown",
      "metadata": {
        "id": "h_KvGFJCUKV9",
        "colab_type": "text"
      },
      "source": [
        "# Monday 2 Dec"
      ]
    },
    {
      "cell_type": "markdown",
      "metadata": {
        "id": "jFnwOBRy-dGE",
        "colab_type": "text"
      },
      "source": [
        "**Q1** With example demonstrate the following\n",
        "- Monkey patching in python\n",
        "- Dynamic module loading, any two pros and cons\n",
        "- Frozen set\n",
        "- Unpacking a list and tuple"
      ]
    },
    {
      "cell_type": "code",
      "metadata": {
        "id": "k9N4z057UMhU",
        "colab_type": "code",
        "colab": {}
      },
      "source": [
        ""
      ],
      "execution_count": 0,
      "outputs": []
    },
    {
      "cell_type": "markdown",
      "metadata": {
        "id": "VGVVy31P_Aob",
        "colab_type": "text"
      },
      "source": [
        "**Q2** Write code to implement sub palindrome in python.\n",
        "\n",
        "Example : Banana -> ana, nan, anana"
      ]
    },
    {
      "cell_type": "code",
      "metadata": {
        "id": "hTLRkFU0_AcL",
        "colab_type": "code",
        "colab": {}
      },
      "source": [
        ""
      ],
      "execution_count": 0,
      "outputs": []
    },
    {
      "cell_type": "markdown",
      "metadata": {
        "id": "GbHR1WKHAMB6",
        "colab_type": "text"
      },
      "source": [
        "**Q3** Give an example and demonstrate the use of kwargs and args as function parameters."
      ]
    },
    {
      "cell_type": "code",
      "metadata": {
        "id": "7p8wv6jA_AZa",
        "colab_type": "code",
        "colab": {}
      },
      "source": [
        ""
      ],
      "execution_count": 0,
      "outputs": []
    },
    {
      "cell_type": "markdown",
      "metadata": {
        "id": "9fN4vsLqAnGT",
        "colab_type": "text"
      },
      "source": [
        "**Q4** Given a list A containing 10 elements, which one of the following would you choose and why?\n",
        "\n",
        "```\n",
        "1. len(A)\n",
        "\n",
        "2. A.__len__()\n",
        "\n",
        "```\n",
        "\n"
      ]
    },
    {
      "cell_type": "markdown",
      "metadata": {
        "id": "urY1ngwQDu6D",
        "colab_type": "text"
      },
      "source": [
        "**Q5** Demonstrate the use of static methods in a python class with an example"
      ]
    },
    {
      "cell_type": "code",
      "metadata": {
        "id": "OpHuRNUp_AT7",
        "colab_type": "code",
        "colab": {}
      },
      "source": [
        ""
      ],
      "execution_count": 0,
      "outputs": []
    },
    {
      "cell_type": "markdown",
      "metadata": {
        "id": "YAaKgIkLUNNP",
        "colab_type": "text"
      },
      "source": [
        "# Tuesday 3 Dec"
      ]
    },
    {
      "cell_type": "markdown",
      "metadata": {
        "id": "R03lIwAz1aol",
        "colab_type": "text"
      },
      "source": [
        "**Q1** Explain MRO in python with example"
      ]
    },
    {
      "cell_type": "code",
      "metadata": {
        "id": "82ZqqV7eUP_U",
        "colab_type": "code",
        "colab": {}
      },
      "source": [
        ""
      ],
      "execution_count": 0,
      "outputs": []
    },
    {
      "cell_type": "markdown",
      "metadata": {
        "id": "p8U1PCUj1jaL",
        "colab_type": "text"
      },
      "source": [
        "**Q2** Explain the use of literal eval and eval in python "
      ]
    },
    {
      "cell_type": "code",
      "metadata": {
        "id": "BfZxQveK1jCT",
        "colab_type": "code",
        "colab": {}
      },
      "source": [
        ""
      ],
      "execution_count": 0,
      "outputs": []
    },
    {
      "cell_type": "markdown",
      "metadata": {
        "id": "G56OsBrF1rxj",
        "colab_type": "text"
      },
      "source": [
        "**Q3** Write a python function that generates batch of size b each given two lists simultaneously. List length should be n."
      ]
    },
    {
      "cell_type": "code",
      "metadata": {
        "id": "x2d9yyxe1rYT",
        "colab_type": "code",
        "colab": {}
      },
      "source": [
        ""
      ],
      "execution_count": 0,
      "outputs": []
    },
    {
      "cell_type": "markdown",
      "metadata": {
        "id": "mUfZBVX52wqC",
        "colab_type": "text"
      },
      "source": [
        "**Q4** Explain python call by assignment with a python function"
      ]
    },
    {
      "cell_type": "code",
      "metadata": {
        "id": "cdU0eg1Q2wL7",
        "colab_type": "code",
        "colab": {}
      },
      "source": [
        ""
      ],
      "execution_count": 0,
      "outputs": []
    },
    {
      "cell_type": "markdown",
      "metadata": {
        "id": "Pj0yiTAq3Jib",
        "colab_type": "text"
      },
      "source": [
        "**Q5** Write a function for matrix multiplocation of two matrices"
      ]
    },
    {
      "cell_type": "code",
      "metadata": {
        "id": "toU-U84T1rVj",
        "colab_type": "code",
        "colab": {}
      },
      "source": [
        ""
      ],
      "execution_count": 0,
      "outputs": []
    },
    {
      "cell_type": "markdown",
      "metadata": {
        "id": "HiyxLBzNAArL",
        "colab_type": "text"
      },
      "source": [
        "# Wednesday 04 Dec"
      ]
    },
    {
      "cell_type": "markdown",
      "metadata": {
        "id": "CG8aTRh7ASzq",
        "colab_type": "text"
      },
      "source": [
        "**Q1** Wrtie a python function to output determinant of a given matrix"
      ]
    },
    {
      "cell_type": "code",
      "metadata": {
        "id": "NmrgTGShAQ94",
        "colab_type": "code",
        "colab": {}
      },
      "source": [
        ""
      ],
      "execution_count": 0,
      "outputs": []
    },
    {
      "cell_type": "markdown",
      "metadata": {
        "id": "lcMhgYVkA6_B",
        "colab_type": "text"
      },
      "source": [
        "**Q2** Write a python function for each of the following\n",
        "\n",
        "- Given a link (in this case https://www.gutenberg.org/files/11/11.txt) download the file and write it in a text file, Text file name should be passed as a parameter to the function. Should return the text file name\n",
        "\n",
        "- Given a file name, read the text file line by line or entirely at once and append it to the list. The mode of reading (line by line or entirely) should be a parameter given to the function. Should return the list.\n",
        "\n",
        "- Given a list find the following\n",
        "  1. Count of words\n",
        "  2. Frequency distribution of words\n",
        "  3. Most occuring words top 5\n",
        "  4. Least occuring words last 5\n",
        "\n",
        "- Given list of sentences create bigrams out of it and return a list of bigrams\n",
        "\n"
      ]
    },
    {
      "cell_type": "code",
      "metadata": {
        "id": "G36L6ksuA6qy",
        "colab_type": "code",
        "colab": {}
      },
      "source": [
        ""
      ],
      "execution_count": 0,
      "outputs": []
    },
    {
      "cell_type": "markdown",
      "metadata": {
        "id": "MkexZQFoDYDh",
        "colab_type": "text"
      },
      "source": [
        "**Q3** Write a python function to implement factorial of a number"
      ]
    },
    {
      "cell_type": "code",
      "metadata": {
        "id": "LEtCLM2-AQ7B",
        "colab_type": "code",
        "colab": {}
      },
      "source": [
        ""
      ],
      "execution_count": 0,
      "outputs": []
    },
    {
      "cell_type": "markdown",
      "metadata": {
        "id": "EyJWV5JZDsxR",
        "colab_type": "text"
      },
      "source": [
        "**Q4** Demonstrate the use of magic functions / dunder functions in python"
      ]
    },
    {
      "cell_type": "code",
      "metadata": {
        "id": "2_bAhFWbAQWK",
        "colab_type": "code",
        "colab": {}
      },
      "source": [
        ""
      ],
      "execution_count": 0,
      "outputs": []
    },
    {
      "cell_type": "markdown",
      "metadata": {
        "id": "kFWi0yTID9mx",
        "colab_type": "text"
      },
      "source": [
        "**Q5** Give an example of python ternary operator"
      ]
    },
    {
      "cell_type": "code",
      "metadata": {
        "id": "2BrWDDOwAQSh",
        "colab_type": "code",
        "colab": {}
      },
      "source": [
        ""
      ],
      "execution_count": 0,
      "outputs": []
    },
    {
      "cell_type": "markdown",
      "metadata": {
        "id": "9GgDWM995g2D",
        "colab_type": "text"
      },
      "source": [
        "# Thursday 5 Dec"
      ]
    },
    {
      "cell_type": "markdown",
      "metadata": {
        "id": "ggvT-NJf5p8D",
        "colab_type": "text"
      },
      "source": [
        "**Q1** Given a number / another set write a function to do the following on the set\n",
        "\n",
        "- Add to the set\n",
        "- Delete from the set if exists\n",
        "- return the intersection of the sets\n",
        "- return the union of the sets\n",
        "- return the symmetric intersection of the set"
      ]
    },
    {
      "cell_type": "code",
      "metadata": {
        "id": "EOpH6F9Y5prK",
        "colab_type": "code",
        "colab": {}
      },
      "source": [
        ""
      ],
      "execution_count": 0,
      "outputs": []
    },
    {
      "cell_type": "markdown",
      "metadata": {
        "id": "d6BHUB4R6tnk",
        "colab_type": "text"
      },
      "source": [
        "**Q2** Write a function that given a dictionary sorts it, ascending or descending based on the user preference, user preference is passed as a parameter to the function"
      ]
    },
    {
      "cell_type": "code",
      "metadata": {
        "id": "FeqZcLni5ogN",
        "colab_type": "code",
        "colab": {}
      },
      "source": [
        ""
      ],
      "execution_count": 0,
      "outputs": []
    },
    {
      "cell_type": "markdown",
      "metadata": {
        "id": "lmIEpkuG-ehO",
        "colab_type": "text"
      },
      "source": [
        "**Q3** Given input \n",
        "\n",
        "```\n",
        "[\n",
        "  {'item_4': 278, 'item_3': 325, 'item_2': 935}, \n",
        "  {'item_4': 862, 'item_3': 251, 'item_2': 387}, \n",
        "  {'item_4': 148, 'item_3': 76, 'item_2': 640}\n",
        "]\n",
        "```\n",
        "\n",
        "\n",
        "\n",
        "Create a function and do the following\n",
        "\n",
        "- Sum all the similar keys into one dictionary\n",
        "- Find the max key value pair\n",
        "- Find the min key value pair\n",
        "\n"
      ]
    },
    {
      "cell_type": "code",
      "metadata": {
        "id": "lnoEjp5o-9z6",
        "colab_type": "code",
        "colab": {}
      },
      "source": [
        ""
      ],
      "execution_count": 0,
      "outputs": []
    },
    {
      "cell_type": "markdown",
      "metadata": {
        "id": "hSJZPsEk-_HK",
        "colab_type": "text"
      },
      "source": [
        "**Q4** Write code to print the following\n",
        "\n",
        "```\n",
        "4 3 2 1\n",
        "3 2 1\n",
        "2 1\n",
        "1\n",
        "```\n"
      ]
    },
    {
      "cell_type": "code",
      "metadata": {
        "id": "xxpNc7po--1U",
        "colab_type": "code",
        "colab": {}
      },
      "source": [
        ""
      ],
      "execution_count": 0,
      "outputs": []
    },
    {
      "cell_type": "markdown",
      "metadata": {
        "id": "8apTY9BG_o38",
        "colab_type": "text"
      },
      "source": [
        "**Q5** Write a function to do the following using numpy package in python\n",
        "\n",
        "- Multiplication of two matrices\n",
        "- Addition and Subtraction of two matrices\n",
        "- Dot product of the matrices\n",
        "- Demonstrate array broadcasting in numpy"
      ]
    },
    {
      "cell_type": "code",
      "metadata": {
        "id": "ZPAeARO1_onT",
        "colab_type": "code",
        "colab": {}
      },
      "source": [
        ""
      ],
      "execution_count": 0,
      "outputs": []
    },
    {
      "cell_type": "markdown",
      "metadata": {
        "id": "xIzsL33gAQFy",
        "colab_type": "text"
      },
      "source": [
        "**Q6** Write function to do the following using matplotlib package in python\n",
        "\n",
        "- plot a scatter plot\n",
        "- plot multiple line plot\n",
        "- plot 3d scatter plot\n",
        "- plot multiple bar plot\n",
        "- plot violin plot"
      ]
    },
    {
      "cell_type": "code",
      "metadata": {
        "id": "wjaAeX9mBehr",
        "colab_type": "code",
        "colab": {}
      },
      "source": [
        ""
      ],
      "execution_count": 0,
      "outputs": []
    },
    {
      "cell_type": "markdown",
      "metadata": {
        "id": "vad3SesqAvHS",
        "colab_type": "text"
      },
      "source": [
        "**Q7** Write a function do  the following using pandas package in python\n",
        "\n",
        "- plot a bar plot\n",
        "- demo use of aggregation\n",
        "- demo use of group by and then iteration over the groupbyed dataframe\n",
        "- demo use of apply function on a pandas series\n",
        "- demo use of type conversion in pandas series"
      ]
    },
    {
      "cell_type": "markdown",
      "metadata": {
        "id": "THQytFwutLwK",
        "colab_type": "text"
      },
      "source": [
        "# Friday 6 Dec"
      ]
    },
    {
      "cell_type": "markdown",
      "metadata": {
        "id": "JBLhI53_tl8i",
        "colab_type": "text"
      },
      "source": [
        "**Q1** Write a Python function that given dogs year in human years convert it to calculate a dog years"
      ]
    },
    {
      "cell_type": "code",
      "metadata": {
        "id": "yFr_SOoptlsF",
        "colab_type": "code",
        "colab": {}
      },
      "source": [
        ""
      ],
      "execution_count": 0,
      "outputs": []
    },
    {
      "cell_type": "markdown",
      "metadata": {
        "id": "f4CHOOJiuc2p",
        "colab_type": "text"
      },
      "source": [
        "**Q2** Write a python function that given any text extracts the following string pattern from it.\n",
        "\n",
        "- Email id\n",
        "- Alpha Numeric\n",
        "- This pattern 'A5648TYU7'\n",
        "- Separates Alphanumbers e.g. 'ABC123' -> ['ABC', '123']\n",
        "- Separates Alphabets and characters e.g. 'Alpha+' -> ['Alpha', '+']"
      ]
    },
    {
      "cell_type": "code",
      "metadata": {
        "id": "1kGewgOaucpT",
        "colab_type": "code",
        "colab": {}
      },
      "source": [
        ""
      ],
      "execution_count": 0,
      "outputs": []
    },
    {
      "cell_type": "markdown",
      "metadata": {
        "id": "b3n6ZseWwEZa",
        "colab_type": "text"
      },
      "source": [
        "**Q3** Write a function to implement in Singular Value Decomposition in python using numpy package"
      ]
    },
    {
      "cell_type": "code",
      "metadata": {
        "id": "4O53nB4Ctlpd",
        "colab_type": "code",
        "colab": {}
      },
      "source": [
        ""
      ],
      "execution_count": 0,
      "outputs": []
    },
    {
      "cell_type": "markdown",
      "metadata": {
        "id": "cMBkB3J0wc6i",
        "colab_type": "text"
      },
      "source": [
        "**Q4** Write a function to do the following in pandas\n",
        "\n",
        "\n",
        "\n",
        "```\n",
        "def make_dict():\n",
        "  \"\"\"Run this function to generate the dictionaries.\"\"\"\n",
        "  import random\n",
        "\n",
        "  tmp1 = { 'id': [] , 'Student': []}\n",
        "  tmp2 = {'id': [], 'Scores': []}\n",
        "\n",
        "  for id_ in range(1, 10):\n",
        "    # change the upper limit to 5000\n",
        "    tmp1['id'].append(id_)\n",
        "    tmp2['id'].append(id_)\n",
        "    \n",
        "    tmp1['Student'].append('Student_{}'.format(id_))\n",
        "    tmp2['Scores'].append(round(random.random() *100, 2))\n",
        "\n",
        "  \n",
        "  return tmp1, tmp2\n",
        "\n",
        "\n",
        "print(make_dict())\n",
        "```\n",
        "\n",
        "\n",
        "\n",
        "- Create Two Dataframe from dictionary created from the given function\n",
        "- Merge two data frame into single dataframe\n",
        "- plot the distribution of marks for first 100 students\n",
        "- Create a column 'Grade' and assign the values in the row as per the conditions\n",
        "        ```\n",
        "        F if Scores <= 25\n",
        "        E if Scores <= 35\n",
        "        D if Scores <= 45\n",
        "        C if Scores <= 55\n",
        "        B if Scores <= 65\n",
        "        A if Scores <= 75\n",
        "        O if Scores <= 100\n",
        "        ```\n",
        "- Plot a chart for the number of students as per grade\n"
      ]
    },
    {
      "cell_type": "code",
      "metadata": {
        "id": "PqwuqM-Uwcny",
        "colab_type": "code",
        "colab": {}
      },
      "source": [
        ""
      ],
      "execution_count": 0,
      "outputs": []
    },
    {
      "cell_type": "markdown",
      "metadata": {
        "id": "yQdiUk_J3pWs",
        "colab_type": "text"
      },
      "source": [
        "**Q5** Demonstrate the use of list append vs extend"
      ]
    },
    {
      "cell_type": "code",
      "metadata": {
        "id": "M8KeTOKttlmm",
        "colab_type": "code",
        "colab": {}
      },
      "source": [
        ""
      ],
      "execution_count": 0,
      "outputs": []
    },
    {
      "cell_type": "markdown",
      "metadata": {
        "id": "vQyOYkuq30gK",
        "colab_type": "text"
      },
      "source": [
        "**Q6** Write a python function to implement the following\n",
        "\n",
        "- LIFO queue\n",
        "- FIFO queue"
      ]
    },
    {
      "cell_type": "code",
      "metadata": {
        "id": "gJgaAcGQtljz",
        "colab_type": "code",
        "colab": {}
      },
      "source": [
        ""
      ],
      "execution_count": 0,
      "outputs": []
    },
    {
      "cell_type": "markdown",
      "metadata": {
        "id": "r5uNmqe-4XKB",
        "colab_type": "text"
      },
      "source": [
        "**Q7** Write a NumPy program to compute the histogram of nums against the bins. "
      ]
    },
    {
      "cell_type": "code",
      "metadata": {
        "id": "2ERtGUKE--yy",
        "colab_type": "code",
        "colab": {}
      },
      "source": [
        ""
      ],
      "execution_count": 0,
      "outputs": []
    },
    {
      "cell_type": "markdown",
      "metadata": {
        "id": "Imk8I7RutRl6",
        "colab_type": "text"
      },
      "source": [
        "# Saturday 7 Dec"
      ]
    },
    {
      "cell_type": "markdown",
      "metadata": {
        "id": "r_OpoKbx9Al5",
        "colab_type": "text"
      },
      "source": [
        "**Q1**  Write a NumPy program to test element-wise of a given array for finiteness (not infinity or not Not a Number), positive or negative infinity, for NaN, for NaT (not a time), for negative infinity, for positive infinity.\n",
        "\n",
        "```\n",
        "Sample output:\n",
        "Test element-wise for finiteness (not infinity or not Not a Number):\n",
        "True\n",
        "True\n",
        "False\n",
        "Test element-wise for positive or negative infinity:\n",
        "True\n",
        "False\n",
        "True\n",
        "Test element-wise for NaN:\n",
        "[ True False False]\n",
        "Test element-wise for NaT (not a time):\n",
        "[ True False]\n",
        "Test element-wise for negative infinity:\n",
        "[1 0 0]\n",
        "Test element-wise for positive infinity:\n",
        "[0 0 1]\n",
        "```\n",
        "\n"
      ]
    },
    {
      "cell_type": "code",
      "metadata": {
        "id": "9-8n_1YItWaL",
        "colab_type": "code",
        "colab": {}
      },
      "source": [
        ""
      ],
      "execution_count": 0,
      "outputs": []
    },
    {
      "cell_type": "markdown",
      "metadata": {
        "id": "YmqtXMbG9RBh",
        "colab_type": "text"
      },
      "source": [
        "**Q2** Write a python function to output correlation matrix from a dataframe"
      ]
    },
    {
      "cell_type": "code",
      "metadata": {
        "id": "4dm_oUk39P_D",
        "colab_type": "code",
        "colab": {}
      },
      "source": [
        ""
      ],
      "execution_count": 0,
      "outputs": []
    },
    {
      "cell_type": "markdown",
      "metadata": {
        "id": "dT_6l8KH9slQ",
        "colab_type": "text"
      },
      "source": [
        "**Q3** Write a python function to count the number of triangles from the given icosahedron. You can you opencv package here.\n",
        "\n",
        "<img src=\"https://www.pngtube.com/myfile/full/382-3825690_everything-is-possible-geometric-shapes-icosahedron.png\" height=\"300\" ></img>\n",
        "\n"
      ]
    },
    {
      "cell_type": "code",
      "metadata": {
        "id": "YxH7x-DU9P8t",
        "colab_type": "code",
        "colab": {}
      },
      "source": [
        ""
      ],
      "execution_count": 0,
      "outputs": []
    },
    {
      "cell_type": "markdown",
      "metadata": {
        "id": "nunfp3pR_cMo",
        "colab_type": "text"
      },
      "source": [
        "**Q4** Write a python numpy program to do elementwise add, subtract, multiply and divide"
      ]
    },
    {
      "cell_type": "code",
      "metadata": {
        "id": "zaBXIvMR9P6I",
        "colab_type": "code",
        "colab": {}
      },
      "source": [
        ""
      ],
      "execution_count": 0,
      "outputs": []
    },
    {
      "cell_type": "markdown",
      "metadata": {
        "id": "iLGG60dCAtDg",
        "colab_type": "text"
      },
      "source": [
        "**Q5** Write a python function to calculate the sigmoid function values from the given array"
      ]
    },
    {
      "cell_type": "code",
      "metadata": {
        "id": "egYi1ZV1As3V",
        "colab_type": "code",
        "colab": {}
      },
      "source": [
        ""
      ],
      "execution_count": 0,
      "outputs": []
    },
    {
      "cell_type": "markdown",
      "metadata": {
        "id": "kJo6NmaoBN0h",
        "colab_type": "text"
      },
      "source": [
        "**Q6** Write a python function to find the roots of the given polynomial\n",
        "\n",
        "- x2 − 4x + 7\n",
        "- x4 − 11x3 + 9x2 + 11x – 10 "
      ]
    },
    {
      "cell_type": "code",
      "metadata": {
        "id": "j_AC76t5As0v",
        "colab_type": "code",
        "colab": {}
      },
      "source": [
        ""
      ],
      "execution_count": 0,
      "outputs": []
    },
    {
      "cell_type": "markdown",
      "metadata": {
        "id": "Wl0TeP9qBrxp",
        "colab_type": "text"
      },
      "source": [
        "**Q7** Given two arrays write a function to calculate the following using numpy\n",
        "\n",
        "- Cross Product\n",
        "- Inner Product\n",
        "- Dot Product"
      ]
    },
    {
      "cell_type": "code",
      "metadata": {
        "id": "f4xwjHFlAsyA",
        "colab_type": "code",
        "colab": {}
      },
      "source": [
        ""
      ],
      "execution_count": 0,
      "outputs": []
    },
    {
      "cell_type": "markdown",
      "metadata": {
        "id": "CCZrKmlECMEf",
        "colab_type": "text"
      },
      "source": [
        "# <strong><h2 align=\"center\">7 Day Crash Course Completed</h2></strong>\n",
        "\n",
        "<img src=\"https://t4.ftcdn.net/jpg/01/30/10/31/240_F_130103117_Zrlre6bkCBlHq2cYCRWQniGsjTpPRrDr.jpg\"> </img> <img src=\"https://i.pinimg.com/736x/12/ba/2a/12ba2abb8f366ddb2d3a8688b691e694--minions-love-minions-despicable-me.jpg\" width=\"500\"> </img> <img src=\"https://t4.ftcdn.net/jpg/01/30/10/31/240_F_130103117_Zrlre6bkCBlHq2cYCRWQniGsjTpPRrDr.jpg\"> </img> "
      ]
    }
  ]
}