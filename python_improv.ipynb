{
  "nbformat": 4,
  "nbformat_minor": 0,
  "metadata": {
    "colab": {
      "name": "Copy of Copy of python_improv.ipynb",
      "provenance": [],
      "collapsed_sections": [
        "xASnVa5sUCEN",
        "h_KvGFJCUKV9",
        "YAaKgIkLUNNP"
      ],
      "include_colab_link": true
    },
    "kernelspec": {
      "name": "python3",
      "display_name": "Python 3"
    }
  },
  "cells": [
    {
      "cell_type": "markdown",
      "metadata": {
        "id": "view-in-github",
        "colab_type": "text"
      },
      "source": [
        "<a href=\"https://colab.research.google.com/github/Xnsam/machine_learning_prax/blob/master/python_improv.ipynb\" target=\"_parent\"><img src=\"https://colab.research.google.com/assets/colab-badge.svg\" alt=\"Open In Colab\"/></a>"
      ]
    },
    {
      "cell_type": "markdown",
      "metadata": {
        "id": "xASnVa5sUCEN",
        "colab_type": "text"
      },
      "source": [
        "# Sunday 1 Dec"
      ]
    },
    {
      "cell_type": "markdown",
      "metadata": {
        "id": "LH1Me9ScUea9",
        "colab_type": "text"
      },
      "source": [
        "**Q1** Create a function to search a number in list using binary search"
      ]
    },
    {
      "cell_type": "code",
      "metadata": {
        "id": "kuA9ZJKSTxYN",
        "colab_type": "code",
        "colab": {}
      },
      "source": [
        ""
      ],
      "execution_count": 0,
      "outputs": []
    },
    {
      "cell_type": "markdown",
      "metadata": {
        "id": "8r0hIa2iUy1s",
        "colab_type": "text"
      },
      "source": [
        "**Q2** Create a time measuring function and apply it as a decorator on the given above function"
      ]
    },
    {
      "cell_type": "code",
      "metadata": {
        "id": "Twg0XxWSUyQk",
        "colab_type": "code",
        "colab": {}
      },
      "source": [
        ""
      ],
      "execution_count": 0,
      "outputs": []
    },
    {
      "cell_type": "markdown",
      "metadata": {
        "id": "7IsYZ_zmVMpd",
        "colab_type": "text"
      },
      "source": [
        "**Q3** Create a dictionary called 'inventory' containing minimum 10 fruit names as keys and randomly assigned integer value in the range 0 - 50 as its corresponding value.\n",
        "\n",
        "Manager takes the order from the customer. Prompt the manager to order specific fruit when not met the requirement qty. Take input from manager and update the number of fruits assuming it is arrived in real time from x - sales person in the inventory.\n",
        "\n",
        "create a dictionary called fruit price, when fruit basket is prepared, calculate the mapped price (put price as any random 2 digit float value for fruit per kg)\n",
        "\n",
        "print the final bill of the fruit basket in the format\n",
        "\n",
        "\n",
        "\n",
        "```\n",
        "------------------------------\n",
        "Fruit | Price | QTY | Total\n",
        "------------------------------\n",
        ".\n",
        ".\n",
        ".\n",
        "------------------------------\n",
        "Grand Total          |      | \n",
        "------------------------------\n",
        "```\n",
        "\n",
        "\n",
        "\n",
        "\n"
      ]
    },
    {
      "cell_type": "markdown",
      "metadata": {
        "id": "mUseyAaoaWJk",
        "colab_type": "text"
      },
      "source": [
        "**Q4** Implement Zero division Error with try catch and else part"
      ]
    },
    {
      "cell_type": "code",
      "metadata": {
        "id": "y8dVPH0cVMPp",
        "colab_type": "code",
        "colab": {}
      },
      "source": [
        ""
      ],
      "execution_count": 0,
      "outputs": []
    },
    {
      "cell_type": "markdown",
      "metadata": {
        "id": "NbzJnsKIagOE",
        "colab_type": "text"
      },
      "source": [
        "**Q5** Print the following pyramid\n",
        "\n",
        "```\n",
        " *\n",
        "\n",
        " ***\n",
        "\n",
        " *****\n",
        "\n",
        " *******\n",
        "\n",
        "*********\n",
        "```\n",
        "\n"
      ]
    },
    {
      "cell_type": "code",
      "metadata": {
        "id": "2KMsPqSZVMM-",
        "colab_type": "code",
        "colab": {}
      },
      "source": [
        ""
      ],
      "execution_count": 0,
      "outputs": []
    },
    {
      "cell_type": "markdown",
      "metadata": {
        "id": "h_KvGFJCUKV9",
        "colab_type": "text"
      },
      "source": [
        "# Monday 2 Dec"
      ]
    },
    {
      "cell_type": "markdown",
      "metadata": {
        "id": "jFnwOBRy-dGE",
        "colab_type": "text"
      },
      "source": [
        "**Q1** With example demonstrate the following\n",
        "- Monkey patching in python\n",
        "- Dynamic module loading, any two pros and cons\n",
        "- Frozen set\n",
        "- Unpacking a list and tuple"
      ]
    },
    {
      "cell_type": "code",
      "metadata": {
        "id": "k9N4z057UMhU",
        "colab_type": "code",
        "colab": {}
      },
      "source": [
        ""
      ],
      "execution_count": 0,
      "outputs": []
    },
    {
      "cell_type": "markdown",
      "metadata": {
        "id": "VGVVy31P_Aob",
        "colab_type": "text"
      },
      "source": [
        "**Q2** Write code to implement sub palindrome in python.\n",
        "\n",
        "Example : Banana -> ana, nan, anana"
      ]
    },
    {
      "cell_type": "code",
      "metadata": {
        "id": "hTLRkFU0_AcL",
        "colab_type": "code",
        "colab": {}
      },
      "source": [
        ""
      ],
      "execution_count": 0,
      "outputs": []
    },
    {
      "cell_type": "markdown",
      "metadata": {
        "id": "GbHR1WKHAMB6",
        "colab_type": "text"
      },
      "source": [
        "**Q3** Give an example and demonstrate the use of kwargs and args as function parameters."
      ]
    },
    {
      "cell_type": "code",
      "metadata": {
        "id": "7p8wv6jA_AZa",
        "colab_type": "code",
        "colab": {}
      },
      "source": [
        ""
      ],
      "execution_count": 0,
      "outputs": []
    },
    {
      "cell_type": "markdown",
      "metadata": {
        "id": "9fN4vsLqAnGT",
        "colab_type": "text"
      },
      "source": [
        "**Q4** Given a list A containing 10 elements, which one of the following would you choose and why?\n",
        "\n",
        "```\n",
        "1. len(A)\n",
        "\n",
        "2. A.__len__()\n",
        "\n",
        "```\n",
        "\n"
      ]
    },
    {
      "cell_type": "markdown",
      "metadata": {
        "id": "urY1ngwQDu6D",
        "colab_type": "text"
      },
      "source": [
        "**Q5** Demonstrate the use of static methods in a python class with an example"
      ]
    },
    {
      "cell_type": "code",
      "metadata": {
        "id": "OpHuRNUp_AT7",
        "colab_type": "code",
        "colab": {}
      },
      "source": [
        ""
      ],
      "execution_count": 0,
      "outputs": []
    },
    {
      "cell_type": "markdown",
      "metadata": {
        "id": "YAaKgIkLUNNP",
        "colab_type": "text"
      },
      "source": [
        "# Tuesday 3 Dec"
      ]
    },
    {
      "cell_type": "markdown",
      "metadata": {
        "id": "R03lIwAz1aol",
        "colab_type": "text"
      },
      "source": [
        "**Q1** Explain MRO in python with example"
      ]
    },
    {
      "cell_type": "code",
      "metadata": {
        "id": "82ZqqV7eUP_U",
        "colab_type": "code",
        "colab": {}
      },
      "source": [
        ""
      ],
      "execution_count": 0,
      "outputs": []
    },
    {
      "cell_type": "markdown",
      "metadata": {
        "id": "p8U1PCUj1jaL",
        "colab_type": "text"
      },
      "source": [
        "**Q2** Explain the use of literal eval and eval in python "
      ]
    },
    {
      "cell_type": "code",
      "metadata": {
        "id": "BfZxQveK1jCT",
        "colab_type": "code",
        "colab": {}
      },
      "source": [
        ""
      ],
      "execution_count": 0,
      "outputs": []
    },
    {
      "cell_type": "markdown",
      "metadata": {
        "id": "G56OsBrF1rxj",
        "colab_type": "text"
      },
      "source": [
        "**Q3** Write a python function that generates batch of size b each given two lists simultaneously. List length should be n."
      ]
    },
    {
      "cell_type": "code",
      "metadata": {
        "id": "x2d9yyxe1rYT",
        "colab_type": "code",
        "colab": {}
      },
      "source": [
        ""
      ],
      "execution_count": 0,
      "outputs": []
    },
    {
      "cell_type": "markdown",
      "metadata": {
        "id": "mUfZBVX52wqC",
        "colab_type": "text"
      },
      "source": [
        "**Q4** Explain python call by assignment with a python function"
      ]
    },
    {
      "cell_type": "code",
      "metadata": {
        "id": "cdU0eg1Q2wL7",
        "colab_type": "code",
        "colab": {}
      },
      "source": [
        ""
      ],
      "execution_count": 0,
      "outputs": []
    },
    {
      "cell_type": "markdown",
      "metadata": {
        "id": "Pj0yiTAq3Jib",
        "colab_type": "text"
      },
      "source": [
        "**Q5** Write a function for matrix multiplocation of two matrices"
      ]
    },
    {
      "cell_type": "code",
      "metadata": {
        "id": "toU-U84T1rVj",
        "colab_type": "code",
        "colab": {}
      },
      "source": [
        ""
      ],
      "execution_count": 0,
      "outputs": []
    },
    {
      "cell_type": "markdown",
      "metadata": {
        "id": "HiyxLBzNAArL",
        "colab_type": "text"
      },
      "source": [
        "# Wednesday 04 Dec"
      ]
    },
    {
      "cell_type": "markdown",
      "metadata": {
        "id": "CG8aTRh7ASzq",
        "colab_type": "text"
      },
      "source": [
        "**Q1** Wrtie a python function to output determinant of a given matrix"
      ]
    },
    {
      "cell_type": "code",
      "metadata": {
        "id": "NmrgTGShAQ94",
        "colab_type": "code",
        "colab": {}
      },
      "source": [
        ""
      ],
      "execution_count": 0,
      "outputs": []
    },
    {
      "cell_type": "markdown",
      "metadata": {
        "id": "lcMhgYVkA6_B",
        "colab_type": "text"
      },
      "source": [
        "**Q2** Write a python function for each of the following\n",
        "\n",
        "- Given a link (in this case https://www.gutenberg.org/files/11/11.txt) download the file and write it in a text file, Text file name should be passed as a parameter to the function. Should return the text file name\n",
        "\n",
        "- Given a file name, read the text file line by line or entirely at once and append it to the list. The mode of reading (line by line or entirely) should be a parameter given to the function. Should return the list.\n",
        "\n",
        "- Given a list find the following\n",
        "  1. Count of words\n",
        "  2. Frequency distribution of words\n",
        "  3. Most occuring words top 5\n",
        "  4. Least occuring words last 5\n",
        "\n",
        "- Given list of sentences create bigrams out of it and return a list of bigrams\n",
        "\n"
      ]
    },
    {
      "cell_type": "code",
      "metadata": {
        "id": "G36L6ksuA6qy",
        "colab_type": "code",
        "colab": {}
      },
      "source": [
        ""
      ],
      "execution_count": 0,
      "outputs": []
    },
    {
      "cell_type": "markdown",
      "metadata": {
        "id": "MkexZQFoDYDh",
        "colab_type": "text"
      },
      "source": [
        "**Q3** Write a python function to implement factorial of a number"
      ]
    },
    {
      "cell_type": "code",
      "metadata": {
        "id": "LEtCLM2-AQ7B",
        "colab_type": "code",
        "colab": {}
      },
      "source": [
        ""
      ],
      "execution_count": 0,
      "outputs": []
    },
    {
      "cell_type": "markdown",
      "metadata": {
        "id": "EyJWV5JZDsxR",
        "colab_type": "text"
      },
      "source": [
        "**Q4** Demonstrate the use of magic functions / dunder functions in python"
      ]
    },
    {
      "cell_type": "code",
      "metadata": {
        "id": "2_bAhFWbAQWK",
        "colab_type": "code",
        "colab": {}
      },
      "source": [
        ""
      ],
      "execution_count": 0,
      "outputs": []
    },
    {
      "cell_type": "markdown",
      "metadata": {
        "id": "kFWi0yTID9mx",
        "colab_type": "text"
      },
      "source": [
        "**Q5** Give an example of python ternary operator"
      ]
    },
    {
      "cell_type": "code",
      "metadata": {
        "id": "2BrWDDOwAQSh",
        "colab_type": "code",
        "colab": {}
      },
      "source": [
        ""
      ],
      "execution_count": 0,
      "outputs": []
    }
  ]
}