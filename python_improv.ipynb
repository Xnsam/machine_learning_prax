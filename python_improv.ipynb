{
  "nbformat": 4,
  "nbformat_minor": 0,
  "metadata": {
    "colab": {
      "name": "python_improv.ipynb",
      "provenance": [],
      "collapsed_sections": [],
      "include_colab_link": true
    },
    "kernelspec": {
      "name": "python3",
      "display_name": "Python 3"
    }
  },
  "cells": [
    {
      "cell_type": "markdown",
      "metadata": {
        "id": "view-in-github",
        "colab_type": "text"
      },
      "source": [
        "<a href=\"https://colab.research.google.com/github/Xnsam/machine_learning_prax/blob/master/python_improv.ipynb\" target=\"_parent\"><img src=\"https://colab.research.google.com/assets/colab-badge.svg\" alt=\"Open In Colab\"/></a>"
      ]
    },
    {
      "cell_type": "markdown",
      "metadata": {
        "id": "xASnVa5sUCEN",
        "colab_type": "text"
      },
      "source": [
        "# Sunday 1 DEC"
      ]
    },
    {
      "cell_type": "markdown",
      "metadata": {
        "id": "LH1Me9ScUea9",
        "colab_type": "text"
      },
      "source": [
        "**Q1** Create a function to search a number in list using binary search"
      ]
    },
    {
      "cell_type": "code",
      "metadata": {
        "id": "kuA9ZJKSTxYN",
        "colab_type": "code",
        "colab": {}
      },
      "source": [
        ""
      ],
      "execution_count": 0,
      "outputs": []
    },
    {
      "cell_type": "markdown",
      "metadata": {
        "id": "8r0hIa2iUy1s",
        "colab_type": "text"
      },
      "source": [
        "**Q2** Create a time measuring function and apply it as a decorator on the given above function"
      ]
    },
    {
      "cell_type": "code",
      "metadata": {
        "id": "Twg0XxWSUyQk",
        "colab_type": "code",
        "colab": {}
      },
      "source": [
        ""
      ],
      "execution_count": 0,
      "outputs": []
    },
    {
      "cell_type": "markdown",
      "metadata": {
        "id": "7IsYZ_zmVMpd",
        "colab_type": "text"
      },
      "source": [
        "**Q3** Create a dictionary called 'inventory' containing minimum 10 fruit names as keys and randomly assigned integer value in the range 0 - 50 as its corresponding value.\n",
        "\n",
        "Manager takes the order from the customer. Prompt the manager to order specific fruit when not met the requirement qty. Take input from manager and update the number of fruits assuming it is arrived in real time from x - sales person in the inventory.\n",
        "\n",
        "create a dictionary called fruit price, when fruit basket is prepared, calculate the mapped price (put price as any random 2 digit float value for fruit per kg)\n",
        "\n",
        "print the final bill of the fruit basket in the format\n",
        "\n",
        "\n",
        "\n",
        "```\n",
        "------------------------------\n",
        "Fruit | Price | QTY | Total\n",
        "------------------------------\n",
        ".\n",
        ".\n",
        ".\n",
        "------------------------------\n",
        "Grand Total          |      | \n",
        "------------------------------\n",
        "```\n",
        "\n",
        "\n",
        "\n",
        "\n"
      ]
    },
    {
      "cell_type": "markdown",
      "metadata": {
        "id": "mUseyAaoaWJk",
        "colab_type": "text"
      },
      "source": [
        "**Q4** Implement Zero division Error with try catch and else part"
      ]
    },
    {
      "cell_type": "code",
      "metadata": {
        "id": "y8dVPH0cVMPp",
        "colab_type": "code",
        "colab": {}
      },
      "source": [
        ""
      ],
      "execution_count": 0,
      "outputs": []
    },
    {
      "cell_type": "markdown",
      "metadata": {
        "id": "NbzJnsKIagOE",
        "colab_type": "text"
      },
      "source": [
        "**Q5** Print the following pyramid\n",
        "\n",
        "```\n",
        " *\n",
        "\n",
        " ***\n",
        "\n",
        " *****\n",
        "\n",
        " *******\n",
        "\n",
        "*********\n",
        "```\n",
        "\n"
      ]
    },
    {
      "cell_type": "code",
      "metadata": {
        "id": "2KMsPqSZVMM-",
        "colab_type": "code",
        "colab": {}
      },
      "source": [
        ""
      ],
      "execution_count": 0,
      "outputs": []
    },
    {
      "cell_type": "markdown",
      "metadata": {
        "id": "h_KvGFJCUKV9",
        "colab_type": "text"
      },
      "source": [
        "# Monday 2 DEC"
      ]
    },
    {
      "cell_type": "code",
      "metadata": {
        "id": "k9N4z057UMhU",
        "colab_type": "code",
        "colab": {}
      },
      "source": [
        ""
      ],
      "execution_count": 0,
      "outputs": []
    },
    {
      "cell_type": "markdown",
      "metadata": {
        "id": "YAaKgIkLUNNP",
        "colab_type": "text"
      },
      "source": [
        "# Tuesday 3 Dec"
      ]
    },
    {
      "cell_type": "code",
      "metadata": {
        "id": "82ZqqV7eUP_U",
        "colab_type": "code",
        "colab": {}
      },
      "source": [
        ""
      ],
      "execution_count": 0,
      "outputs": []
    }
  ]
}