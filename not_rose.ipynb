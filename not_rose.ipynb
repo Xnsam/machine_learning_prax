{
  "nbformat": 4,
  "nbformat_minor": 0,
  "metadata": {
    "colab": {
      "name": "not_rose.ipynb",
      "version": "0.3.2",
      "provenance": []
    },
    "kernelspec": {
      "name": "python3",
      "display_name": "Python 3"
    }
  },
  "cells": [
    {
      "cell_type": "markdown",
      "metadata": {
        "id": "brmcpwvRapJb",
        "colab_type": "text"
      },
      "source": [
        "# set up\n"
      ]
    },
    {
      "cell_type": "markdown",
      "metadata": {
        "id": "k9CeQyIIar56",
        "colab_type": "text"
      },
      "source": [
        "**setting up the js src in browser console **\n",
        "\n",
        "\n",
        "```\n",
        "var script = document.createElement('script');\n",
        "script.src = \"https://ajax.googleapis.com/ajax/libs/jquery/2.2.0/jquery.min.js\"; document.getElementsByTagName('head')[0].appendChild(script);\n",
        "\n",
        "```\n",
        "\n",
        "**parsing the urls **\n",
        "\n",
        "```\n",
        "var urls = $('.rg_di .rg_meta').map(function() { return JSON.parse($(this).text()).ou; });\n",
        "\n",
        "```\n",
        "\n",
        "\n",
        "**Saving the parsed urls and downloads **\n",
        "\n",
        "\n",
        "```\n",
        "var textToSave = urls.toArray().join('\\n');\n",
        "var hiddenElement = document.createElement('a');\n",
        "hiddenElement.href = 'data:attachment/text,' + encodeURI(textToSave);\n",
        "hiddenElement.target = '_blank';\n",
        "hiddenElement.download = 'urls.txt';\n",
        "hiddenElement.click();\n",
        "```"
      ]
    },
    {
      "cell_type": "code",
      "metadata": {
        "id": "reobYK7lZn82",
        "colab_type": "code",
        "colab": {}
      },
      "source": [
        "!mkdir rose"
      ],
      "execution_count": 0,
      "outputs": []
    },
    {
      "cell_type": "code",
      "metadata": {
        "id": "s6RNc2s3g9xv",
        "colab_type": "code",
        "colab": {}
      },
      "source": [
        "!rm -r rose"
      ],
      "execution_count": 0,
      "outputs": []
    },
    {
      "cell_type": "markdown",
      "metadata": {
        "id": "QlpW2WWHbIG1",
        "colab_type": "text"
      },
      "source": [
        "# Download images using python"
      ]
    },
    {
      "cell_type": "code",
      "metadata": {
        "id": "wvf2s6nSaluz",
        "colab_type": "code",
        "colab": {}
      },
      "source": [
        "from imutils import paths\n",
        "import requests\n",
        "import cv2\n",
        "import os"
      ],
      "execution_count": 0,
      "outputs": []
    },
    {
      "cell_type": "code",
      "metadata": {
        "id": "YT7i_FRdbUbw",
        "colab_type": "code",
        "colab": {}
      },
      "source": [
        "rose_file_path = \"urls.txt\"\n",
        "not_rose_file_path = \"nr.txt\"\n",
        "\n",
        "op_rose_file_path = \"rose/\"\n",
        "op_nt_rose_file_path = \"not_rose/\""
      ],
      "execution_count": 0,
      "outputs": []
    },
    {
      "cell_type": "code",
      "metadata": {
        "id": "uG3kB7dGbiPp",
        "colab_type": "code",
        "colab": {}
      },
      "source": [
        "rows = open(rose_file_path).read().strip().split(\"\\n\")\n",
        "total = 0"
      ],
      "execution_count": 0,
      "outputs": []
    },
    {
      "cell_type": "code",
      "metadata": {
        "id": "hUMi3oo2bpba",
        "colab_type": "code",
        "colab": {
          "base_uri": "https://localhost:8080/",
          "height": 34
        },
        "outputId": "e56f67e1-39e5-43bc-dec9-acc9a2dd824e"
      },
      "source": [
        "type(rows)"
      ],
      "execution_count": 6,
      "outputs": [
        {
          "output_type": "execute_result",
          "data": {
            "text/plain": [
              "list"
            ]
          },
          "metadata": {
            "tags": []
          },
          "execution_count": 6
        }
      ]
    },
    {
      "cell_type": "code",
      "metadata": {
        "id": "2VjVsgn-bre7",
        "colab_type": "code",
        "colab": {
          "base_uri": "https://localhost:8080/",
          "height": 122
        },
        "outputId": "ed18321d-8bc3-4276-88dc-cba0ff62204d"
      },
      "source": [
        "rows[:5]"
      ],
      "execution_count": 7,
      "outputs": [
        {
          "output_type": "execute_result",
          "data": {
            "text/plain": [
              "['https://i.ytimg.com/vi/DFhJUk7LNT0/hqdefault.jpg',\n",
              " 'https://images.unsplash.com/photo-1519058497187-7167f17c6daf?ixlib=rb-1.2.1&ixid=eyJhcHBfaWQiOjEyMDd9&w=1000&q=80',\n",
              " 'https://images-na.ssl-images-amazon.com/images/I/71etj1mmV9L._SX425_.jpg',\n",
              " 'https://s3.amazonaws.com/site-files-prod/FiftyFlowers/Image/Product/Hot-Lady2-350_de950408.jpg',\n",
              " 'https://s3.amazonaws.com/store-product-images/JGI169-M.jpg']"
            ]
          },
          "metadata": {
            "tags": []
          },
          "execution_count": 7
        }
      ]
    },
    {
      "cell_type": "code",
      "metadata": {
        "id": "gnIPYcbsbuHr",
        "colab_type": "code",
        "colab": {
          "base_uri": "https://localhost:8080/",
          "height": 102
        },
        "outputId": "edc6ca78-53c6-427f-c917-367bc326f341"
      },
      "source": [
        "# downloding the images\n",
        "for url in rows:\n",
        "    try:\n",
        "        # requesting image\n",
        "        r = requests.get(url, timeout=60)\n",
        "        \n",
        "        # saving image\n",
        "        p = os.path.join('rose', '{}.jpg'.format(total))\n",
        "        with open(p, \"wb\") as f:\n",
        "            f.write(r.content)\n",
        "            \n",
        "        # try to read using opencv\n",
        "        try:\n",
        "            image = cv2.imread(p)\n",
        "            if image is None:\n",
        "                os.remove(p)\n",
        "            else:\n",
        "                total += 1\n",
        "        except:\n",
        "            os.remove(p) # when image is corrupt delete directly\n",
        "    except:\n",
        "        print(\"download error ... skipping {}\".format(p))"
      ],
      "execution_count": 0,
      "outputs": [
        {
          "output_type": "stream",
          "text": [
            "download error ... skipping rose/79.jpg\n",
            "download error ... skipping rose/83.jpg\n",
            "download error ... skipping rose/84.jpg\n",
            "download error ... skipping rose/85.jpg\n",
            "download error ... skipping rose/86.jpg\n"
          ],
          "name": "stdout"
        }
      ]
    },
    {
      "cell_type": "code",
      "metadata": {
        "id": "7SObAnszApwE",
        "colab_type": "code",
        "colab": {
          "base_uri": "https://localhost:8080/",
          "height": 5593
        },
        "outputId": "d6a6eb63-3932-4248-e732-033b05938148"
      },
      "source": [
        "!unzip rose.zip -d rose/"
      ],
      "execution_count": 9,
      "outputs": [
        {
          "output_type": "stream",
          "text": [
            "Archive:  rose.zip\n",
            "   creating: rose/rose/\n",
            "  inflating: rose/rose/0.jpg         \n",
            "  inflating: rose/rose/1.jpg         \n",
            "  inflating: rose/rose/2.jpg         \n",
            "  inflating: rose/rose/3.jpg         \n",
            "  inflating: rose/rose/4.jpg         \n",
            "  inflating: rose/rose/5.jpg         \n",
            "  inflating: rose/rose/6.jpg         \n",
            "  inflating: rose/rose/7.jpg         \n",
            "  inflating: rose/rose/8.jpg         \n",
            "  inflating: rose/rose/9.jpg         \n",
            "  inflating: rose/rose/10.jpg        \n",
            "  inflating: rose/rose/11.jpg        \n",
            "  inflating: rose/rose/12.jpg        \n",
            "  inflating: rose/rose/13.jpg        \n",
            "  inflating: rose/rose/14.jpg        \n",
            "  inflating: rose/rose/15.jpg        \n",
            "  inflating: rose/rose/16.jpg        \n",
            "  inflating: rose/rose/17.jpg        \n",
            "  inflating: rose/rose/18.jpg        \n",
            "  inflating: rose/rose/19.jpg        \n",
            "  inflating: rose/rose/20.jpg        \n",
            "  inflating: rose/rose/21.jpg        \n",
            "  inflating: rose/rose/22.jpg        \n",
            "  inflating: rose/rose/23.jpg        \n",
            "  inflating: rose/rose/24.jpg        \n",
            "  inflating: rose/rose/25.jpg        \n",
            "  inflating: rose/rose/26.jpg        \n",
            "  inflating: rose/rose/27.jpg        \n",
            "  inflating: rose/rose/28.jpg        \n",
            "  inflating: rose/rose/29.jpg        \n",
            "  inflating: rose/rose/30.jpg        \n",
            "  inflating: rose/rose/31.jpg        \n",
            "  inflating: rose/rose/32.jpg        \n",
            "  inflating: rose/rose/33.jpg        \n",
            "  inflating: rose/rose/34.jpg        \n",
            "  inflating: rose/rose/35.jpg        \n",
            "  inflating: rose/rose/36.jpg        \n",
            "  inflating: rose/rose/37.jpg        \n",
            "  inflating: rose/rose/38.jpg        \n",
            "  inflating: rose/rose/39.jpg        \n",
            "  inflating: rose/rose/40.jpg        \n",
            "  inflating: rose/rose/41.jpg        \n",
            "  inflating: rose/rose/42.jpg        \n",
            "  inflating: rose/rose/44.jpg        \n",
            "  inflating: rose/rose/45.jpg        \n",
            "  inflating: rose/rose/46.jpg        \n",
            "  inflating: rose/rose/47.jpg        \n",
            "  inflating: rose/rose/50.jpg        \n",
            "  inflating: rose/rose/51.jpg        \n",
            "  inflating: rose/rose/52.jpg        \n",
            "  inflating: rose/rose/53.jpg        \n",
            "  inflating: rose/rose/54.jpg        \n",
            "  inflating: rose/rose/55.jpg        \n",
            "  inflating: rose/rose/56.jpg        \n",
            "  inflating: rose/rose/57.jpg        \n",
            "  inflating: rose/rose/58.jpg        \n",
            "  inflating: rose/rose/59.jpg        \n",
            "  inflating: rose/rose/60.jpg        \n",
            "  inflating: rose/rose/61.jpg        \n",
            "  inflating: rose/rose/62.jpg        \n",
            "  inflating: rose/rose/63.jpg        \n",
            "  inflating: rose/rose/64.jpg        \n",
            "  inflating: rose/rose/65.jpg        \n",
            "  inflating: rose/rose/66.jpg        \n",
            "  inflating: rose/rose/67.jpg        \n",
            "  inflating: rose/rose/68.jpg        \n",
            "  inflating: rose/rose/69.jpg        \n",
            "  inflating: rose/rose/70.jpg        \n",
            "  inflating: rose/rose/71.jpg        \n",
            "  inflating: rose/rose/72.jpg        \n",
            "  inflating: rose/rose/73.jpg        \n",
            "  inflating: rose/rose/74.jpg        \n",
            "  inflating: rose/rose/75.jpg        \n",
            "  inflating: rose/rose/76.jpg        \n",
            "  inflating: rose/rose/77.jpg        \n",
            "  inflating: rose/rose/78.jpg        \n",
            "  inflating: rose/rose/79.jpg        \n",
            "  inflating: rose/rose/80.jpg        \n",
            "  inflating: rose/rose/81.jpg        \n",
            "  inflating: rose/rose/82.jpg        \n",
            "  inflating: rose/rose/83.jpg        \n",
            "  inflating: rose/rose/84.jpg        \n",
            "  inflating: rose/rose/86.jpg        \n",
            "  inflating: rose/rose/87.jpg        \n",
            "  inflating: rose/rose/88.jpg        \n",
            "  inflating: rose/rose/89.jpg        \n",
            "  inflating: rose/rose/90.jpg        \n",
            "  inflating: rose/rose/92.jpg        \n",
            "  inflating: rose/rose/93.jpg        \n",
            "  inflating: rose/rose/94.jpg        \n",
            "  inflating: rose/rose/95.jpg        \n",
            "  inflating: rose/rose/96.jpg        \n",
            "  inflating: rose/rose/97.jpg        \n",
            "  inflating: rose/rose/98.jpg        \n",
            "  inflating: rose/rose/99.jpg        \n",
            "  inflating: rose/rose/100.jpg       \n",
            "  inflating: rose/rose/101.jpg       \n",
            "  inflating: rose/rose/102.jpg       \n",
            "  inflating: rose/rose/103.jpg       \n",
            "  inflating: rose/rose/104.jpg       \n",
            "  inflating: rose/rose/105.jpg       \n",
            "  inflating: rose/rose/106.jpg       \n",
            "  inflating: rose/rose/107.jpg       \n",
            "  inflating: rose/rose/108.jpg       \n",
            "  inflating: rose/rose/109.jpg       \n",
            "  inflating: rose/rose/110.jpg       \n",
            "  inflating: rose/rose/111.jpg       \n",
            "  inflating: rose/rose/112.jpg       \n",
            "  inflating: rose/rose/113.jpg       \n",
            "  inflating: rose/rose/114.jpg       \n",
            "  inflating: rose/rose/115.jpg       \n",
            "  inflating: rose/rose/116.jpg       \n",
            "  inflating: rose/rose/117.jpg       \n",
            "  inflating: rose/rose/118.jpg       \n",
            "  inflating: rose/rose/119.jpg       \n",
            "  inflating: rose/rose/120.jpg       \n",
            "  inflating: rose/rose/121.jpg       \n",
            "  inflating: rose/rose/122.jpg       \n",
            "  inflating: rose/rose/123.jpg       \n",
            "  inflating: rose/rose/124.jpg       \n",
            "  inflating: rose/rose/125.jpg       \n",
            "  inflating: rose/rose/126.jpg       \n",
            "  inflating: rose/rose/127.jpg       \n",
            "  inflating: rose/rose/128.jpg       \n",
            "  inflating: rose/rose/129.jpg       \n",
            "  inflating: rose/rose/130.jpg       \n",
            "  inflating: rose/rose/131.jpg       \n",
            "  inflating: rose/rose/132.jpg       \n",
            "  inflating: rose/rose/133.jpg       \n",
            "  inflating: rose/rose/134.jpg       \n",
            "  inflating: rose/rose/135.jpg       \n",
            "  inflating: rose/rose/137.jpg       \n",
            "  inflating: rose/rose/138.jpg       \n",
            "  inflating: rose/rose/139.jpg       \n",
            "  inflating: rose/rose/140.jpg       \n",
            "  inflating: rose/rose/141.jpg       \n",
            "  inflating: rose/rose/142.jpg       \n",
            "  inflating: rose/rose/143.jpg       \n",
            "  inflating: rose/rose/144.jpg       \n",
            "  inflating: rose/rose/145.jpg       \n",
            "  inflating: rose/rose/146.jpg       \n",
            "  inflating: rose/rose/147.jpg       \n",
            "  inflating: rose/rose/148.jpg       \n",
            "  inflating: rose/rose/149.jpg       \n",
            "  inflating: rose/rose/150.jpg       \n",
            "  inflating: rose/rose/151.jpg       \n",
            "  inflating: rose/rose/152.jpg       \n",
            "  inflating: rose/rose/153.jpg       \n",
            "  inflating: rose/rose/154.jpg       \n",
            "  inflating: rose/rose/155.jpg       \n",
            "  inflating: rose/rose/156.jpg       \n",
            "  inflating: rose/rose/157.jpg       \n",
            "  inflating: rose/rose/159.jpg       \n",
            "  inflating: rose/rose/160.jpg       \n",
            "  inflating: rose/rose/161.jpg       \n",
            "  inflating: rose/rose/162.jpg       \n",
            "  inflating: rose/rose/163.jpg       \n",
            "  inflating: rose/rose/164.jpg       \n",
            "  inflating: rose/rose/165.jpg       \n",
            "  inflating: rose/rose/166.jpg       \n",
            "  inflating: rose/rose/167.jpg       \n",
            "  inflating: rose/rose/168.jpg       \n",
            "  inflating: rose/rose/170.jpg       \n",
            "  inflating: rose/rose/171.jpg       \n",
            "  inflating: rose/rose/172.jpg       \n",
            "  inflating: rose/rose/173.jpg       \n",
            "  inflating: rose/rose/176.jpg       \n",
            "  inflating: rose/rose/177.jpg       \n",
            "  inflating: rose/rose/178.jpg       \n",
            "  inflating: rose/rose/179.jpg       \n",
            "  inflating: rose/rose/180.jpg       \n",
            "  inflating: rose/rose/181.jpg       \n",
            "  inflating: rose/rose/182.jpg       \n",
            "  inflating: rose/rose/183.jpg       \n",
            "  inflating: rose/rose/184.jpg       \n",
            "  inflating: rose/rose/185.jpg       \n",
            "  inflating: rose/rose/186.jpg       \n",
            "  inflating: rose/rose/187.jpg       \n",
            "  inflating: rose/rose/188.jpg       \n",
            "  inflating: rose/rose/189.jpg       \n",
            "  inflating: rose/rose/190.jpg       \n",
            "  inflating: rose/rose/191.jpg       \n",
            "  inflating: rose/rose/192.jpg       \n",
            "  inflating: rose/rose/193.jpg       \n",
            "  inflating: rose/rose/194.jpg       \n",
            "  inflating: rose/rose/195.jpg       \n",
            "  inflating: rose/rose/196.jpg       \n",
            "  inflating: rose/rose/197.jpg       \n",
            "  inflating: rose/rose/198.jpg       \n",
            "  inflating: rose/rose/199.jpg       \n",
            "  inflating: rose/rose/200.jpg       \n",
            "  inflating: rose/rose/201.jpg       \n",
            "  inflating: rose/rose/202.jpg       \n",
            "  inflating: rose/rose/203.jpg       \n",
            "  inflating: rose/rose/204.jpg       \n",
            "  inflating: rose/rose/205.jpg       \n",
            "  inflating: rose/rose/206.jpg       \n",
            "  inflating: rose/rose/207.jpg       \n",
            "  inflating: rose/rose/208.jpg       \n",
            "  inflating: rose/rose/209.jpg       \n",
            "  inflating: rose/rose/210.jpg       \n",
            "  inflating: rose/rose/211.jpg       \n",
            "  inflating: rose/rose/212.jpg       \n",
            "  inflating: rose/rose/213.jpg       \n",
            "  inflating: rose/rose/214.jpg       \n",
            "  inflating: rose/rose/216.jpg       \n",
            "  inflating: rose/rose/218.jpg       \n",
            "  inflating: rose/rose/219.jpg       \n",
            "  inflating: rose/rose/220.jpg       \n",
            "  inflating: rose/rose/221.jpg       \n",
            "  inflating: rose/rose/222.jpg       \n",
            "  inflating: rose/rose/224.jpg       \n",
            "  inflating: rose/rose/225.jpg       \n",
            "  inflating: rose/rose/226.jpg       \n",
            "  inflating: rose/rose/227.jpg       \n",
            "  inflating: rose/rose/228.jpg       \n",
            "  inflating: rose/rose/229.jpg       \n",
            "  inflating: rose/rose/230.jpg       \n",
            "  inflating: rose/rose/231.jpg       \n",
            "  inflating: rose/rose/232.jpg       \n",
            "  inflating: rose/rose/233.jpg       \n",
            "  inflating: rose/rose/234.jpg       \n",
            "  inflating: rose/rose/235.jpg       \n",
            "  inflating: rose/rose/236.jpg       \n",
            "  inflating: rose/rose/237.jpg       \n",
            "  inflating: rose/rose/238.jpg       \n",
            "  inflating: rose/rose/239.jpg       \n",
            "  inflating: rose/rose/240.jpg       \n",
            "  inflating: rose/rose/241.jpg       \n",
            "  inflating: rose/rose/242.jpg       \n",
            "  inflating: rose/rose/243.jpg       \n",
            "  inflating: rose/rose/244.jpg       \n",
            "  inflating: rose/rose/245.jpg       \n",
            "  inflating: rose/rose/246.jpg       \n",
            "  inflating: rose/rose/247.jpg       \n",
            "  inflating: rose/rose/248.jpg       \n",
            "  inflating: rose/rose/249.jpg       \n",
            "  inflating: rose/rose/250.jpg       \n",
            "  inflating: rose/rose/251.jpg       \n",
            "  inflating: rose/rose/252.jpg       \n",
            "  inflating: rose/rose/253.jpg       \n",
            "  inflating: rose/rose/254.jpg       \n",
            "  inflating: rose/rose/255.jpg       \n",
            "  inflating: rose/rose/256.jpg       \n",
            "  inflating: rose/rose/257.jpg       \n",
            "  inflating: rose/rose/258.jpg       \n",
            "  inflating: rose/rose/259.jpg       \n",
            "  inflating: rose/rose/260.jpg       \n",
            "  inflating: rose/rose/261.jpg       \n",
            "  inflating: rose/rose/262.jpg       \n",
            "  inflating: rose/rose/263.jpg       \n",
            "  inflating: rose/rose/264.jpg       \n",
            "  inflating: rose/rose/265.jpg       \n",
            "  inflating: rose/rose/266.jpg       \n",
            "  inflating: rose/rose/267.jpg       \n",
            "  inflating: rose/rose/268.jpg       \n",
            "  inflating: rose/rose/269.jpg       \n",
            "  inflating: rose/rose/271.jpg       \n",
            "  inflating: rose/rose/273.jpg       \n",
            "  inflating: rose/rose/274.jpg       \n",
            "  inflating: rose/rose/275.jpg       \n",
            "  inflating: rose/rose/276.jpg       \n",
            "  inflating: rose/rose/277.jpg       \n",
            "  inflating: rose/rose/278.jpg       \n",
            "  inflating: rose/rose/279.jpg       \n",
            "  inflating: rose/rose/280.jpg       \n",
            "  inflating: rose/rose/281.jpg       \n",
            "  inflating: rose/rose/282.jpg       \n",
            "  inflating: rose/rose/283.jpg       \n",
            "  inflating: rose/rose/284.jpg       \n",
            "  inflating: rose/rose/286.jpg       \n",
            "  inflating: rose/rose/287.jpg       \n",
            "  inflating: rose/rose/288.jpg       \n",
            "  inflating: rose/rose/289.jpg       \n",
            "  inflating: rose/rose/290.jpg       \n",
            "  inflating: rose/rose/291.jpg       \n",
            "  inflating: rose/rose/292.jpg       \n",
            "  inflating: rose/rose/293.jpg       \n",
            "  inflating: rose/rose/294.jpg       \n",
            "  inflating: rose/rose/295.jpg       \n",
            "  inflating: rose/rose/296.jpg       \n",
            "  inflating: rose/rose/297.jpg       \n",
            "  inflating: rose/rose/298.jpg       \n",
            "  inflating: rose/rose/299.jpg       \n",
            "  inflating: rose/rose/300.jpg       \n",
            "  inflating: rose/rose/301.jpg       \n",
            "  inflating: rose/rose/302.jpg       \n",
            "  inflating: rose/rose/303.jpg       \n",
            "  inflating: rose/rose/304.jpg       \n",
            "  inflating: rose/rose/305.jpg       \n",
            "  inflating: rose/rose/306.jpg       \n",
            "  inflating: rose/rose/307.jpg       \n",
            "  inflating: rose/rose/308.jpg       \n",
            "  inflating: rose/rose/309.jpg       \n",
            "  inflating: rose/rose/310.jpg       \n",
            "  inflating: rose/rose/311.jpg       \n",
            "  inflating: rose/rose/312.jpg       \n",
            "  inflating: rose/rose/313.jpg       \n",
            "  inflating: rose/rose/314.jpg       \n",
            "  inflating: rose/rose/315.jpg       \n",
            "  inflating: rose/rose/317.jpg       \n",
            "  inflating: rose/rose/318.jpg       \n",
            "  inflating: rose/rose/320.jpg       \n",
            "  inflating: rose/rose/321.jpg       \n",
            "  inflating: rose/rose/322.jpg       \n",
            "  inflating: rose/rose/323.jpg       \n",
            "  inflating: rose/rose/324.jpg       \n",
            "  inflating: rose/rose/328.jpg       \n",
            "  inflating: rose/rose/329.jpg       \n",
            "  inflating: rose/rose/330.jpg       \n",
            "  inflating: rose/rose/331.jpg       \n",
            "  inflating: rose/rose/332.jpg       \n",
            "  inflating: rose/rose/334.jpg       \n",
            "  inflating: rose/rose/335.jpg       \n",
            "  inflating: rose/rose/336.jpg       \n",
            "  inflating: rose/rose/338.jpg       \n",
            "  inflating: rose/rose/341.jpg       \n",
            "  inflating: rose/rose/343.jpg       \n",
            "  inflating: rose/rose/346.jpg       \n",
            "  inflating: rose/rose/347.jpg       \n",
            "  inflating: rose/rose/348.jpg       \n",
            "  inflating: rose/rose/349.jpg       \n",
            "  inflating: rose/rose/351.jpg       \n",
            "  inflating: rose/rose/355.jpg       \n",
            "  inflating: rose/rose/356.jpg       \n",
            " extracting: rose/rose/.directory    \n"
          ],
          "name": "stdout"
        }
      ]
    },
    {
      "cell_type": "code",
      "metadata": {
        "id": "dTIp7UNIIzf8",
        "colab_type": "code",
        "colab": {
          "base_uri": "https://localhost:8080/",
          "height": 5746
        },
        "outputId": "79a19cd6-d07f-4da7-ef8c-0ead52f5a99f"
      },
      "source": [
        "!unzip not_rose.zip -d rose/"
      ],
      "execution_count": 20,
      "outputs": [
        {
          "output_type": "stream",
          "text": [
            "Archive:  not_rose.zip\n",
            "   creating: rose/not_rose/\n",
            "  inflating: rose/not_rose/0.jpg     \n",
            "  inflating: rose/not_rose/1.jpg     \n",
            "  inflating: rose/not_rose/2.jpg     \n",
            "  inflating: rose/not_rose/3.jpg     \n",
            "  inflating: rose/not_rose/4.jpg     \n",
            "  inflating: rose/not_rose/5.jpg     \n",
            "  inflating: rose/not_rose/8.jpg     \n",
            "  inflating: rose/not_rose/9.jpg     \n",
            "  inflating: rose/not_rose/10.jpg    \n",
            "  inflating: rose/not_rose/11.jpg    \n",
            "  inflating: rose/not_rose/12.jpg    \n",
            "  inflating: rose/not_rose/13.jpg    \n",
            "  inflating: rose/not_rose/14.jpg    \n",
            "  inflating: rose/not_rose/15.jpg    \n",
            "  inflating: rose/not_rose/16.jpg    \n",
            "  inflating: rose/not_rose/17.jpg    \n",
            "  inflating: rose/not_rose/18.jpg    \n",
            "  inflating: rose/not_rose/19.jpg    \n",
            "  inflating: rose/not_rose/20.jpg    \n",
            "  inflating: rose/not_rose/21.jpg    \n",
            "  inflating: rose/not_rose/22.jpg    \n",
            "  inflating: rose/not_rose/23.jpg    \n",
            "  inflating: rose/not_rose/24.jpg    \n",
            "  inflating: rose/not_rose/25.jpg    \n",
            "  inflating: rose/not_rose/26.jpg    \n",
            "  inflating: rose/not_rose/27.jpg    \n",
            "  inflating: rose/not_rose/28.jpg    \n",
            "  inflating: rose/not_rose/29.jpg    \n",
            "  inflating: rose/not_rose/30.jpg    \n",
            "  inflating: rose/not_rose/31.jpg    \n",
            "  inflating: rose/not_rose/32.jpg    \n",
            "  inflating: rose/not_rose/33.jpg    \n",
            "  inflating: rose/not_rose/34.jpg    \n",
            "  inflating: rose/not_rose/35.jpg    \n",
            "  inflating: rose/not_rose/36.jpg    \n",
            "  inflating: rose/not_rose/37.jpg    \n",
            "  inflating: rose/not_rose/38.jpg    \n",
            "  inflating: rose/not_rose/39.jpg    \n",
            "  inflating: rose/not_rose/40.jpg    \n",
            "  inflating: rose/not_rose/41.jpg    \n",
            "  inflating: rose/not_rose/42.jpg    \n",
            "  inflating: rose/not_rose/43.jpg    \n",
            "  inflating: rose/not_rose/44.jpg    \n",
            "  inflating: rose/not_rose/45.jpg    \n",
            "  inflating: rose/not_rose/46.jpg    \n",
            "  inflating: rose/not_rose/47.jpg    \n",
            "  inflating: rose/not_rose/49.jpg    \n",
            "  inflating: rose/not_rose/50.jpg    \n",
            "  inflating: rose/not_rose/51.jpg    \n",
            "  inflating: rose/not_rose/52.jpg    \n",
            "  inflating: rose/not_rose/53.jpg    \n",
            "  inflating: rose/not_rose/54.jpg    \n",
            "  inflating: rose/not_rose/56.jpg    \n",
            "  inflating: rose/not_rose/57.jpg    \n",
            "  inflating: rose/not_rose/58.jpg    \n",
            "  inflating: rose/not_rose/59.jpg    \n",
            "  inflating: rose/not_rose/60.jpg    \n",
            "  inflating: rose/not_rose/61.jpg    \n",
            "  inflating: rose/not_rose/62.jpg    \n",
            "  inflating: rose/not_rose/63.jpg    \n",
            "  inflating: rose/not_rose/64.jpg    \n",
            "  inflating: rose/not_rose/65.jpg    \n",
            "  inflating: rose/not_rose/67.jpg    \n",
            "  inflating: rose/not_rose/68.jpg    \n",
            "  inflating: rose/not_rose/69.jpg    \n",
            "  inflating: rose/not_rose/70.jpg    \n",
            "  inflating: rose/not_rose/72.jpg    \n",
            "  inflating: rose/not_rose/73.jpg    \n",
            "  inflating: rose/not_rose/74.jpg    \n",
            "  inflating: rose/not_rose/75.jpg    \n",
            "  inflating: rose/not_rose/76.jpg    \n",
            "  inflating: rose/not_rose/77.jpg    \n",
            "  inflating: rose/not_rose/78.jpg    \n",
            "  inflating: rose/not_rose/79.jpg    \n",
            "  inflating: rose/not_rose/80.jpg    \n",
            "  inflating: rose/not_rose/82.jpg    \n",
            "  inflating: rose/not_rose/83.jpg    \n",
            "  inflating: rose/not_rose/84.jpg    \n",
            "  inflating: rose/not_rose/85.jpg    \n",
            "  inflating: rose/not_rose/86.jpg    \n",
            "  inflating: rose/not_rose/87.jpg    \n",
            "  inflating: rose/not_rose/88.jpg    \n",
            "  inflating: rose/not_rose/89.jpg    \n",
            "  inflating: rose/not_rose/90.jpg    \n",
            "  inflating: rose/not_rose/91.jpg    \n",
            "  inflating: rose/not_rose/92.jpg    \n",
            "  inflating: rose/not_rose/93.jpg    \n",
            "  inflating: rose/not_rose/94.jpg    \n",
            "  inflating: rose/not_rose/95.jpg    \n",
            "  inflating: rose/not_rose/96.jpg    \n",
            "  inflating: rose/not_rose/97.jpg    \n",
            "  inflating: rose/not_rose/98.jpg    \n",
            "  inflating: rose/not_rose/99.jpg    \n",
            "  inflating: rose/not_rose/100.jpg   \n",
            "  inflating: rose/not_rose/101.jpg   \n",
            "  inflating: rose/not_rose/102.jpg   \n",
            "  inflating: rose/not_rose/103.jpg   \n",
            "  inflating: rose/not_rose/104.jpg   \n",
            "  inflating: rose/not_rose/105.jpg   \n",
            "  inflating: rose/not_rose/106.jpg   \n",
            "  inflating: rose/not_rose/107.jpg   \n",
            "  inflating: rose/not_rose/108.jpg   \n",
            "  inflating: rose/not_rose/109.jpg   \n",
            "  inflating: rose/not_rose/110.jpg   \n",
            "  inflating: rose/not_rose/111.jpg   \n",
            "  inflating: rose/not_rose/112.jpg   \n",
            "  inflating: rose/not_rose/113.jpg   \n",
            "  inflating: rose/not_rose/114.jpg   \n",
            "  inflating: rose/not_rose/115.jpg   \n",
            "  inflating: rose/not_rose/116.jpg   \n",
            "  inflating: rose/not_rose/117.jpg   \n",
            "  inflating: rose/not_rose/118.jpg   \n",
            "  inflating: rose/not_rose/119.jpg   \n",
            "  inflating: rose/not_rose/120.jpg   \n",
            "  inflating: rose/not_rose/121.jpg   \n",
            "  inflating: rose/not_rose/122.jpg   \n",
            "  inflating: rose/not_rose/123.jpg   \n",
            "  inflating: rose/not_rose/124.jpg   \n",
            "  inflating: rose/not_rose/125.jpg   \n",
            "  inflating: rose/not_rose/126.jpg   \n",
            "  inflating: rose/not_rose/127.jpg   \n",
            "  inflating: rose/not_rose/128.jpg   \n",
            "  inflating: rose/not_rose/129.jpg   \n",
            "  inflating: rose/not_rose/130.jpg   \n",
            "  inflating: rose/not_rose/131.jpg   \n",
            "  inflating: rose/not_rose/132.jpg   \n",
            "  inflating: rose/not_rose/133.jpg   \n",
            "  inflating: rose/not_rose/134.jpg   \n",
            "  inflating: rose/not_rose/135.jpg   \n",
            "  inflating: rose/not_rose/136.jpg   \n",
            "  inflating: rose/not_rose/137.jpg   \n",
            "  inflating: rose/not_rose/138.jpg   \n",
            "  inflating: rose/not_rose/139.jpg   \n",
            "  inflating: rose/not_rose/140.jpg   \n",
            "  inflating: rose/not_rose/141.jpg   \n",
            "  inflating: rose/not_rose/142.jpg   \n",
            "  inflating: rose/not_rose/143.jpg   \n",
            "  inflating: rose/not_rose/144.jpg   \n",
            "  inflating: rose/not_rose/146.jpg   \n",
            "  inflating: rose/not_rose/147.jpg   \n",
            "  inflating: rose/not_rose/148.jpg   \n",
            "  inflating: rose/not_rose/149.jpg   \n",
            "  inflating: rose/not_rose/150.jpg   \n",
            "  inflating: rose/not_rose/151.jpg   \n",
            "  inflating: rose/not_rose/152.jpg   \n",
            "  inflating: rose/not_rose/153.jpg   \n",
            "  inflating: rose/not_rose/154.jpg   \n",
            "  inflating: rose/not_rose/155.jpg   \n",
            "  inflating: rose/not_rose/156.jpg   \n",
            "  inflating: rose/not_rose/157.jpg   \n",
            "  inflating: rose/not_rose/158.jpg   \n",
            "  inflating: rose/not_rose/159.jpg   \n",
            "  inflating: rose/not_rose/160.jpg   \n",
            "  inflating: rose/not_rose/161.jpg   \n",
            "  inflating: rose/not_rose/162.jpg   \n",
            "  inflating: rose/not_rose/163.jpg   \n",
            "  inflating: rose/not_rose/164.jpg   \n",
            "  inflating: rose/not_rose/165.jpg   \n",
            "  inflating: rose/not_rose/166.jpg   \n",
            "  inflating: rose/not_rose/167.jpg   \n",
            "  inflating: rose/not_rose/168.jpg   \n",
            "  inflating: rose/not_rose/169.jpg   \n",
            "  inflating: rose/not_rose/170.jpg   \n",
            "  inflating: rose/not_rose/171.jpg   \n",
            "  inflating: rose/not_rose/172.jpg   \n",
            "  inflating: rose/not_rose/173.jpg   \n",
            "  inflating: rose/not_rose/174.jpg   \n",
            "  inflating: rose/not_rose/175.jpg   \n",
            "  inflating: rose/not_rose/176.jpg   \n",
            "  inflating: rose/not_rose/177.jpg   \n",
            "  inflating: rose/not_rose/178.jpg   \n",
            "  inflating: rose/not_rose/179.jpg   \n",
            "  inflating: rose/not_rose/180.jpg   \n",
            "  inflating: rose/not_rose/181.jpg   \n",
            "  inflating: rose/not_rose/182.jpg   \n",
            "  inflating: rose/not_rose/183.jpg   \n",
            "  inflating: rose/not_rose/184.jpg   \n",
            "  inflating: rose/not_rose/185.jpg   \n",
            "  inflating: rose/not_rose/186.jpg   \n",
            "  inflating: rose/not_rose/187.jpg   \n",
            "  inflating: rose/not_rose/188.jpg   \n",
            "  inflating: rose/not_rose/189.jpg   \n",
            "  inflating: rose/not_rose/190.jpg   \n",
            "  inflating: rose/not_rose/192.jpg   \n",
            "  inflating: rose/not_rose/193.jpg   \n",
            "  inflating: rose/not_rose/194.jpg   \n",
            "  inflating: rose/not_rose/195.jpg   \n",
            "  inflating: rose/not_rose/196.jpg   \n",
            "  inflating: rose/not_rose/197.jpg   \n",
            "  inflating: rose/not_rose/198.jpg   \n",
            "  inflating: rose/not_rose/200.jpg   \n",
            "  inflating: rose/not_rose/201.jpg   \n",
            "  inflating: rose/not_rose/202.jpg   \n",
            "  inflating: rose/not_rose/203.jpg   \n",
            "  inflating: rose/not_rose/204.jpg   \n",
            "  inflating: rose/not_rose/205.jpg   \n",
            "  inflating: rose/not_rose/206.jpg   \n",
            "  inflating: rose/not_rose/207.jpg   \n",
            "  inflating: rose/not_rose/208.jpg   \n",
            "  inflating: rose/not_rose/209.jpg   \n",
            "  inflating: rose/not_rose/210.jpg   \n",
            "  inflating: rose/not_rose/211.jpg   \n",
            "  inflating: rose/not_rose/212.jpg   \n",
            "  inflating: rose/not_rose/213.jpg   \n",
            "  inflating: rose/not_rose/214.jpg   \n",
            "  inflating: rose/not_rose/215.jpg   \n",
            "  inflating: rose/not_rose/217.jpg   \n",
            "  inflating: rose/not_rose/218.jpg   \n",
            "  inflating: rose/not_rose/219.jpg   \n",
            "  inflating: rose/not_rose/220.jpg   \n",
            "  inflating: rose/not_rose/221.jpg   \n",
            "  inflating: rose/not_rose/222.jpg   \n",
            "  inflating: rose/not_rose/223.jpg   \n",
            "  inflating: rose/not_rose/224.jpg   \n",
            "  inflating: rose/not_rose/225.jpg   \n",
            "  inflating: rose/not_rose/226.jpg   \n",
            "  inflating: rose/not_rose/227.jpg   \n",
            "  inflating: rose/not_rose/228.jpg   \n",
            "  inflating: rose/not_rose/229.jpg   \n",
            "  inflating: rose/not_rose/230.jpg   \n",
            "  inflating: rose/not_rose/231.jpg   \n",
            "  inflating: rose/not_rose/232.jpg   \n",
            "  inflating: rose/not_rose/233.jpg   \n",
            "  inflating: rose/not_rose/234.jpg   \n",
            "  inflating: rose/not_rose/235.jpg   \n",
            "  inflating: rose/not_rose/237.jpg   \n",
            "  inflating: rose/not_rose/238.jpg   \n",
            "  inflating: rose/not_rose/239.jpg   \n",
            "  inflating: rose/not_rose/240.jpg   \n",
            "  inflating: rose/not_rose/241.jpg   \n",
            "  inflating: rose/not_rose/242.jpg   \n",
            "  inflating: rose/not_rose/243.jpg   \n",
            "  inflating: rose/not_rose/244.jpg   \n",
            "  inflating: rose/not_rose/246.jpg   \n",
            "  inflating: rose/not_rose/247.jpg   \n",
            "  inflating: rose/not_rose/248.jpg   \n",
            "  inflating: rose/not_rose/249.jpg   \n",
            "  inflating: rose/not_rose/250.jpg   \n",
            "  inflating: rose/not_rose/251.jpg   \n",
            "  inflating: rose/not_rose/252.jpg   \n",
            "  inflating: rose/not_rose/253.jpg   \n",
            "  inflating: rose/not_rose/254.jpg   \n",
            "  inflating: rose/not_rose/255.jpg   \n",
            "  inflating: rose/not_rose/256.jpg   \n",
            "  inflating: rose/not_rose/257.jpg   \n",
            "  inflating: rose/not_rose/258.jpg   \n",
            "  inflating: rose/not_rose/259.jpg   \n",
            "  inflating: rose/not_rose/260.jpg   \n",
            "  inflating: rose/not_rose/261.jpg   \n",
            "  inflating: rose/not_rose/262.jpg   \n",
            "  inflating: rose/not_rose/263.jpg   \n",
            "  inflating: rose/not_rose/264.jpg   \n",
            "  inflating: rose/not_rose/265.jpg   \n",
            "  inflating: rose/not_rose/266.jpg   \n",
            "  inflating: rose/not_rose/267.jpg   \n",
            "  inflating: rose/not_rose/268.jpg   \n",
            "  inflating: rose/not_rose/269.jpg   \n",
            "  inflating: rose/not_rose/271.jpg   \n",
            "  inflating: rose/not_rose/272.jpg   \n",
            "  inflating: rose/not_rose/274.jpg   \n",
            "  inflating: rose/not_rose/277.jpg   \n",
            "  inflating: rose/not_rose/278.jpg   \n",
            "  inflating: rose/not_rose/279.jpg   \n",
            "  inflating: rose/not_rose/280.jpg   \n",
            "  inflating: rose/not_rose/281.jpg   \n",
            "  inflating: rose/not_rose/282.jpg   \n",
            "  inflating: rose/not_rose/283.jpg   \n",
            "  inflating: rose/not_rose/284.jpg   \n",
            "  inflating: rose/not_rose/285.jpg   \n",
            "  inflating: rose/not_rose/286.jpg   \n",
            "  inflating: rose/not_rose/287.jpg   \n",
            "  inflating: rose/not_rose/288.jpg   \n",
            "  inflating: rose/not_rose/289.jpg   \n",
            "  inflating: rose/not_rose/290.jpg   \n",
            "  inflating: rose/not_rose/291.jpg   \n",
            "  inflating: rose/not_rose/292.jpg   \n",
            "  inflating: rose/not_rose/293.jpg   \n",
            "  inflating: rose/not_rose/294.jpg   \n",
            "  inflating: rose/not_rose/295.jpg   \n",
            "  inflating: rose/not_rose/296.jpg   \n",
            "  inflating: rose/not_rose/297.jpg   \n",
            "  inflating: rose/not_rose/298.jpg   \n",
            "  inflating: rose/not_rose/299.jpg   \n",
            "  inflating: rose/not_rose/300.jpg   \n",
            "  inflating: rose/not_rose/301.jpg   \n",
            "  inflating: rose/not_rose/302.jpg   \n",
            "  inflating: rose/not_rose/303.jpg   \n",
            "  inflating: rose/not_rose/304.jpg   \n",
            "  inflating: rose/not_rose/305.jpg   \n",
            "  inflating: rose/not_rose/306.jpg   \n",
            "  inflating: rose/not_rose/307.jpg   \n",
            "  inflating: rose/not_rose/308.jpg   \n",
            "  inflating: rose/not_rose/309.jpg   \n",
            "  inflating: rose/not_rose/310.jpg   \n",
            "  inflating: rose/not_rose/311.jpg   \n",
            "  inflating: rose/not_rose/312.jpg   \n",
            "  inflating: rose/not_rose/313.jpg   \n",
            "  inflating: rose/not_rose/315.jpg   \n",
            "  inflating: rose/not_rose/316.jpg   \n",
            "  inflating: rose/not_rose/318.jpg   \n",
            "  inflating: rose/not_rose/319.jpg   \n",
            "  inflating: rose/not_rose/320.jpg   \n",
            "  inflating: rose/not_rose/321.jpg   \n",
            "  inflating: rose/not_rose/322.jpg   \n",
            "  inflating: rose/not_rose/323.jpg   \n",
            "  inflating: rose/not_rose/324.jpg   \n",
            "  inflating: rose/not_rose/325.jpg   \n",
            "  inflating: rose/not_rose/326.jpg   \n",
            "  inflating: rose/not_rose/328.jpg   \n",
            "  inflating: rose/not_rose/330.jpg   \n",
            "  inflating: rose/not_rose/331.jpg   \n",
            "  inflating: rose/not_rose/334.jpg   \n",
            "  inflating: rose/not_rose/335.jpg   \n",
            "  inflating: rose/not_rose/337.jpg   \n",
            "  inflating: rose/not_rose/339.jpg   \n",
            "  inflating: rose/not_rose/341.jpg   \n",
            "  inflating: rose/not_rose/342.jpg   \n",
            "  inflating: rose/not_rose/343.jpg   \n",
            "  inflating: rose/not_rose/344.jpg   \n",
            "  inflating: rose/not_rose/346.jpg   \n",
            "  inflating: rose/not_rose/347.jpg   \n",
            "  inflating: rose/not_rose/349.jpg   \n",
            "  inflating: rose/not_rose/352.jpg   \n",
            "  inflating: rose/not_rose/354.jpg   \n",
            "  inflating: rose/not_rose/355.jpg   \n",
            "  inflating: rose/not_rose/356.jpg   \n",
            "  inflating: rose/not_rose/357.jpg   \n",
            "  inflating: rose/not_rose/358.jpg   \n",
            "  inflating: rose/not_rose/359.jpg   \n",
            "  inflating: rose/not_rose/361.jpg   \n",
            "  inflating: rose/not_rose/362.jpg   \n",
            "  inflating: rose/not_rose/363.jpg   \n",
            "  inflating: rose/not_rose/364.jpg   \n",
            "  inflating: rose/not_rose/368.jpg   \n",
            "  inflating: rose/not_rose/370.jpg   \n"
          ],
          "name": "stdout"
        }
      ]
    },
    {
      "cell_type": "markdown",
      "metadata": {
        "id": "IOK6S0KNAmwz",
        "colab_type": "text"
      },
      "source": [
        "# Using keras"
      ]
    },
    {
      "cell_type": "code",
      "metadata": {
        "id": "N5vZCqpxbyhc",
        "colab_type": "code",
        "colab": {
          "base_uri": "https://localhost:8080/",
          "height": 269
        },
        "outputId": "71ec3ac4-3d70-424d-eeb2-dfe5b5bc177d"
      },
      "source": [
        "import matplotlib.pyplot as plt\n",
        "import matplotlib.image as mpimg\n",
        "import numpy as np\n",
        "\n",
        "img = mpimg.imread('rose/rose/0.jpg')\n",
        "imgplot = plt.imshow(img)\n",
        "plt.show()"
      ],
      "execution_count": 12,
      "outputs": [
        {
          "output_type": "display_data",
          "data": {
            "image/png": "[encoded data removed]",
            "text/plain": [
              "<Figure size 432x288 with 1 Axes>"
            ]
          },
          "metadata": {
            "tags": []
          }
        }
      ]
    },
    {
      "cell_type": "code",
      "metadata": {
        "id": "glCRDR0YCeTa",
        "colab_type": "code",
        "colab": {
          "base_uri": "https://localhost:8080/",
          "height": 34
        },
        "outputId": "c502b3aa-06c7-4f57-f215-ac0fe24118db"
      },
      "source": [
        "from keras.models import Sequential\n",
        "from keras.layers.convolutional import Conv2D\n",
        "from keras.layers.convolutional import MaxPooling2D\n",
        "from keras.layers.core import Activation\n",
        "from keras.layers.core import Flatten\n",
        "from keras.layers.core import Dense\n",
        "from keras import backend as K"
      ],
      "execution_count": 13,
      "outputs": [
        {
          "output_type": "stream",
          "text": [
            "Using TensorFlow backend.\n"
          ],
          "name": "stderr"
        }
      ]
    },
    {
      "cell_type": "code",
      "metadata": {
        "id": "FG0R4NriK7dy",
        "colab_type": "code",
        "colab": {}
      },
      "source": [
        "import matplotlib\n",
        "matplotlib.use(\"Agg\")\n",
        "\n",
        "from keras.preprocessing.image import ImageDataGenerator\n",
        "from keras.optimizers import Adam\n",
        "from sklearn.model_selection import train_test_split\n",
        "from keras.preprocessing.image import img_to_array\n",
        "from keras.utils import to_categorical\n",
        "from imutils import paths\n",
        "import matplotlib.pyplot as plt\n",
        "import numpy as np\n",
        "import random\n",
        "import cv2\n",
        "import os"
      ],
      "execution_count": 0,
      "outputs": []
    },
    {
      "cell_type": "code",
      "metadata": {
        "id": "j4vNtqFzCony",
        "colab_type": "code",
        "colab": {}
      },
      "source": [
        "class LeNet:\n",
        "  @staticmethod\n",
        "  def build(width, height, depth, classes):\n",
        "    inputShape = (height, width, depth)\n",
        "    \n",
        "    if K.image_data_format() == \"channels_first\":\n",
        "      inputShape = (depth, height, width)\n",
        "    \n",
        "    model = Sequential()\n",
        "    \n",
        "    # first block of conv -> activation -> maxpool\n",
        "    model.add(Conv2D(20, (5, 5), padding=\"same\", input_shape=inputShape))\n",
        "    model.add(Activation(\"relu\"))\n",
        "    model.add(MaxPooling2D(pool_size=(2, 2)))\n",
        "    \n",
        "    # second block of conv -> activation -> maxpool\n",
        "    model.add(Conv2D(50, (5, 5), padding=\"same\"))\n",
        "    model.add(Activation(\"relu\"))\n",
        "    model.add(MaxPooling2D(pool_size=(2, 2), strides=(2, 2)))\n",
        "    \n",
        "    # FC layer\n",
        "    model.add(Flatten())\n",
        "    model.add(Dense(500))\n",
        "    model.add(Activation(\"relu\"))\n",
        "    \n",
        "    # Classifier layer\n",
        "    model.add(Dense(classes))\n",
        "    model.add(Activation(\"softmax\"))\n",
        "    \n",
        "    return model"
      ],
      "execution_count": 0,
      "outputs": []
    },
    {
      "cell_type": "code",
      "metadata": {
        "id": "u77c5L8qCola",
        "colab_type": "code",
        "colab": {}
      },
      "source": [
        "epochs = 25 # epochs\n",
        "init_lr = 1e-3 # learning rate\n",
        "batch_size = 32 # batch_size"
      ],
      "execution_count": 0,
      "outputs": []
    },
    {
      "cell_type": "code",
      "metadata": {
        "id": "4AO9y77GCoeb",
        "colab_type": "code",
        "colab": {}
      },
      "source": [
        "data = []\n",
        "labels = []"
      ],
      "execution_count": 0,
      "outputs": []
    },
    {
      "cell_type": "code",
      "metadata": {
        "id": "q5IzNp0lCocB",
        "colab_type": "code",
        "colab": {
          "base_uri": "https://localhost:8080/",
          "height": 187
        },
        "outputId": "185c6eb8-c895-4a3e-f5a3-c019a9b27a9f"
      },
      "source": [
        "image_paths = sorted(list(paths.list_images('rose/')))\n",
        "image_paths[:5], image_paths[-5:]"
      ],
      "execution_count": 25,
      "outputs": [
        {
          "output_type": "execute_result",
          "data": {
            "text/plain": [
              "(['rose/not_rose/0.jpg',\n",
              "  'rose/not_rose/1.jpg',\n",
              "  'rose/not_rose/10.jpg',\n",
              "  'rose/not_rose/100.jpg',\n",
              "  'rose/not_rose/101.jpg'],\n",
              " ['rose/rose/95.jpg',\n",
              "  'rose/rose/96.jpg',\n",
              "  'rose/rose/97.jpg',\n",
              "  'rose/rose/98.jpg',\n",
              "  'rose/rose/99.jpg'])"
            ]
          },
          "metadata": {
            "tags": []
          },
          "execution_count": 25
        }
      ]
    },
    {
      "cell_type": "code",
      "metadata": {
        "id": "TtR8wNOACoZh",
        "colab_type": "code",
        "colab": {}
      },
      "source": [
        "random.seed(0)\n",
        "random.shuffle(image_paths)"
      ],
      "execution_count": 0,
      "outputs": []
    },
    {
      "cell_type": "code",
      "metadata": {
        "id": "COiPDb1sM4ug",
        "colab_type": "code",
        "colab": {
          "base_uri": "https://localhost:8080/",
          "height": 34
        },
        "outputId": "b932632d-b030-472c-df37-6f769259d56e"
      },
      "source": [
        "image_paths[-1].split(os.path.sep)[-2]"
      ],
      "execution_count": 28,
      "outputs": [
        {
          "output_type": "execute_result",
          "data": {
            "text/plain": [
              "'rose'"
            ]
          },
          "metadata": {
            "tags": []
          },
          "execution_count": 28
        }
      ]
    },
    {
      "cell_type": "code",
      "metadata": {
        "id": "cpeXrxDFMbWX",
        "colab_type": "code",
        "colab": {}
      },
      "source": [
        "for image_path in image_paths:\n",
        "  image = cv2.imread(image_path)\n",
        "  image = cv2.resize(image, (28, 28))\n",
        "  image = img_to_array(image)\n",
        "  data.append(image)\n",
        "  \n",
        "  label = image_path.split(os.path.sep)[-2]\n",
        "  label = 1 if label == 'rose' else 0\n",
        "  labels.append(label)"
      ],
      "execution_count": 0,
      "outputs": []
    },
    {
      "cell_type": "code",
      "metadata": {
        "id": "GGCceVB9TQ0o",
        "colab_type": "code",
        "colab": {
          "base_uri": "https://localhost:8080/",
          "height": 34
        },
        "outputId": "62d3b623-14ec-457d-d22e-96dd493660fc"
      },
      "source": [
        "len(data), len(labels)"
      ],
      "execution_count": 32,
      "outputs": [
        {
          "output_type": "execute_result",
          "data": {
            "text/plain": [
              "(660, 660)"
            ]
          },
          "metadata": {
            "tags": []
          },
          "execution_count": 32
        }
      ]
    },
    {
      "cell_type": "code",
      "metadata": {
        "id": "4TTGYi03Tf0J",
        "colab_type": "code",
        "colab": {
          "base_uri": "https://localhost:8080/",
          "height": 34
        },
        "outputId": "1ddc1e80-2829-4819-8525-6deb6aed6ded"
      },
      "source": [
        "data = np.array(data, dtype=\"float\") / 255.0\n",
        "labels = np.array(labels)\n",
        "\n",
        "data.shape, labels.shape"
      ],
      "execution_count": 33,
      "outputs": [
        {
          "output_type": "execute_result",
          "data": {
            "text/plain": [
              "((660, 28, 28, 3), (660,))"
            ]
          },
          "metadata": {
            "tags": []
          },
          "execution_count": 33
        }
      ]
    },
    {
      "cell_type": "code",
      "metadata": {
        "id": "ZYfOhSmZTsXL",
        "colab_type": "code",
        "colab": {
          "base_uri": "https://localhost:8080/",
          "height": 34
        },
        "outputId": "e8361729-632d-4a1f-d3a8-cc9b4efcfb3a"
      },
      "source": [
        "x_train, x_test, y_train, y_test = train_test_split(data, labels, test_size=0.25, random_state=42)\n",
        "\n",
        "x_train.shape, x_test.shape, y_train.shape, y_test.shape"
      ],
      "execution_count": 51,
      "outputs": [
        {
          "output_type": "execute_result",
          "data": {
            "text/plain": [
              "((495, 28, 28, 3), (165, 28, 28, 3), (495,), (165,))"
            ]
          },
          "metadata": {
            "tags": []
          },
          "execution_count": 51
        }
      ]
    },
    {
      "cell_type": "code",
      "metadata": {
        "id": "xYv4ibIFYbx_",
        "colab_type": "code",
        "colab": {}
      },
      "source": [
        ""
      ],
      "execution_count": 0,
      "outputs": []
    },
    {
      "cell_type": "code",
      "metadata": {
        "id": "m7EM0utvUDtF",
        "colab_type": "code",
        "colab": {
          "base_uri": "https://localhost:8080/",
          "height": 34
        },
        "outputId": "1ca07362-a220-44c0-cdb7-0f84e1451480"
      },
      "source": [
        "y_train = to_categorical(y_train, num_classes=2)\n",
        "y_test = to_categorical(y_test, num_classes=2)\n",
        "\n",
        "y_train.shape, y_test.shape"
      ],
      "execution_count": 52,
      "outputs": [
        {
          "output_type": "execute_result",
          "data": {
            "text/plain": [
              "((495, 2), (165, 2))"
            ]
          },
          "metadata": {
            "tags": []
          },
          "execution_count": 52
        }
      ]
    },
    {
      "cell_type": "code",
      "metadata": {
        "id": "Vs1XClXbUTSW",
        "colab_type": "code",
        "colab": {}
      },
      "source": [
        "# data augmentation\n",
        "aug = ImageDataGenerator(\n",
        "    rotation_range=30,\n",
        "    width_shift_range=0.1,\n",
        "    height_shift_range=0.1,\n",
        "    shear_range=0.2,\n",
        "    zoom_range=0.2,\n",
        "    horizontal_flip=True,\n",
        "    fill_mode=\"nearest\"\n",
        ")"
      ],
      "execution_count": 0,
      "outputs": []
    },
    {
      "cell_type": "code",
      "metadata": {
        "id": "BJyvSmtMUvzj",
        "colab_type": "code",
        "colab": {
          "base_uri": "https://localhost:8080/",
          "height": 88
        },
        "outputId": "8d58e20e-c4d5-43dd-9089-5b547386a5b7"
      },
      "source": [
        "model = LeNet.build(width=28, height=28, depth=3, classes=2)\n",
        "opt = Adam(lr=init_lr, decay=init_lr/epochs)"
      ],
      "execution_count": 38,
      "outputs": [
        {
          "output_type": "stream",
          "text": [
            "WARNING:tensorflow:From /usr/local/lib/python3.6/dist-packages/tensorflow/python/framework/op_def_library.py:263: colocate_with (from tensorflow.python.framework.ops) is deprecated and will be removed in a future version.\n",
            "Instructions for updating:\n",
            "Colocations handled automatically by placer.\n"
          ],
          "name": "stdout"
        }
      ]
    },
    {
      "cell_type": "code",
      "metadata": {
        "id": "kDbh0xzwU_8F",
        "colab_type": "code",
        "colab": {
          "base_uri": "https://localhost:8080/",
          "height": 564
        },
        "outputId": "3d4a6ad3-d184-43d6-c0e9-936753b11da9"
      },
      "source": [
        "from tensorflow.python.client import device_lib\n",
        "print(device_lib.list_local_devices())"
      ],
      "execution_count": 39,
      "outputs": [
        {
          "output_type": "stream",
          "text": [
            "[name: \"/device:CPU:0\"\n",
            "device_type: \"CPU\"\n",
            "memory_limit: 268435456\n",
            "locality {\n",
            "}\n",
            "incarnation: 17284112998099440745\n",
            ", name: \"/device:XLA_CPU:0\"\n",
            "device_type: \"XLA_CPU\"\n",
            "memory_limit: 17179869184\n",
            "locality {\n",
            "}\n",
            "incarnation: 5980707516349752068\n",
            "physical_device_desc: \"device: XLA_CPU device\"\n",
            ", name: \"/device:XLA_GPU:0\"\n",
            "device_type: \"XLA_GPU\"\n",
            "memory_limit: 17179869184\n",
            "locality {\n",
            "}\n",
            "incarnation: 3788344171694603363\n",
            "physical_device_desc: \"device: XLA_GPU device\"\n",
            ", name: \"/device:GPU:0\"\n",
            "device_type: \"GPU\"\n",
            "memory_limit: 11276946637\n",
            "locality {\n",
            "  bus_id: 1\n",
            "  links {\n",
            "  }\n",
            "}\n",
            "incarnation: 4023007285654762305\n",
            "physical_device_desc: \"device: 0, name: Tesla K80, pci bus id: 0000:00:04.0, compute capability: 3.7\"\n",
            "]\n"
          ],
          "name": "stdout"
        }
      ]
    },
    {
      "cell_type": "code",
      "metadata": {
        "id": "VLOUGlo2VnMg",
        "colab_type": "code",
        "colab": {
          "base_uri": "https://localhost:8080/",
          "height": 34
        },
        "outputId": "27470da1-a782-466b-d637-c743b263a384"
      },
      "source": [
        "from keras import backend as K\n",
        "K.tensorflow_backend._get_available_gpus()"
      ],
      "execution_count": 40,
      "outputs": [
        {
          "output_type": "execute_result",
          "data": {
            "text/plain": [
              "['/job:localhost/replica:0/task:0/device:GPU:0']"
            ]
          },
          "metadata": {
            "tags": []
          },
          "execution_count": 40
        }
      ]
    },
    {
      "cell_type": "code",
      "metadata": {
        "id": "lf_mIoonVs7g",
        "colab_type": "code",
        "colab": {}
      },
      "source": [
        "# import tensorflow as tf\n",
        "# import keras\n",
        "\n",
        "\n",
        "# config = tf.ConfigProto( device_count = {'GPU': 2 , 'CPU': 2} ) \n",
        "# sess = tf.Session(config=config) \n",
        "# keras.backend.set_session(sess)"
      ],
      "execution_count": 0,
      "outputs": []
    },
    {
      "cell_type": "code",
      "metadata": {
        "id": "oX9WWH_6V8JU",
        "colab_type": "code",
        "colab": {}
      },
      "source": [
        "model.compile(loss=\"binary_crossentropy\", optimizer=opt, metrics=[\"accuracy\"])"
      ],
      "execution_count": 0,
      "outputs": []
    },
    {
      "cell_type": "code",
      "metadata": {
        "id": "GBSU0ZkNWu7Q",
        "colab_type": "code",
        "colab": {
          "base_uri": "https://localhost:8080/",
          "height": 34
        },
        "outputId": "92404ed6-e279-482f-e8f9-db0a5e07d699"
      },
      "source": [
        "model"
      ],
      "execution_count": 44,
      "outputs": [
        {
          "output_type": "execute_result",
          "data": {
            "text/plain": [
              "<keras.engine.sequential.Sequential at 0x7f4b3653f358>"
            ]
          },
          "metadata": {
            "tags": []
          },
          "execution_count": 44
        }
      ]
    },
    {
      "cell_type": "code",
      "metadata": {
        "id": "mNK3WQmVWwAK",
        "colab_type": "code",
        "colab": {
          "base_uri": "https://localhost:8080/",
          "height": 510
        },
        "outputId": "7d12992a-6703-4fc7-8d0e-57403bf470b0"
      },
      "source": [
        "model.summary()"
      ],
      "execution_count": 45,
      "outputs": [
        {
          "output_type": "stream",
          "text": [
            "_________________________________________________________________\n",
            "Layer (type)                 Output Shape              Param #   \n",
            "=================================================================\n",
            "conv2d_1 (Conv2D)            (None, 28, 28, 20)        1520      \n",
            "_________________________________________________________________\n",
            "activation_1 (Activation)    (None, 28, 28, 20)        0         \n",
            "_________________________________________________________________\n",
            "max_pooling2d_1 (MaxPooling2 (None, 14, 14, 20)        0         \n",
            "_________________________________________________________________\n",
            "conv2d_2 (Conv2D)            (None, 14, 14, 50)        25050     \n",
            "_________________________________________________________________\n",
            "activation_2 (Activation)    (None, 14, 14, 50)        0         \n",
            "_________________________________________________________________\n",
            "max_pooling2d_2 (MaxPooling2 (None, 7, 7, 50)          0         \n",
            "_________________________________________________________________\n",
            "flatten_1 (Flatten)          (None, 2450)              0         \n",
            "_________________________________________________________________\n",
            "dense_1 (Dense)              (None, 500)               1225500   \n",
            "_________________________________________________________________\n",
            "activation_3 (Activation)    (None, 500)               0         \n",
            "_________________________________________________________________\n",
            "dense_2 (Dense)              (None, 2)                 1002      \n",
            "_________________________________________________________________\n",
            "activation_4 (Activation)    (None, 2)                 0         \n",
            "=================================================================\n",
            "Total params: 1,253,072\n",
            "Trainable params: 1,253,072\n",
            "Non-trainable params: 0\n",
            "_________________________________________________________________\n"
          ],
          "name": "stdout"
        }
      ]
    },
    {
      "cell_type": "code",
      "metadata": {
        "id": "NUooKui6Wz2Z",
        "colab_type": "code",
        "colab": {
          "base_uri": "https://localhost:8080/",
          "height": 428
        },
        "outputId": "958a1cda-4fe8-422d-8b4f-bd3ead86e195"
      },
      "source": [
        "# training model\n",
        "H = model.fit_generator(\n",
        "    aug.flow(\n",
        "        x_train,\n",
        "        y_train,\n",
        "        batch_size=batch_size\n",
        "    ),\n",
        "    validation_data=(x_test, y_test),\n",
        "    steps_per_epoch=len(x_train) // batch_size,\n",
        "    epochs=epochs,\n",
        "    verbose=2\n",
        ")"
      ],
      "execution_count": 53,
      "outputs": [
        {
          "output_type": "stream",
          "text": [
            "Epoch 1/25\n"
          ],
          "name": "stdout"
        },
        {
          "output_type": "error",
          "ename": "FailedPreconditionError",
          "evalue": "ignored",
          "traceback": [
            "\u001b[0;31m---------------------------------------------------------------------------\u001b[0m",
            "\u001b[0;31mFailedPreconditionError\u001b[0m                   Traceback (most recent call last)",
            "\u001b[0;32m<ipython-input-53-567a852b1577>\u001b[0m in \u001b[0;36m<module>\u001b[0;34m()\u001b[0m\n\u001b[1;32m      8\u001b[0m     \u001b[0msteps_per_epoch\u001b[0m\u001b[0;34m=\u001b[0m\u001b[0mlen\u001b[0m\u001b[0;34m(\u001b[0m\u001b[0mx_train\u001b[0m\u001b[0;34m)\u001b[0m \u001b[0;34m//\u001b[0m \u001b[0mbatch_size\u001b[0m\u001b[0;34m,\u001b[0m\u001b[0;34m\u001b[0m\u001b[0;34m\u001b[0m\u001b[0m\n\u001b[1;32m      9\u001b[0m     \u001b[0mepochs\u001b[0m\u001b[0;34m=\u001b[0m\u001b[0mepochs\u001b[0m\u001b[0;34m,\u001b[0m\u001b[0;34m\u001b[0m\u001b[0;34m\u001b[0m\u001b[0m\n\u001b[0;32m---> 10\u001b[0;31m     \u001b[0mverbose\u001b[0m\u001b[0;34m=\u001b[0m\u001b[0;36m2\u001b[0m\u001b[0;34m\u001b[0m\u001b[0;34m\u001b[0m\u001b[0m\n\u001b[0m\u001b[1;32m     11\u001b[0m )\n",
            "\u001b[0;32m/usr/local/lib/python3.6/dist-packages/keras/legacy/interfaces.py\u001b[0m in \u001b[0;36mwrapper\u001b[0;34m(*args, **kwargs)\u001b[0m\n\u001b[1;32m     89\u001b[0m                 warnings.warn('Update your `' + object_name + '` call to the ' +\n\u001b[1;32m     90\u001b[0m                               'Keras 2 API: ' + signature, stacklevel=2)\n\u001b[0;32m---> 91\u001b[0;31m             \u001b[0;32mreturn\u001b[0m \u001b[0mfunc\u001b[0m\u001b[0;34m(\u001b[0m\u001b[0;34m*\u001b[0m\u001b[0margs\u001b[0m\u001b[0;34m,\u001b[0m \u001b[0;34m**\u001b[0m\u001b[0mkwargs\u001b[0m\u001b[0;34m)\u001b[0m\u001b[0;34m\u001b[0m\u001b[0;34m\u001b[0m\u001b[0m\n\u001b[0m\u001b[1;32m     92\u001b[0m         \u001b[0mwrapper\u001b[0m\u001b[0;34m.\u001b[0m\u001b[0m_original_function\u001b[0m \u001b[0;34m=\u001b[0m \u001b[0mfunc\u001b[0m\u001b[0;34m\u001b[0m\u001b[0;34m\u001b[0m\u001b[0m\n\u001b[1;32m     93\u001b[0m         \u001b[0;32mreturn\u001b[0m \u001b[0mwrapper\u001b[0m\u001b[0;34m\u001b[0m\u001b[0;34m\u001b[0m\u001b[0m\n",
            "\u001b[0;32m/usr/local/lib/python3.6/dist-packages/keras/engine/training.py\u001b[0m in \u001b[0;36mfit_generator\u001b[0;34m(self, generator, steps_per_epoch, epochs, verbose, callbacks, validation_data, validation_steps, class_weight, max_queue_size, workers, use_multiprocessing, shuffle, initial_epoch)\u001b[0m\n\u001b[1;32m   1416\u001b[0m             \u001b[0muse_multiprocessing\u001b[0m\u001b[0;34m=\u001b[0m\u001b[0muse_multiprocessing\u001b[0m\u001b[0;34m,\u001b[0m\u001b[0;34m\u001b[0m\u001b[0;34m\u001b[0m\u001b[0m\n\u001b[1;32m   1417\u001b[0m             \u001b[0mshuffle\u001b[0m\u001b[0;34m=\u001b[0m\u001b[0mshuffle\u001b[0m\u001b[0;34m,\u001b[0m\u001b[0;34m\u001b[0m\u001b[0;34m\u001b[0m\u001b[0m\n\u001b[0;32m-> 1418\u001b[0;31m             initial_epoch=initial_epoch)\n\u001b[0m\u001b[1;32m   1419\u001b[0m \u001b[0;34m\u001b[0m\u001b[0m\n\u001b[1;32m   1420\u001b[0m     \u001b[0;34m@\u001b[0m\u001b[0minterfaces\u001b[0m\u001b[0;34m.\u001b[0m\u001b[0mlegacy_generator_methods_support\u001b[0m\u001b[0;34m\u001b[0m\u001b[0;34m\u001b[0m\u001b[0m\n",
            "\u001b[0;32m/usr/local/lib/python3.6/dist-packages/keras/engine/training_generator.py\u001b[0m in \u001b[0;36mfit_generator\u001b[0;34m(model, generator, steps_per_epoch, epochs, verbose, callbacks, validation_data, validation_steps, class_weight, max_queue_size, workers, use_multiprocessing, shuffle, initial_epoch)\u001b[0m\n\u001b[1;32m    215\u001b[0m                 outs = model.train_on_batch(x, y,\n\u001b[1;32m    216\u001b[0m                                             \u001b[0msample_weight\u001b[0m\u001b[0;34m=\u001b[0m\u001b[0msample_weight\u001b[0m\u001b[0;34m,\u001b[0m\u001b[0;34m\u001b[0m\u001b[0;34m\u001b[0m\u001b[0m\n\u001b[0;32m--> 217\u001b[0;31m                                             class_weight=class_weight)\n\u001b[0m\u001b[1;32m    218\u001b[0m \u001b[0;34m\u001b[0m\u001b[0m\n\u001b[1;32m    219\u001b[0m                 \u001b[0mouts\u001b[0m \u001b[0;34m=\u001b[0m \u001b[0mto_list\u001b[0m\u001b[0;34m(\u001b[0m\u001b[0mouts\u001b[0m\u001b[0;34m)\u001b[0m\u001b[0;34m\u001b[0m\u001b[0;34m\u001b[0m\u001b[0m\n",
            "\u001b[0;32m/usr/local/lib/python3.6/dist-packages/keras/engine/training.py\u001b[0m in \u001b[0;36mtrain_on_batch\u001b[0;34m(self, x, y, sample_weight, class_weight)\u001b[0m\n\u001b[1;32m   1215\u001b[0m             \u001b[0mins\u001b[0m \u001b[0;34m=\u001b[0m \u001b[0mx\u001b[0m \u001b[0;34m+\u001b[0m \u001b[0my\u001b[0m \u001b[0;34m+\u001b[0m \u001b[0msample_weights\u001b[0m\u001b[0;34m\u001b[0m\u001b[0;34m\u001b[0m\u001b[0m\n\u001b[1;32m   1216\u001b[0m         \u001b[0mself\u001b[0m\u001b[0;34m.\u001b[0m\u001b[0m_make_train_function\u001b[0m\u001b[0;34m(\u001b[0m\u001b[0;34m)\u001b[0m\u001b[0;34m\u001b[0m\u001b[0;34m\u001b[0m\u001b[0m\n\u001b[0;32m-> 1217\u001b[0;31m         \u001b[0moutputs\u001b[0m \u001b[0;34m=\u001b[0m \u001b[0mself\u001b[0m\u001b[0;34m.\u001b[0m\u001b[0mtrain_function\u001b[0m\u001b[0;34m(\u001b[0m\u001b[0mins\u001b[0m\u001b[0;34m)\u001b[0m\u001b[0;34m\u001b[0m\u001b[0;34m\u001b[0m\u001b[0m\n\u001b[0m\u001b[1;32m   1218\u001b[0m         \u001b[0;32mreturn\u001b[0m \u001b[0munpack_singleton\u001b[0m\u001b[0;34m(\u001b[0m\u001b[0moutputs\u001b[0m\u001b[0;34m)\u001b[0m\u001b[0;34m\u001b[0m\u001b[0;34m\u001b[0m\u001b[0m\n\u001b[1;32m   1219\u001b[0m \u001b[0;34m\u001b[0m\u001b[0m\n",
            "\u001b[0;32m/usr/local/lib/python3.6/dist-packages/keras/backend/tensorflow_backend.py\u001b[0m in \u001b[0;36m__call__\u001b[0;34m(self, inputs)\u001b[0m\n\u001b[1;32m   2713\u001b[0m                 \u001b[0;32mreturn\u001b[0m \u001b[0mself\u001b[0m\u001b[0;34m.\u001b[0m\u001b[0m_legacy_call\u001b[0m\u001b[0;34m(\u001b[0m\u001b[0minputs\u001b[0m\u001b[0;34m)\u001b[0m\u001b[0;34m\u001b[0m\u001b[0;34m\u001b[0m\u001b[0m\n\u001b[1;32m   2714\u001b[0m \u001b[0;34m\u001b[0m\u001b[0m\n\u001b[0;32m-> 2715\u001b[0;31m             \u001b[0;32mreturn\u001b[0m \u001b[0mself\u001b[0m\u001b[0;34m.\u001b[0m\u001b[0m_call\u001b[0m\u001b[0;34m(\u001b[0m\u001b[0minputs\u001b[0m\u001b[0;34m)\u001b[0m\u001b[0;34m\u001b[0m\u001b[0;34m\u001b[0m\u001b[0m\n\u001b[0m\u001b[1;32m   2716\u001b[0m         \u001b[0;32melse\u001b[0m\u001b[0;34m:\u001b[0m\u001b[0;34m\u001b[0m\u001b[0;34m\u001b[0m\u001b[0m\n\u001b[1;32m   2717\u001b[0m             \u001b[0;32mif\u001b[0m \u001b[0mpy_any\u001b[0m\u001b[0;34m(\u001b[0m\u001b[0mis_tensor\u001b[0m\u001b[0;34m(\u001b[0m\u001b[0mx\u001b[0m\u001b[0;34m)\u001b[0m \u001b[0;32mfor\u001b[0m \u001b[0mx\u001b[0m \u001b[0;32min\u001b[0m \u001b[0minputs\u001b[0m\u001b[0;34m)\u001b[0m\u001b[0;34m:\u001b[0m\u001b[0;34m\u001b[0m\u001b[0;34m\u001b[0m\u001b[0m\n",
            "\u001b[0;32m/usr/local/lib/python3.6/dist-packages/keras/backend/tensorflow_backend.py\u001b[0m in \u001b[0;36m_call\u001b[0;34m(self, inputs)\u001b[0m\n\u001b[1;32m   2673\u001b[0m             \u001b[0mfetched\u001b[0m \u001b[0;34m=\u001b[0m \u001b[0mself\u001b[0m\u001b[0;34m.\u001b[0m\u001b[0m_callable_fn\u001b[0m\u001b[0;34m(\u001b[0m\u001b[0;34m*\u001b[0m\u001b[0marray_vals\u001b[0m\u001b[0;34m,\u001b[0m \u001b[0mrun_metadata\u001b[0m\u001b[0;34m=\u001b[0m\u001b[0mself\u001b[0m\u001b[0;34m.\u001b[0m\u001b[0mrun_metadata\u001b[0m\u001b[0;34m)\u001b[0m\u001b[0;34m\u001b[0m\u001b[0;34m\u001b[0m\u001b[0m\n\u001b[1;32m   2674\u001b[0m         \u001b[0;32melse\u001b[0m\u001b[0;34m:\u001b[0m\u001b[0;34m\u001b[0m\u001b[0;34m\u001b[0m\u001b[0m\n\u001b[0;32m-> 2675\u001b[0;31m             \u001b[0mfetched\u001b[0m \u001b[0;34m=\u001b[0m \u001b[0mself\u001b[0m\u001b[0;34m.\u001b[0m\u001b[0m_callable_fn\u001b[0m\u001b[0;34m(\u001b[0m\u001b[0;34m*\u001b[0m\u001b[0marray_vals\u001b[0m\u001b[0;34m)\u001b[0m\u001b[0;34m\u001b[0m\u001b[0;34m\u001b[0m\u001b[0m\n\u001b[0m\u001b[1;32m   2676\u001b[0m         \u001b[0;32mreturn\u001b[0m \u001b[0mfetched\u001b[0m\u001b[0;34m[\u001b[0m\u001b[0;34m:\u001b[0m\u001b[0mlen\u001b[0m\u001b[0;34m(\u001b[0m\u001b[0mself\u001b[0m\u001b[0;34m.\u001b[0m\u001b[0moutputs\u001b[0m\u001b[0;34m)\u001b[0m\u001b[0;34m]\u001b[0m\u001b[0;34m\u001b[0m\u001b[0;34m\u001b[0m\u001b[0m\n\u001b[1;32m   2677\u001b[0m \u001b[0;34m\u001b[0m\u001b[0m\n",
            "\u001b[0;32m/usr/local/lib/python3.6/dist-packages/tensorflow/python/client/session.py\u001b[0m in \u001b[0;36m__call__\u001b[0;34m(self, *args, **kwargs)\u001b[0m\n\u001b[1;32m   1437\u001b[0m           ret = tf_session.TF_SessionRunCallable(\n\u001b[1;32m   1438\u001b[0m               \u001b[0mself\u001b[0m\u001b[0;34m.\u001b[0m\u001b[0m_session\u001b[0m\u001b[0;34m.\u001b[0m\u001b[0m_session\u001b[0m\u001b[0;34m,\u001b[0m \u001b[0mself\u001b[0m\u001b[0;34m.\u001b[0m\u001b[0m_handle\u001b[0m\u001b[0;34m,\u001b[0m \u001b[0margs\u001b[0m\u001b[0;34m,\u001b[0m \u001b[0mstatus\u001b[0m\u001b[0;34m,\u001b[0m\u001b[0;34m\u001b[0m\u001b[0;34m\u001b[0m\u001b[0m\n\u001b[0;32m-> 1439\u001b[0;31m               run_metadata_ptr)\n\u001b[0m\u001b[1;32m   1440\u001b[0m         \u001b[0;32mif\u001b[0m \u001b[0mrun_metadata\u001b[0m\u001b[0;34m:\u001b[0m\u001b[0;34m\u001b[0m\u001b[0;34m\u001b[0m\u001b[0m\n\u001b[1;32m   1441\u001b[0m           \u001b[0mproto_data\u001b[0m \u001b[0;34m=\u001b[0m \u001b[0mtf_session\u001b[0m\u001b[0;34m.\u001b[0m\u001b[0mTF_GetBuffer\u001b[0m\u001b[0;34m(\u001b[0m\u001b[0mrun_metadata_ptr\u001b[0m\u001b[0;34m)\u001b[0m\u001b[0;34m\u001b[0m\u001b[0;34m\u001b[0m\u001b[0m\n",
            "\u001b[0;32m/usr/local/lib/python3.6/dist-packages/tensorflow/python/framework/errors_impl.py\u001b[0m in \u001b[0;36m__exit__\u001b[0;34m(self, type_arg, value_arg, traceback_arg)\u001b[0m\n\u001b[1;32m    526\u001b[0m             \u001b[0;32mNone\u001b[0m\u001b[0;34m,\u001b[0m \u001b[0;32mNone\u001b[0m\u001b[0;34m,\u001b[0m\u001b[0;34m\u001b[0m\u001b[0;34m\u001b[0m\u001b[0m\n\u001b[1;32m    527\u001b[0m             \u001b[0mcompat\u001b[0m\u001b[0;34m.\u001b[0m\u001b[0mas_text\u001b[0m\u001b[0;34m(\u001b[0m\u001b[0mc_api\u001b[0m\u001b[0;34m.\u001b[0m\u001b[0mTF_Message\u001b[0m\u001b[0;34m(\u001b[0m\u001b[0mself\u001b[0m\u001b[0;34m.\u001b[0m\u001b[0mstatus\u001b[0m\u001b[0;34m.\u001b[0m\u001b[0mstatus\u001b[0m\u001b[0;34m)\u001b[0m\u001b[0;34m)\u001b[0m\u001b[0;34m,\u001b[0m\u001b[0;34m\u001b[0m\u001b[0;34m\u001b[0m\u001b[0m\n\u001b[0;32m--> 528\u001b[0;31m             c_api.TF_GetCode(self.status.status))\n\u001b[0m\u001b[1;32m    529\u001b[0m     \u001b[0;31m# Delete the underlying status object from memory otherwise it stays alive\u001b[0m\u001b[0;34m\u001b[0m\u001b[0;34m\u001b[0m\u001b[0;34m\u001b[0m\u001b[0m\n\u001b[1;32m    530\u001b[0m     \u001b[0;31m# as there is a reference to status from this from the traceback due to\u001b[0m\u001b[0;34m\u001b[0m\u001b[0;34m\u001b[0m\u001b[0;34m\u001b[0m\u001b[0m\n",
            "\u001b[0;31mFailedPreconditionError\u001b[0m: Attempting to use uninitialized value conv2d_2/bias\n\t [[{{node conv2d_2/bias/read}}]]\n\t [[{{node loss/mul}}]]"
          ]
        }
      ]
    },
    {
      "cell_type": "code",
      "metadata": {
        "id": "QDeh551oXbqW",
        "colab_type": "code",
        "colab": {
          "base_uri": "https://localhost:8080/",
          "height": 34
        },
        "outputId": "a865c29d-aa23-4a6e-ad0f-29f1b9c91994"
      },
      "source": [
        "y_test.shape, y_train.shape"
      ],
      "execution_count": 49,
      "outputs": [
        {
          "output_type": "execute_result",
          "data": {
            "text/plain": [
              "((165, 2), (495, 2, 2))"
            ]
          },
          "metadata": {
            "tags": []
          },
          "execution_count": 49
        }
      ]
    },
    {
      "cell_type": "code",
      "metadata": {
        "id": "TTln1N2-Xzo3",
        "colab_type": "code",
        "colab": {}
      },
      "source": [
        ""
      ],
      "execution_count": 0,
      "outputs": []
    }
  ]
}