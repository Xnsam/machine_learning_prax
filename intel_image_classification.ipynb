{
  "nbformat": 4,
  "nbformat_minor": 0,
  "metadata": {
    "colab": {
      "name": "intel_image_classification.ipynb",
      "version": "0.3.2",
      "provenance": [],
      "collapsed_sections": [
        "72xaMbpZWqUe",
        "zxVfPkxUhsQO",
        "IsKd6pDbHHjz"
      ]
    },
    "kernelspec": {
      "name": "python3",
      "display_name": "Python 3"
    },
    "accelerator": "GPU"
  },
  "cells": [
    {
      "cell_type": "markdown",
      "metadata": {
        "id": "72xaMbpZWqUe",
        "colab_type": "text"
      },
      "source": [
        "# notes"
      ]
    },
    {
      "cell_type": "markdown",
      "metadata": {
        "id": "7fukMxX6cK7_",
        "colab_type": "text"
      },
      "source": [
        "## key points google colab"
      ]
    },
    {
      "cell_type": "markdown",
      "metadata": {
        "id": "uF1pQxzQcTW8",
        "colab_type": "text"
      },
      "source": [
        "- '!' -> exclamation mark prepended executes linux bash  cmds \n",
        "-  By default most of the packages associated with ml are pre installed in google colab\n",
        "- google colab free gpu , by google, saved auto on gdrive"
      ]
    },
    {
      "cell_type": "markdown",
      "metadata": {
        "id": "tFeVzadwcPgR",
        "colab_type": "text"
      },
      "source": [
        "## key points ML"
      ]
    },
    {
      "cell_type": "markdown",
      "metadata": {
        "id": "m5utfGsicbeo",
        "colab_type": "text"
      },
      "source": [
        "- ML is an optimization problem - Finding the global minima (minimum loss) on an error surface # don't work about the keywords, will let you know."
      ]
    },
    {
      "cell_type": "markdown",
      "metadata": {
        "id": "zxVfPkxUhsQO",
        "colab_type": "text"
      },
      "source": [
        "## key point about keras"
      ]
    },
    {
      "cell_type": "markdown",
      "metadata": {
        "id": "BbQd5s3Shybb",
        "colab_type": "text"
      },
      "source": [
        "There are many frameworks available for ML - why ? for making it easy the execution of stuffs like calculating gradients, loss, optimization function etc. Examples - keras, tensorflow, mxnet, lua torch, pytorch, onnx, caffe, chainer, scikit learn etc...\n",
        "\n",
        "- Keras is built on top of TF (tensorflow)\n",
        "- Keras is used for rapid development + (positive)\n",
        "- Keras has less felexibility than TF - (negative)\n",
        "- keras has backends meaning it s built on something that does the computations of ML (as mentioned in in point 1 )\n",
        "- keras most popularly used with backend TF, another example is Theano"
      ]
    },
    {
      "cell_type": "code",
      "metadata": {
        "id": "89nRnlsIhrlQ",
        "colab_type": "code",
        "colab": {}
      },
      "source": [
        ""
      ],
      "execution_count": 0,
      "outputs": []
    },
    {
      "cell_type": "markdown",
      "metadata": {
        "id": "2w1pkLwPWsu3",
        "colab_type": "text"
      },
      "source": [
        "okay letss try a bottom down approach\n",
        "\n",
        "''#'' - means - comments \n",
        "\n",
        "**DAY 1 simple application of ml**\n",
        "\n",
        "-\tNeural Nets\n",
        "there are many types of algos in ML, we will go with neural nets the most popular one first. with progression you will understand which algo to use with the right type of data. cool ?yes\n",
        "- examination of the application.\n",
        "\n",
        "\n",
        "\n"
      ]
    },
    {
      "cell_type": "markdown",
      "metadata": {
        "id": "MyLyHouIXcVr",
        "colab_type": "text"
      },
      "source": [
        "Lets start with image classification \n",
        "----------------------------------------------------------\n",
        "\n",
        "Kaggle download data via api\n",
        "- step 1 : download the api token from your account \n",
        "- step 2 : copy the api download cmd from dataset to work on\n",
        "- step 3 : write the download cmd in google colab\n",
        "- - 3.1 : install kaggle package via pip , -U stands for user, -q stands for quiet...meaning installation will be run in background\n",
        "\n",
        "- Running on google colab gpu \n",
        "- Training a keras model \n",
        "\n"
      ]
    },
    {
      "cell_type": "markdown",
      "metadata": {
        "id": "7RLBTIAzTnhZ",
        "colab_type": "text"
      },
      "source": [
        "# set up "
      ]
    },
    {
      "cell_type": "markdown",
      "metadata": {
        "id": "V3Iwu_v0WYTq",
        "colab_type": "text"
      },
      "source": [
        "look above right left connected to ram 13 gb but not gpu so we need to change that\n",
        "\n"
      ]
    },
    {
      "cell_type": "code",
      "metadata": {
        "id": "FN3R8XdOV8EJ",
        "colab_type": "code",
        "colab": {}
      },
      "source": [
        "! pip install -U -q kaggle"
      ],
      "execution_count": 0,
      "outputs": []
    },
    {
      "cell_type": "code",
      "metadata": {
        "id": "uzYuSXHaUD0P",
        "colab_type": "code",
        "colab": {}
      },
      "source": [
        "!mkdir --p ~/.kaggle\n",
        "!echo '{\"username\":\"moxa1610\",\"key\":\"c4a18ced4ae4fc6b93d7ad18f529ffe3\"}' > ~/.kaggle/kaggle.json\n",
        "!chmod 600 ~/.kaggle/kaggle.json"
      ],
      "execution_count": 0,
      "outputs": []
    },
    {
      "cell_type": "code",
      "metadata": {
        "id": "-pxYu9MUUDa1",
        "colab_type": "code",
        "outputId": "0b02bb6c-ae4f-47e2-c437-f7c59805d380",
        "colab": {
          "base_uri": "https://localhost:8080/",
          "height": 68
        }
      },
      "source": [
        "!kaggle datasets download -d puneet6060/intel-image-classification"
      ],
      "execution_count": 3,
      "outputs": [
        {
          "output_type": "stream",
          "text": [
            "Downloading intel-image-classification.zip to /content\n",
            " 96% 329M/344M [00:03<00:00, 86.2MB/s]\n",
            "100% 344M/344M [00:03<00:00, 107MB/s] \n"
          ],
          "name": "stdout"
        }
      ]
    },
    {
      "cell_type": "code",
      "metadata": {
        "id": "-W97zEINYgPI",
        "colab_type": "code",
        "colab": {}
      },
      "source": [
        "!mkdir intel_data\n",
        "!unzip -q -d intel_data intel*.zip"
      ],
      "execution_count": 0,
      "outputs": []
    },
    {
      "cell_type": "code",
      "metadata": {
        "id": "Q6cGmd6kZDvC",
        "colab_type": "code",
        "colab": {}
      },
      "source": [
        "# the folder contains more zip files need to extract that\n",
        "!mkdir intel_data/train\n",
        "!mkdir intel_data/test\n",
        "!mkdir intel_data/pred\n",
        "\n",
        "!unzip -q -d intel_data/train intel_data/seg_train.zip\n",
        "!unzip -q -d intel_data/test intel_data/seg_test.zip\n",
        "!unzip -q -d intel_data/pred intel_data/seg_pred.zip\n"
      ],
      "execution_count": 0,
      "outputs": []
    },
    {
      "cell_type": "markdown",
      "metadata": {
        "id": "LqQI92aBadrD",
        "colab_type": "text"
      },
      "source": [
        "Now, dividing the process in three steps\n",
        "\n",
        "- Data processing : Visz, data count and all that stuff\n",
        "- Building a model in keras\n",
        "- Training a model and saving it"
      ]
    },
    {
      "cell_type": "markdown",
      "metadata": {
        "id": "6fin4NzPay_1",
        "colab_type": "text"
      },
      "source": [
        "# Data processing\n"
      ]
    },
    {
      "cell_type": "code",
      "metadata": {
        "id": "i4taBLOGaUpn",
        "colab_type": "code",
        "colab": {}
      },
      "source": [
        "# first we need to check what exactly is the data\n",
        "# okay since it is already split in train - test - validation format we need not split again\n",
        "# the dataset contains of satellite images of the classes - buildings - forest \n",
        "# lets viz it ...psst ! VIZ means visualization in datascience lingo \n",
        "\n",
        "\n",
        "# for vizing it we will use matplotlib \n",
        "\n",
        "import matplotlib.pyplot as plt\n",
        "import glob"
      ],
      "execution_count": 0,
      "outputs": []
    },
    {
      "cell_type": "code",
      "metadata": {
        "id": "cwJq6uA1dYV8",
        "colab_type": "code",
        "colab": {}
      },
      "source": [
        "train_path = 'intel_data/train/seg_train/*/*' # * - means all the files including in it \n",
        "test_path = 'intel_data/test/seg_test/*/*'\n",
        "\n",
        "train_files = glob.glob(train_path)\n",
        "test_files = glob.glob(test_path)"
      ],
      "execution_count": 0,
      "outputs": []
    },
    {
      "cell_type": "code",
      "metadata": {
        "id": "jw9k7jKzd0O_",
        "colab_type": "code",
        "outputId": "55264658-c092-497f-8db0-3a939845f8ef",
        "colab": {
          "base_uri": "https://localhost:8080/",
          "height": 102
        }
      },
      "source": [
        "train_files[:5] # viewing first five elements in trainfiles list"
      ],
      "execution_count": 8,
      "outputs": [
        {
          "output_type": "execute_result",
          "data": {
            "text/plain": [
              "['intel_data/train/seg_train/mountain/6278.jpg',\n",
              " 'intel_data/train/seg_train/mountain/15828.jpg',\n",
              " 'intel_data/train/seg_train/mountain/10518.jpg',\n",
              " 'intel_data/train/seg_train/mountain/5459.jpg',\n",
              " 'intel_data/train/seg_train/mountain/6726.jpg']"
            ]
          },
          "metadata": {
            "tags": []
          },
          "execution_count": 8
        }
      ]
    },
    {
      "cell_type": "markdown",
      "metadata": {
        "id": "icLHKMg_eEA9",
        "colab_type": "text"
      },
      "source": [
        "what is glob ?\n",
        "\n",
        "glob is a package that helps in reading files from the disk on the fly....similar functions can be found in the os package called as os.walk(dir_path)"
      ]
    },
    {
      "cell_type": "code",
      "metadata": {
        "id": "BCEeeyLDd7V_",
        "colab_type": "code",
        "outputId": "4189f080-550e-47e3-fe60-9de0fb5ee4d5",
        "colab": {
          "base_uri": "https://localhost:8080/",
          "height": 102
        }
      },
      "source": [
        "test_files[:5]"
      ],
      "execution_count": 9,
      "outputs": [
        {
          "output_type": "execute_result",
          "data": {
            "text/plain": [
              "['intel_data/test/seg_test/mountain/22608.jpg',\n",
              " 'intel_data/test/seg_test/mountain/22335.jpg',\n",
              " 'intel_data/test/seg_test/mountain/21226.jpg',\n",
              " 'intel_data/test/seg_test/mountain/21340.jpg',\n",
              " 'intel_data/test/seg_test/mountain/22592.jpg']"
            ]
          },
          "metadata": {
            "tags": []
          },
          "execution_count": 9
        }
      ]
    },
    {
      "cell_type": "code",
      "metadata": {
        "id": "HMUBdFGMeerd",
        "colab_type": "code",
        "colab": {}
      },
      "source": [
        "# now to view them \n",
        "# lets shuffle them first\n",
        "\n",
        "import numpy as np\n"
      ],
      "execution_count": 0,
      "outputs": []
    },
    {
      "cell_type": "code",
      "metadata": {
        "id": "Uu0tZuPfeyDC",
        "colab_type": "code",
        "colab": {}
      },
      "source": [
        "np.random.seed(0) # setting the seed means telling the random number generator to remember from where the number was generated during this execution of experiment \n",
        "np.random.shuffle(train_files) # shuffles a list / array , returns nothing\n",
        "np.random.shuffle(test_files)"
      ],
      "execution_count": 0,
      "outputs": []
    },
    {
      "cell_type": "code",
      "metadata": {
        "id": "saLu9j_WfRKr",
        "colab_type": "code",
        "outputId": "ff509f69-1b8e-4c77-af93-fd32e251d76a",
        "colab": {
          "base_uri": "https://localhost:8080/",
          "height": 102
        }
      },
      "source": [
        "train_files[:5]"
      ],
      "execution_count": 12,
      "outputs": [
        {
          "output_type": "execute_result",
          "data": {
            "text/plain": [
              "['intel_data/train/seg_train/forest/16891.jpg',\n",
              " 'intel_data/train/seg_train/mountain/4541.jpg',\n",
              " 'intel_data/train/seg_train/glacier/14500.jpg',\n",
              " 'intel_data/train/seg_train/glacier/7810.jpg',\n",
              " 'intel_data/train/seg_train/street/8351.jpg']"
            ]
          },
          "metadata": {
            "tags": []
          },
          "execution_count": 12
        }
      ]
    },
    {
      "cell_type": "markdown",
      "metadata": {
        "id": "81YDMT6FfczP",
        "colab_type": "text"
      },
      "source": [
        "why shuffle ? \n",
        "\n",
        "check the train_files[:5 ] done at the first time, lets see your obs skill ???\n",
        "\n",
        "image are from different folders nw "
      ]
    },
    {
      "cell_type": "code",
      "metadata": {
        "id": "L3ewkPUwfTA9",
        "colab_type": "code",
        "outputId": "739b1943-d8f1-489c-f3e7-951a54ee6aa1",
        "colab": {
          "base_uri": "https://localhost:8080/",
          "height": 398
        }
      },
      "source": [
        "# plotting the first 10 images from train  files\n",
        "\n",
        "for i in range(10):\n",
        "  plt.subplot(2, 5, i+1)\n",
        "  plt.imshow(plt.imread(train_files[i]))\n",
        "  print(train_files[i])\n",
        "plt.show()"
      ],
      "execution_count": 13,
      "outputs": [
        {
          "output_type": "stream",
          "text": [
            "intel_data/train/seg_train/forest/16891.jpg\n",
            "intel_data/train/seg_train/mountain/4541.jpg\n",
            "intel_data/train/seg_train/glacier/14500.jpg\n",
            "intel_data/train/seg_train/glacier/7810.jpg\n",
            "intel_data/train/seg_train/street/8351.jpg\n",
            "intel_data/train/seg_train/buildings/2796.jpg\n",
            "intel_data/train/seg_train/forest/3279.jpg\n",
            "intel_data/train/seg_train/sea/2886.jpg\n",
            "intel_data/train/seg_train/forest/19363.jpg\n",
            "intel_data/train/seg_train/street/8751.jpg\n"
          ],
          "name": "stdout"
        },
        {
          "output_type": "display_data",
          "data": {
            "image/png": "[encoded data removed]",
            "text/plain": [
              "<Figure size 432x288 with 10 Axes>"
            ]
          },
          "metadata": {
            "tags": []
          }
        }
      ]
    },
    {
      "cell_type": "code",
      "metadata": {
        "id": "ynwZhAIRgiBV",
        "colab_type": "code",
        "outputId": "6796df4d-35aa-4cbb-af06-1f25577bab8b",
        "colab": {
          "base_uri": "https://localhost:8080/",
          "height": 34
        }
      },
      "source": [
        "# so these are the images in the dataset with respective classes (classes here are name of the folder indicating type of the image)\n",
        "\n",
        "# now we need to make a way to load the image directly from the disk with out storing the images in ram as gpu ram is expensive than disk space.\n",
        "\n",
        "# for that keras has a convenient class method\n",
        "\n",
        "# this type of method is called as online learning in practisce.\n",
        "\n",
        "\n",
        "import keras"
      ],
      "execution_count": 14,
      "outputs": [
        {
          "output_type": "stream",
          "text": [
            "Using TensorFlow backend.\n"
          ],
          "name": "stderr"
        }
      ]
    },
    {
      "cell_type": "code",
      "metadata": {
        "id": "xEY8H9SEhmAU",
        "colab_type": "code",
        "outputId": "ff8e0b41-a897-4fe6-8919-7ebbb521909d",
        "colab": {
          "base_uri": "https://localhost:8080/",
          "height": 34
        }
      },
      "source": [
        "# always refer to https://keras.io/ for class and methods implemented in keras\n",
        "\n",
        "\n",
        "# now thers is something called as data augmentation, it means do change the data (images) to input varitation example...flipping the image, blurring, rotation, shear, zoom, whitening and so on\n",
        "\n",
        "# augmentation helps in better learning of the model since variation adds noise and more patterns for the model to learn from.\n",
        "\n",
        "# but caution: augmentation should be used in cases where data is too low, if data is already noisy augmentation will make it worse, with experience you will know when exactly to use it.\n",
        "\n",
        "# there are two types of augmentation - qualitative and quantitative.manipulating image persception is qualitative as mentioned in the above function (shear, rotation etc), increasing the number is quantitative.\n",
        "\n",
        "\n",
        "# here we will look into qualitative\n",
        "\n",
        "# lets check the samples first\n",
        "\n",
        "len(train_files)"
      ],
      "execution_count": 15,
      "outputs": [
        {
          "output_type": "execute_result",
          "data": {
            "text/plain": [
              "14034"
            ]
          },
          "metadata": {
            "tags": []
          },
          "execution_count": 15
        }
      ]
    },
    {
      "cell_type": "code",
      "metadata": {
        "id": "E9u5PpKplH0Y",
        "colab_type": "code",
        "colab": {}
      },
      "source": [
        "# 14034 total images not bad.\n",
        "\n",
        "# there is a case called as imbalanced data, meaning every sample corresponding to each class is unequal (layman every folder building, glacier etc has unequal number of samples.)\n",
        "# imbalanced data causes model to learn the data more which has highest samples, therby leading to misclassification.\n",
        "\n",
        "# we will look into imbalanced data on some other day\n",
        "\n",
        "# now, creating a generator-  in general generator allow us to iterate through dataset in specific size of batches. such style is known as batch training\n",
        "\n",
        "# lets create a generator\n",
        "\n",
        "from keras.preprocessing.image import ImageDataGenerator"
      ],
      "execution_count": 0,
      "outputs": []
    },
    {
      "cell_type": "markdown",
      "metadata": {
        "id": "6KUdjV6zvwOa",
        "colab_type": "text"
      },
      "source": [
        "what exactly is your doubt here ask please\n",
        "\n",
        "1) why have you done data augmentation, as in, how will augmenting the data help to classify images?\n",
        "ans : gave live example\n",
        "2) what is the use of validation_aug object?\n",
        "ans:  to work on validation set, just rescaling it ok"
      ]
    },
    {
      "cell_type": "code",
      "metadata": {
        "id": "ihCELYm0pFjI",
        "colab_type": "code",
        "outputId": "ea7ed98c-8566-4664-e313-412179821f4a",
        "colab": {
          "base_uri": "https://localhost:8080/",
          "height": 51
        }
      },
      "source": [
        "# train augmentation generator object #this part\n",
        "train_aug = ImageDataGenerator(\n",
        "    rotation_range=45,\n",
        "    horizontal_flip=True,\n",
        "    zoom_range=0.2,\n",
        "    width_shift_range=0.3,\n",
        "    height_shift_range=0.3,\n",
        "    rescale=1./255\n",
        ")\n",
        "\n",
        "# validation augmentation generator object \n",
        "validation_aug = ImageDataGenerator(\n",
        "    rescale=1./255\n",
        ")\n",
        "\n",
        "# we generally apply augmentation to train set only\n",
        "\n",
        "# here we will use flow from directory method of the class object defined earlier.\n",
        "\n",
        "\n",
        "train_gen = train_aug.flow_from_directory(\n",
        "    'intel_data/train/seg_train',\n",
        "    target_size=(64, 64),\n",
        "    batch_size=128,\n",
        "    class_mode='categorical'\n",
        ")\n",
        "\n",
        "\n",
        "validation_gen = validation_aug.flow_from_directory(\n",
        "    'intel_data/test/seg_test',\n",
        "    target_size=(64, 64),\n",
        "    batch_size=128,\n",
        "    class_mode='categorical'\n",
        ")"
      ],
      "execution_count": 17,
      "outputs": [
        {
          "output_type": "stream",
          "text": [
            "Found 14034 images belonging to 6 classes.\n",
            "Found 3000 images belonging to 6 classes.\n"
          ],
          "name": "stdout"
        }
      ]
    },
    {
      "cell_type": "code",
      "metadata": {
        "id": "w75tFriOsmWD",
        "colab_type": "code",
        "outputId": "50b9e08f-86b9-40d7-a223-054f99104cbe",
        "colab": {
          "base_uri": "https://localhost:8080/",
          "height": 34
        }
      },
      "source": [
        "# see it automatcally finds out the number of classes as per the folders \n",
        "train_gen.classes"
      ],
      "execution_count": 18,
      "outputs": [
        {
          "output_type": "execute_result",
          "data": {
            "text/plain": [
              "array([0, 0, 0, ..., 5, 5, 5], dtype=int32)"
            ]
          },
          "metadata": {
            "tags": []
          },
          "execution_count": 18
        }
      ]
    },
    {
      "cell_type": "code",
      "metadata": {
        "id": "BJwWs1RUsztc",
        "colab_type": "code",
        "colab": {}
      },
      "source": [
        "# {'buildings' -> 0, 'forest' -> 1, 'glacier' -> 2, 'mountain' -> 3, 'sea' -> 4, 'street' -> 5 }\n",
        "\n",
        "# will map the classes and store the dictionary\n",
        "\n",
        "tg_names = {'buildings': 0, 'forest' : 1, 'glacier' : 2, 'mountain' : 3, 'sea': 4, 'street': 5 }"
      ],
      "execution_count": 0,
      "outputs": []
    },
    {
      "cell_type": "code",
      "metadata": {
        "id": "HJvnRL5roupq",
        "colab_type": "code",
        "colab": {}
      },
      "source": [
        "tmp = next(validation_gen)"
      ],
      "execution_count": 0,
      "outputs": []
    },
    {
      "cell_type": "code",
      "metadata": {
        "id": "oif3VhZlo15A",
        "colab_type": "code",
        "outputId": "b3310da0-d76c-476c-acfa-4a03f7c99999",
        "colab": {
          "base_uri": "https://localhost:8080/",
          "height": 34
        }
      },
      "source": [
        "tmp[1].shape"
      ],
      "execution_count": 21,
      "outputs": [
        {
          "output_type": "execute_result",
          "data": {
            "text/plain": [
              "(128, 6)"
            ]
          },
          "metadata": {
            "tags": []
          },
          "execution_count": 21
        }
      ]
    },
    {
      "cell_type": "markdown",
      "metadata": {
        "id": "IQgSf6YJtYyj",
        "colab_type": "text"
      },
      "source": [
        " # model "
      ]
    },
    {
      "cell_type": "markdown",
      "metadata": {
        "id": "IxnuusELtbXQ",
        "colab_type": "text"
      },
      "source": [
        "We will work on the following\n",
        "\n",
        "- custom CNN model\n",
        "- Transfer learning"
      ]
    },
    {
      "cell_type": "markdown",
      "metadata": {
        "id": "vo14s_HMtkcp",
        "colab_type": "text"
      },
      "source": [
        "## custom cnn model"
      ]
    },
    {
      "cell_type": "markdown",
      "metadata": {
        "id": "n7gIlcdBtoNZ",
        "colab_type": "text"
      },
      "source": [
        "CNN  are pretty famous for image classificaiton task. \n",
        "\n",
        "We need CNN for extracting the features (pixels of image that represents a particular area in the image. )\n",
        "\n",
        "Convolution means unfoldind, so imagine an image, imagine a particular region, lets say 3x3 box, zoom it and you will get a box from which many more times the images will be zoomed or unfolded..\n"
      ]
    },
    {
      "cell_type": "code",
      "metadata": {
        "id": "P9pnL-KptXZL",
        "colab_type": "code",
        "colab": {}
      },
      "source": [
        "# lets build a model\n",
        "\n",
        "# import all necesaary layers to build CNN from keras\n",
        "\n",
        "# i will explain what 1D and 2D is when we do the video call\n",
        "\n",
        "from keras.layers import Conv2D, Dense, Flatten, MaxPooling2D, Activation, Dropout, Input\n",
        "from keras.optimizers import Adam\n",
        "from keras.models import Model\n",
        " \n",
        "# you can build models in keras in two types : sequential and functional, meaning sequential is like stack of layers like stack of cards, functional is like directed acyclic graph\n",
        "# we will look into the functional type here \n",
        "def build_model():\n",
        "  \"\"\"Function to build the model\"\"\"\n",
        "  # first layer should be an input layer\n",
        "  input_ = Input(shape=(64, 64, 3), name=\"input_1\") # shape is telling the  layer to open its mouth in so much width that this much food it can take.\n",
        "  # every image is 3 dimensional, 3 at the end of (64 ,64, 3) says its 3 channels meaning 3 colors RGB. if grayscale (b/w) then it would be 1\n",
        "  # 64 - 64 corresponds to its width an height\n",
        "  \n",
        "  x = Conv2D(32, kernel_size=(3, 3), strides=(2, 2), padding=\"same\", name=\"conv_1\")(input_) #  you will understand it in video call filters kernels and padding\n",
        "  # since this is an functional api we treat every layer as a functional  input to the next layer \n",
        "  x = MaxPooling2D(pool_size=(2, 2), strides=(1, 1), name=\"maxpool_1\")(x)\n",
        "  x = Activation('relu')(x)\n",
        "  \n",
        "  x1 = Conv2D(32, kernel_size=(3, 3), strides=(2, 2), padding='same', name=\"conv_parallel_1\")(input_) # this is a parallel branch\n",
        "  x1 = MaxPooling2D(pool_size=(2, 2), strides=(1, 1), name=\"maxpool_parallel_1\")(x1) \n",
        "  x1 = Activation('relu', name=\"activation_parallel_1\")(x1)\n",
        "  \n",
        "  x = keras.layers.Concatenate(name=\"merge_layer_1\")([x, x1]) # this layer merges the branches\n",
        "  \n",
        "  \n",
        "  for i in range(10):\n",
        "    x = Conv2D(32 * i + 32, kernel_size=(3, 3), strides=(1, 1),padding='same',name=\"conv_{}\".format(i + 2))(x) # every layer name you mentioned must be unique\n",
        "    x = MaxPooling2D(pool_size=(2, 2), strides=(1, 1), name=\"maxpool_{}\".format(i+2))(x)\n",
        "    \n",
        "    if i % 2 == 0:\n",
        "      x = Activation('relu')(x) # applying activation on every even layers, if  you do not name the layers it will automatically create one for you\n",
        "    if i % 5 == 0:\n",
        "      x = Dropout(0.3, name=\"dropout_{}\".format(i+2+5))(x) # this layer forgets a certain amount of data inoder for the data to learn better concepts associated with it are regularization , ensemble methods\n",
        "  \n",
        "    \n",
        "  x = Flatten(name=\"flatt\")(x) # this layer flats all the dimensions and combines into 1 dimenion\n",
        "  prediction_layer = Dense(6, name=\"prediction\")(x)\n",
        "  prediction_layer = Activation('softmax', name=\"activation_final\")(prediction_layer)\n",
        "  \n",
        "  \n",
        "  model = Model(\n",
        "      inputs=[input_],\n",
        "      outputs=[prediction_layer]\n",
        "  )\n",
        "  # this is how you combine everything. \n",
        "  opt = Adam(lr=1e-3, decay=1e-3/128)\n",
        "  model.compile(loss='categorical_crossentropy', optimizer=opt, metrics=['accuracy'])\n",
        "  return model\n",
        "  "
      ],
      "execution_count": 0,
      "outputs": []
    },
    {
      "cell_type": "code",
      "metadata": {
        "id": "uwuasb9-98Jr",
        "colab_type": "code",
        "outputId": "8f8fd3cf-c88a-405e-a2d4-a13c4dbb5eaa",
        "colab": {
          "base_uri": "https://localhost:8080/",
          "height": 1000
        }
      },
      "source": [
        "model = build_model()\n",
        "model.summary()"
      ],
      "execution_count": 23,
      "outputs": [
        {
          "output_type": "stream",
          "text": [
            "WARNING: Logging before flag parsing goes to stderr.\n",
            "W0702 14:29:29.259153 140061887928192 deprecation_wrapper.py:119] From /usr/local/lib/python3.6/dist-packages/keras/backend/tensorflow_backend.py:517: The name tf.placeholder is deprecated. Please use tf.compat.v1.placeholder instead.\n",
            "\n",
            "W0702 14:29:29.303263 140061887928192 deprecation_wrapper.py:119] From /usr/local/lib/python3.6/dist-packages/keras/backend/tensorflow_backend.py:4138: The name tf.random_uniform is deprecated. Please use tf.random.uniform instead.\n",
            "\n",
            "W0702 14:29:29.330378 140061887928192 deprecation_wrapper.py:119] From /usr/local/lib/python3.6/dist-packages/keras/backend/tensorflow_backend.py:3976: The name tf.nn.max_pool is deprecated. Please use tf.nn.max_pool2d instead.\n",
            "\n",
            "W0702 14:29:29.333298 140061887928192 deprecation_wrapper.py:119] From /usr/local/lib/python3.6/dist-packages/keras/backend/tensorflow_backend.py:74: The name tf.get_default_graph is deprecated. Please use tf.compat.v1.get_default_graph instead.\n",
            "\n",
            "W0702 14:29:29.366033 140061887928192 deprecation_wrapper.py:119] From /usr/local/lib/python3.6/dist-packages/keras/backend/tensorflow_backend.py:133: The name tf.placeholder_with_default is deprecated. Please use tf.compat.v1.placeholder_with_default instead.\n",
            "\n",
            "W0702 14:29:29.472466 140061887928192 deprecation.py:506] From /usr/local/lib/python3.6/dist-packages/keras/backend/tensorflow_backend.py:3445: calling dropout (from tensorflow.python.ops.nn_ops) with keep_prob is deprecated and will be removed in a future version.\n",
            "Instructions for updating:\n",
            "Please use `rate` instead of `keep_prob`. Rate should be set to `rate = 1 - keep_prob`.\n",
            "W0702 14:29:29.638878 140061887928192 deprecation_wrapper.py:119] From /usr/local/lib/python3.6/dist-packages/keras/optimizers.py:790: The name tf.train.Optimizer is deprecated. Please use tf.compat.v1.train.Optimizer instead.\n",
            "\n",
            "W0702 14:29:29.647406 140061887928192 deprecation_wrapper.py:119] From /usr/local/lib/python3.6/dist-packages/keras/backend/tensorflow_backend.py:3295: The name tf.log is deprecated. Please use tf.math.log instead.\n",
            "\n"
          ],
          "name": "stderr"
        },
        {
          "output_type": "stream",
          "text": [
            "__________________________________________________________________________________________________\n",
            "Layer (type)                    Output Shape         Param #     Connected to                     \n",
            "==================================================================================================\n",
            "input_1 (InputLayer)            (None, 64, 64, 3)    0                                            \n",
            "__________________________________________________________________________________________________\n",
            "conv_1 (Conv2D)                 (None, 32, 32, 32)   896         input_1[0][0]                    \n",
            "__________________________________________________________________________________________________\n",
            "conv_parallel_1 (Conv2D)        (None, 32, 32, 32)   896         input_1[0][0]                    \n",
            "__________________________________________________________________________________________________\n",
            "maxpool_1 (MaxPooling2D)        (None, 31, 31, 32)   0           conv_1[0][0]                     \n",
            "__________________________________________________________________________________________________\n",
            "maxpool_parallel_1 (MaxPooling2 (None, 31, 31, 32)   0           conv_parallel_1[0][0]            \n",
            "__________________________________________________________________________________________________\n",
            "activation_1 (Activation)       (None, 31, 31, 32)   0           maxpool_1[0][0]                  \n",
            "__________________________________________________________________________________________________\n",
            "activation_parallel_1 (Activati (None, 31, 31, 32)   0           maxpool_parallel_1[0][0]         \n",
            "__________________________________________________________________________________________________\n",
            "merge_layer_1 (Concatenate)     (None, 31, 31, 64)   0           activation_1[0][0]               \n",
            "                                                                 activation_parallel_1[0][0]      \n",
            "__________________________________________________________________________________________________\n",
            "conv_2 (Conv2D)                 (None, 31, 31, 32)   18464       merge_layer_1[0][0]              \n",
            "__________________________________________________________________________________________________\n",
            "maxpool_2 (MaxPooling2D)        (None, 30, 30, 32)   0           conv_2[0][0]                     \n",
            "__________________________________________________________________________________________________\n",
            "activation_2 (Activation)       (None, 30, 30, 32)   0           maxpool_2[0][0]                  \n",
            "__________________________________________________________________________________________________\n",
            "dropout_7 (Dropout)             (None, 30, 30, 32)   0           activation_2[0][0]               \n",
            "__________________________________________________________________________________________________\n",
            "conv_3 (Conv2D)                 (None, 30, 30, 64)   18496       dropout_7[0][0]                  \n",
            "__________________________________________________________________________________________________\n",
            "maxpool_3 (MaxPooling2D)        (None, 29, 29, 64)   0           conv_3[0][0]                     \n",
            "__________________________________________________________________________________________________\n",
            "conv_4 (Conv2D)                 (None, 29, 29, 96)   55392       maxpool_3[0][0]                  \n",
            "__________________________________________________________________________________________________\n",
            "maxpool_4 (MaxPooling2D)        (None, 28, 28, 96)   0           conv_4[0][0]                     \n",
            "__________________________________________________________________________________________________\n",
            "activation_3 (Activation)       (None, 28, 28, 96)   0           maxpool_4[0][0]                  \n",
            "__________________________________________________________________________________________________\n",
            "conv_5 (Conv2D)                 (None, 28, 28, 128)  110720      activation_3[0][0]               \n",
            "__________________________________________________________________________________________________\n",
            "maxpool_5 (MaxPooling2D)        (None, 27, 27, 128)  0           conv_5[0][0]                     \n",
            "__________________________________________________________________________________________________\n",
            "conv_6 (Conv2D)                 (None, 27, 27, 160)  184480      maxpool_5[0][0]                  \n",
            "__________________________________________________________________________________________________\n",
            "maxpool_6 (MaxPooling2D)        (None, 26, 26, 160)  0           conv_6[0][0]                     \n",
            "__________________________________________________________________________________________________\n",
            "activation_4 (Activation)       (None, 26, 26, 160)  0           maxpool_6[0][0]                  \n",
            "__________________________________________________________________________________________________\n",
            "conv_7 (Conv2D)                 (None, 26, 26, 192)  276672      activation_4[0][0]               \n",
            "__________________________________________________________________________________________________\n",
            "maxpool_7 (MaxPooling2D)        (None, 25, 25, 192)  0           conv_7[0][0]                     \n",
            "__________________________________________________________________________________________________\n",
            "dropout_12 (Dropout)            (None, 25, 25, 192)  0           maxpool_7[0][0]                  \n",
            "__________________________________________________________________________________________________\n",
            "conv_8 (Conv2D)                 (None, 25, 25, 224)  387296      dropout_12[0][0]                 \n",
            "__________________________________________________________________________________________________\n",
            "maxpool_8 (MaxPooling2D)        (None, 24, 24, 224)  0           conv_8[0][0]                     \n",
            "__________________________________________________________________________________________________\n",
            "activation_5 (Activation)       (None, 24, 24, 224)  0           maxpool_8[0][0]                  \n",
            "__________________________________________________________________________________________________\n",
            "conv_9 (Conv2D)                 (None, 24, 24, 256)  516352      activation_5[0][0]               \n",
            "__________________________________________________________________________________________________\n",
            "maxpool_9 (MaxPooling2D)        (None, 23, 23, 256)  0           conv_9[0][0]                     \n",
            "__________________________________________________________________________________________________\n",
            "conv_10 (Conv2D)                (None, 23, 23, 288)  663840      maxpool_9[0][0]                  \n",
            "__________________________________________________________________________________________________\n",
            "maxpool_10 (MaxPooling2D)       (None, 22, 22, 288)  0           conv_10[0][0]                    \n",
            "__________________________________________________________________________________________________\n",
            "activation_6 (Activation)       (None, 22, 22, 288)  0           maxpool_10[0][0]                 \n",
            "__________________________________________________________________________________________________\n",
            "conv_11 (Conv2D)                (None, 22, 22, 320)  829760      activation_6[0][0]               \n",
            "__________________________________________________________________________________________________\n",
            "maxpool_11 (MaxPooling2D)       (None, 21, 21, 320)  0           conv_11[0][0]                    \n",
            "__________________________________________________________________________________________________\n",
            "flatt (Flatten)                 (None, 141120)       0           maxpool_11[0][0]                 \n",
            "__________________________________________________________________________________________________\n",
            "prediction (Dense)              (None, 6)            846726      flatt[0][0]                      \n",
            "__________________________________________________________________________________________________\n",
            "activation_final (Activation)   (None, 6)            0           prediction[0][0]                 \n",
            "==================================================================================================\n",
            "Total params: 3,909,990\n",
            "Trainable params: 3,909,990\n",
            "Non-trainable params: 0\n",
            "__________________________________________________________________________________________________\n"
          ],
          "name": "stdout"
        }
      ]
    },
    {
      "cell_type": "code",
      "metadata": {
        "id": "n1gGCjbK-ARe",
        "colab_type": "code",
        "colab": {}
      },
      "source": [
        "# i will explain in call what parameters are actually\n",
        "\n",
        "from keras.utils import plot_model\n",
        "plot_model(model, to_file='model.png')\n"
      ],
      "execution_count": 0,
      "outputs": []
    },
    {
      "cell_type": "markdown",
      "metadata": {
        "id": "rk16G2c5CBmd",
        "colab_type": "text"
      },
      "source": [
        "## training the model"
      ]
    },
    {
      "cell_type": "code",
      "metadata": {
        "id": "FF4tJG9esa1E",
        "colab_type": "code",
        "outputId": "7dbc2cab-ec7a-47a1-c8e2-47fe231c451d",
        "colab": {
          "base_uri": "https://localhost:8080/",
          "height": 34
        }
      },
      "source": [
        "len(train_gen), len(validation_gen)"
      ],
      "execution_count": 25,
      "outputs": [
        {
          "output_type": "execute_result",
          "data": {
            "text/plain": [
              "(110, 24)"
            ]
          },
          "metadata": {
            "tags": []
          },
          "execution_count": 25
        }
      ]
    },
    {
      "cell_type": "code",
      "metadata": {
        "id": "2DaUO0kSAOpT",
        "colab_type": "code",
        "outputId": "265b9aa8-d673-4414-b0af-e1c8fc4cb262",
        "colab": {
          "base_uri": "https://localhost:8080/",
          "height": 768
        }
      },
      "source": [
        "h = model.fit_generator(\n",
        "    train_gen,\n",
        "    steps_per_epoch=len(train_gen),\n",
        "    epochs=20,\n",
        "    validation_data=validation_gen,\n",
        "    validation_steps=len(validation_gen),\n",
        "    verbose=2\n",
        ")\n",
        "\n",
        "# epochs means the number of times you are making the model to see the entire data\n",
        "# steps means th number fot imes you are asking to update the parameters to the optimizer\n",
        "# verbose means while the training the decription to be shown, 0 - measns none , 1 - elaborate, 2 - concise\n",
        "\n",
        "\n"
      ],
      "execution_count": 26,
      "outputs": [
        {
          "output_type": "stream",
          "text": [
            "W0702 14:29:47.149636 140061887928192 deprecation.py:323] From /usr/local/lib/python3.6/dist-packages/tensorflow/python/ops/math_grad.py:1250: add_dispatch_support.<locals>.wrapper (from tensorflow.python.ops.array_ops) is deprecated and will be removed in a future version.\n",
            "Instructions for updating:\n",
            "Use tf.where in 2.0, which has the same broadcast rule as np.where\n"
          ],
          "name": "stderr"
        },
        {
          "output_type": "stream",
          "text": [
            "Epoch 1/20\n",
            " - 44s - loss: 1.9951 - acc: 0.1685 - val_loss: 1.7930 - val_acc: 0.1720\n",
            "Epoch 2/20\n",
            " - 29s - loss: 1.8002 - acc: 0.1695 - val_loss: 1.7937 - val_acc: 0.1477\n",
            "Epoch 3/20\n",
            " - 31s - loss: 1.7986 - acc: 0.1682 - val_loss: 1.7913 - val_acc: 0.1627\n",
            "Epoch 4/20\n",
            " - 30s - loss: 1.7940 - acc: 0.1703 - val_loss: 1.7961 - val_acc: 0.1547\n",
            "Epoch 5/20\n",
            " - 30s - loss: 1.7945 - acc: 0.1676 - val_loss: 1.7916 - val_acc: 0.1727\n",
            "Epoch 6/20\n",
            " - 30s - loss: 1.7969 - acc: 0.1697 - val_loss: 1.7958 - val_acc: 0.1763\n",
            "Epoch 7/20\n",
            " - 30s - loss: 1.7944 - acc: 0.1691 - val_loss: 1.8003 - val_acc: 0.1593\n",
            "Epoch 8/20\n",
            " - 30s - loss: 1.7958 - acc: 0.1675 - val_loss: 1.7905 - val_acc: 0.1713\n",
            "Epoch 9/20\n",
            " - 30s - loss: 1.7925 - acc: 0.1721 - val_loss: 1.7902 - val_acc: 0.1743\n",
            "Epoch 10/20\n",
            " - 30s - loss: 1.7926 - acc: 0.1688 - val_loss: 1.7917 - val_acc: 0.1643\n",
            "Epoch 11/20\n",
            " - 30s - loss: 1.7921 - acc: 0.1747 - val_loss: 1.7930 - val_acc: 0.1613\n",
            "Epoch 12/20\n",
            " - 30s - loss: 1.7922 - acc: 0.1790 - val_loss: 1.7932 - val_acc: 0.1550\n",
            "Epoch 13/20\n",
            " - 31s - loss: 1.7924 - acc: 0.1722 - val_loss: 1.7910 - val_acc: 0.1733\n",
            "Epoch 14/20\n",
            " - 30s - loss: 1.7918 - acc: 0.1762 - val_loss: 1.7942 - val_acc: 0.1563\n",
            "Epoch 15/20\n",
            " - 30s - loss: 1.7922 - acc: 0.1746 - val_loss: 1.7911 - val_acc: 0.1590\n",
            "Epoch 16/20\n",
            " - 30s - loss: 1.7925 - acc: 0.1768 - val_loss: 1.7951 - val_acc: 0.1590\n",
            "Epoch 17/20\n",
            " - 30s - loss: 1.7918 - acc: 0.1773 - val_loss: 1.7913 - val_acc: 0.1750\n",
            "Epoch 18/20\n",
            " - 30s - loss: 1.7920 - acc: 0.1753 - val_loss: 1.7899 - val_acc: 0.1850\n",
            "Epoch 19/20\n",
            " - 31s - loss: 1.7917 - acc: 0.1760 - val_loss: 1.7935 - val_acc: 0.1763\n",
            "Epoch 20/20\n",
            " - 31s - loss: 1.7921 - acc: 0.1751 - val_loss: 1.7922 - val_acc: 0.1753\n"
          ],
          "name": "stdout"
        }
      ]
    },
    {
      "cell_type": "markdown",
      "metadata": {
        "id": "5_I0VSgIFzMu",
        "colab_type": "text"
      },
      "source": [
        "## evaluation"
      ]
    },
    {
      "cell_type": "code",
      "metadata": {
        "id": "gtW0d85VIJB7",
        "colab_type": "code",
        "colab": {
          "base_uri": "https://localhost:8080/",
          "height": 34
        },
        "outputId": "f59bc86f-366e-4a12-8356-ca627e39ceb4"
      },
      "source": [
        "h.history.keys()"
      ],
      "execution_count": 30,
      "outputs": [
        {
          "output_type": "execute_result",
          "data": {
            "text/plain": [
              "dict_keys(['val_loss', 'val_acc', 'loss', 'acc'])"
            ]
          },
          "metadata": {
            "tags": []
          },
          "execution_count": 30
        }
      ]
    },
    {
      "cell_type": "code",
      "metadata": {
        "id": "dYOhOwl1DQts",
        "colab_type": "code",
        "colab": {}
      },
      "source": [
        "def plot_metrics(h, num_epochs, mode):\n",
        "  \"\"\"Function to plot the images.\"\"\"\n",
        "  plt.style.use('ggplot')\n",
        "  plt.figure(figsize=(9, 6))\n",
        "  \n",
        "  for i in zip(['val_loss', 'val_acc', 'loss', 'acc'], ['val_loss', 'val_acc', 'train_loss', 'train_acc']):\n",
        "    plt.plot(np.arange(0, num_epochs), h[i[0]], label=i[1])\n",
        "  \n",
        "  plt.title('loss and Acc for intel images.'.format(mode))\n",
        "  plt.xlabel('Epoch # ')\n",
        "  plt.ylabel('Loss / ACC')\n",
        "  plt.legend(loc='lower left')\n",
        "  plt.show()"
      ],
      "execution_count": 0,
      "outputs": []
    },
    {
      "cell_type": "code",
      "metadata": {
        "id": "z5x2pNgXIlWR",
        "colab_type": "code",
        "colab": {
          "base_uri": "https://localhost:8080/",
          "height": 408
        },
        "outputId": "df0432c3-5c0e-40d8-9212-a3419d19e34d"
      },
      "source": [
        "plot_metrics(h.history, 20, 'train')"
      ],
      "execution_count": 34,
      "outputs": [
        {
          "output_type": "display_data",
          "data": {
            "image/png": "[encoded data removed]",
            "text/plain": [
              "<Figure size 648x432 with 1 Axes>"
            ]
          },
          "metadata": {
            "tags": []
          }
        }
      ]
    },
    {
      "cell_type": "markdown",
      "metadata": {
        "id": "IsKd6pDbHHjz",
        "colab_type": "text"
      },
      "source": [
        "# Transfer learning"
      ]
    },
    {
      "cell_type": "code",
      "metadata": {
        "id": "4wOHzBdjHKYw",
        "colab_type": "code",
        "colab": {}
      },
      "source": [
        "from keras.applications import resnet50"
      ],
      "execution_count": 0,
      "outputs": []
    },
    {
      "cell_type": "code",
      "metadata": {
        "id": "4NnVg6WAHWsx",
        "colab_type": "code",
        "colab": {
          "base_uri": "https://localhost:8080/",
          "height": 1000
        },
        "outputId": "c4c44dd3-4bbc-47f4-cb7f-ec1168f1d81e"
      },
      "source": [
        "resnet50_model = resnet50.ResNet50(include_top=False, weights='imagenet', input_shape=(64, 64, 3), pooling='max', classes=6)\n",
        "resnet50_model.summary()"
      ],
      "execution_count": 40,
      "outputs": [
        {
          "output_type": "stream",
          "text": [
            "W0702 14:50:35.013236 140061887928192 deprecation_wrapper.py:119] From /usr/local/lib/python3.6/dist-packages/keras/backend/tensorflow_backend.py:1834: The name tf.nn.fused_batch_norm is deprecated. Please use tf.compat.v1.nn.fused_batch_norm instead.\n",
            "\n"
          ],
          "name": "stderr"
        },
        {
          "output_type": "stream",
          "text": [
            "Downloading data from https://github.com/fchollet/deep-learning-models/releases/download/v0.2/resnet50_weights_tf_dim_ordering_tf_kernels_notop.h5\n",
            "94658560/94653016 [==============================] - 1s 0us/step\n",
            "__________________________________________________________________________________________________\n",
            "Layer (type)                    Output Shape         Param #     Connected to                     \n",
            "==================================================================================================\n",
            "input_1 (InputLayer)            (None, 64, 64, 3)    0                                            \n",
            "__________________________________________________________________________________________________\n",
            "conv1_pad (ZeroPadding2D)       (None, 70, 70, 3)    0           input_1[0][0]                    \n",
            "__________________________________________________________________________________________________\n",
            "conv1 (Conv2D)                  (None, 32, 32, 64)   9472        conv1_pad[0][0]                  \n",
            "__________________________________________________________________________________________________\n",
            "bn_conv1 (BatchNormalization)   (None, 32, 32, 64)   256         conv1[0][0]                      \n",
            "__________________________________________________________________________________________________\n",
            "activation_7 (Activation)       (None, 32, 32, 64)   0           bn_conv1[0][0]                   \n",
            "__________________________________________________________________________________________________\n",
            "pool1_pad (ZeroPadding2D)       (None, 34, 34, 64)   0           activation_7[0][0]               \n",
            "__________________________________________________________________________________________________\n",
            "max_pooling2d_1 (MaxPooling2D)  (None, 16, 16, 64)   0           pool1_pad[0][0]                  \n",
            "__________________________________________________________________________________________________\n",
            "res2a_branch2a (Conv2D)         (None, 16, 16, 64)   4160        max_pooling2d_1[0][0]            \n",
            "__________________________________________________________________________________________________\n",
            "bn2a_branch2a (BatchNormalizati (None, 16, 16, 64)   256         res2a_branch2a[0][0]             \n",
            "__________________________________________________________________________________________________\n",
            "activation_8 (Activation)       (None, 16, 16, 64)   0           bn2a_branch2a[0][0]              \n",
            "__________________________________________________________________________________________________\n",
            "res2a_branch2b (Conv2D)         (None, 16, 16, 64)   36928       activation_8[0][0]               \n",
            "__________________________________________________________________________________________________\n",
            "bn2a_branch2b (BatchNormalizati (None, 16, 16, 64)   256         res2a_branch2b[0][0]             \n",
            "__________________________________________________________________________________________________\n",
            "activation_9 (Activation)       (None, 16, 16, 64)   0           bn2a_branch2b[0][0]              \n",
            "__________________________________________________________________________________________________\n",
            "res2a_branch2c (Conv2D)         (None, 16, 16, 256)  16640       activation_9[0][0]               \n",
            "__________________________________________________________________________________________________\n",
            "res2a_branch1 (Conv2D)          (None, 16, 16, 256)  16640       max_pooling2d_1[0][0]            \n",
            "__________________________________________________________________________________________________\n",
            "bn2a_branch2c (BatchNormalizati (None, 16, 16, 256)  1024        res2a_branch2c[0][0]             \n",
            "__________________________________________________________________________________________________\n",
            "bn2a_branch1 (BatchNormalizatio (None, 16, 16, 256)  1024        res2a_branch1[0][0]              \n",
            "__________________________________________________________________________________________________\n",
            "add_1 (Add)                     (None, 16, 16, 256)  0           bn2a_branch2c[0][0]              \n",
            "                                                                 bn2a_branch1[0][0]               \n",
            "__________________________________________________________________________________________________\n",
            "activation_10 (Activation)      (None, 16, 16, 256)  0           add_1[0][0]                      \n",
            "__________________________________________________________________________________________________\n",
            "res2b_branch2a (Conv2D)         (None, 16, 16, 64)   16448       activation_10[0][0]              \n",
            "__________________________________________________________________________________________________\n",
            "bn2b_branch2a (BatchNormalizati (None, 16, 16, 64)   256         res2b_branch2a[0][0]             \n",
            "__________________________________________________________________________________________________\n",
            "activation_11 (Activation)      (None, 16, 16, 64)   0           bn2b_branch2a[0][0]              \n",
            "__________________________________________________________________________________________________\n",
            "res2b_branch2b (Conv2D)         (None, 16, 16, 64)   36928       activation_11[0][0]              \n",
            "__________________________________________________________________________________________________\n",
            "bn2b_branch2b (BatchNormalizati (None, 16, 16, 64)   256         res2b_branch2b[0][0]             \n",
            "__________________________________________________________________________________________________\n",
            "activation_12 (Activation)      (None, 16, 16, 64)   0           bn2b_branch2b[0][0]              \n",
            "__________________________________________________________________________________________________\n",
            "res2b_branch2c (Conv2D)         (None, 16, 16, 256)  16640       activation_12[0][0]              \n",
            "__________________________________________________________________________________________________\n",
            "bn2b_branch2c (BatchNormalizati (None, 16, 16, 256)  1024        res2b_branch2c[0][0]             \n",
            "__________________________________________________________________________________________________\n",
            "add_2 (Add)                     (None, 16, 16, 256)  0           bn2b_branch2c[0][0]              \n",
            "                                                                 activation_10[0][0]              \n",
            "__________________________________________________________________________________________________\n",
            "activation_13 (Activation)      (None, 16, 16, 256)  0           add_2[0][0]                      \n",
            "__________________________________________________________________________________________________\n",
            "res2c_branch2a (Conv2D)         (None, 16, 16, 64)   16448       activation_13[0][0]              \n",
            "__________________________________________________________________________________________________\n",
            "bn2c_branch2a (BatchNormalizati (None, 16, 16, 64)   256         res2c_branch2a[0][0]             \n",
            "__________________________________________________________________________________________________\n",
            "activation_14 (Activation)      (None, 16, 16, 64)   0           bn2c_branch2a[0][0]              \n",
            "__________________________________________________________________________________________________\n",
            "res2c_branch2b (Conv2D)         (None, 16, 16, 64)   36928       activation_14[0][0]              \n",
            "__________________________________________________________________________________________________\n",
            "bn2c_branch2b (BatchNormalizati (None, 16, 16, 64)   256         res2c_branch2b[0][0]             \n",
            "__________________________________________________________________________________________________\n",
            "activation_15 (Activation)      (None, 16, 16, 64)   0           bn2c_branch2b[0][0]              \n",
            "__________________________________________________________________________________________________\n",
            "res2c_branch2c (Conv2D)         (None, 16, 16, 256)  16640       activation_15[0][0]              \n",
            "__________________________________________________________________________________________________\n",
            "bn2c_branch2c (BatchNormalizati (None, 16, 16, 256)  1024        res2c_branch2c[0][0]             \n",
            "__________________________________________________________________________________________________\n",
            "add_3 (Add)                     (None, 16, 16, 256)  0           bn2c_branch2c[0][0]              \n",
            "                                                                 activation_13[0][0]              \n",
            "__________________________________________________________________________________________________\n",
            "activation_16 (Activation)      (None, 16, 16, 256)  0           add_3[0][0]                      \n",
            "__________________________________________________________________________________________________\n",
            "res3a_branch2a (Conv2D)         (None, 8, 8, 128)    32896       activation_16[0][0]              \n",
            "__________________________________________________________________________________________________\n",
            "bn3a_branch2a (BatchNormalizati (None, 8, 8, 128)    512         res3a_branch2a[0][0]             \n",
            "__________________________________________________________________________________________________\n",
            "activation_17 (Activation)      (None, 8, 8, 128)    0           bn3a_branch2a[0][0]              \n",
            "__________________________________________________________________________________________________\n",
            "res3a_branch2b (Conv2D)         (None, 8, 8, 128)    147584      activation_17[0][0]              \n",
            "__________________________________________________________________________________________________\n",
            "bn3a_branch2b (BatchNormalizati (None, 8, 8, 128)    512         res3a_branch2b[0][0]             \n",
            "__________________________________________________________________________________________________\n",
            "activation_18 (Activation)      (None, 8, 8, 128)    0           bn3a_branch2b[0][0]              \n",
            "__________________________________________________________________________________________________\n",
            "res3a_branch2c (Conv2D)         (None, 8, 8, 512)    66048       activation_18[0][0]              \n",
            "__________________________________________________________________________________________________\n",
            "res3a_branch1 (Conv2D)          (None, 8, 8, 512)    131584      activation_16[0][0]              \n",
            "__________________________________________________________________________________________________\n",
            "bn3a_branch2c (BatchNormalizati (None, 8, 8, 512)    2048        res3a_branch2c[0][0]             \n",
            "__________________________________________________________________________________________________\n",
            "bn3a_branch1 (BatchNormalizatio (None, 8, 8, 512)    2048        res3a_branch1[0][0]              \n",
            "__________________________________________________________________________________________________\n",
            "add_4 (Add)                     (None, 8, 8, 512)    0           bn3a_branch2c[0][0]              \n",
            "                                                                 bn3a_branch1[0][0]               \n",
            "__________________________________________________________________________________________________\n",
            "activation_19 (Activation)      (None, 8, 8, 512)    0           add_4[0][0]                      \n",
            "__________________________________________________________________________________________________\n",
            "res3b_branch2a (Conv2D)         (None, 8, 8, 128)    65664       activation_19[0][0]              \n",
            "__________________________________________________________________________________________________\n",
            "bn3b_branch2a (BatchNormalizati (None, 8, 8, 128)    512         res3b_branch2a[0][0]             \n",
            "__________________________________________________________________________________________________\n",
            "activation_20 (Activation)      (None, 8, 8, 128)    0           bn3b_branch2a[0][0]              \n",
            "__________________________________________________________________________________________________\n",
            "res3b_branch2b (Conv2D)         (None, 8, 8, 128)    147584      activation_20[0][0]              \n",
            "__________________________________________________________________________________________________\n",
            "bn3b_branch2b (BatchNormalizati (None, 8, 8, 128)    512         res3b_branch2b[0][0]             \n",
            "__________________________________________________________________________________________________\n",
            "activation_21 (Activation)      (None, 8, 8, 128)    0           bn3b_branch2b[0][0]              \n",
            "__________________________________________________________________________________________________\n",
            "res3b_branch2c (Conv2D)         (None, 8, 8, 512)    66048       activation_21[0][0]              \n",
            "__________________________________________________________________________________________________\n",
            "bn3b_branch2c (BatchNormalizati (None, 8, 8, 512)    2048        res3b_branch2c[0][0]             \n",
            "__________________________________________________________________________________________________\n",
            "add_5 (Add)                     (None, 8, 8, 512)    0           bn3b_branch2c[0][0]              \n",
            "                                                                 activation_19[0][0]              \n",
            "__________________________________________________________________________________________________\n",
            "activation_22 (Activation)      (None, 8, 8, 512)    0           add_5[0][0]                      \n",
            "__________________________________________________________________________________________________\n",
            "res3c_branch2a (Conv2D)         (None, 8, 8, 128)    65664       activation_22[0][0]              \n",
            "__________________________________________________________________________________________________\n",
            "bn3c_branch2a (BatchNormalizati (None, 8, 8, 128)    512         res3c_branch2a[0][0]             \n",
            "__________________________________________________________________________________________________\n",
            "activation_23 (Activation)      (None, 8, 8, 128)    0           bn3c_branch2a[0][0]              \n",
            "__________________________________________________________________________________________________\n",
            "res3c_branch2b (Conv2D)         (None, 8, 8, 128)    147584      activation_23[0][0]              \n",
            "__________________________________________________________________________________________________\n",
            "bn3c_branch2b (BatchNormalizati (None, 8, 8, 128)    512         res3c_branch2b[0][0]             \n",
            "__________________________________________________________________________________________________\n",
            "activation_24 (Activation)      (None, 8, 8, 128)    0           bn3c_branch2b[0][0]              \n",
            "__________________________________________________________________________________________________\n",
            "res3c_branch2c (Conv2D)         (None, 8, 8, 512)    66048       activation_24[0][0]              \n",
            "__________________________________________________________________________________________________\n",
            "bn3c_branch2c (BatchNormalizati (None, 8, 8, 512)    2048        res3c_branch2c[0][0]             \n",
            "__________________________________________________________________________________________________\n",
            "add_6 (Add)                     (None, 8, 8, 512)    0           bn3c_branch2c[0][0]              \n",
            "                                                                 activation_22[0][0]              \n",
            "__________________________________________________________________________________________________\n",
            "activation_25 (Activation)      (None, 8, 8, 512)    0           add_6[0][0]                      \n",
            "__________________________________________________________________________________________________\n",
            "res3d_branch2a (Conv2D)         (None, 8, 8, 128)    65664       activation_25[0][0]              \n",
            "__________________________________________________________________________________________________\n",
            "bn3d_branch2a (BatchNormalizati (None, 8, 8, 128)    512         res3d_branch2a[0][0]             \n",
            "__________________________________________________________________________________________________\n",
            "activation_26 (Activation)      (None, 8, 8, 128)    0           bn3d_branch2a[0][0]              \n",
            "__________________________________________________________________________________________________\n",
            "res3d_branch2b (Conv2D)         (None, 8, 8, 128)    147584      activation_26[0][0]              \n",
            "__________________________________________________________________________________________________\n",
            "bn3d_branch2b (BatchNormalizati (None, 8, 8, 128)    512         res3d_branch2b[0][0]             \n",
            "__________________________________________________________________________________________________\n",
            "activation_27 (Activation)      (None, 8, 8, 128)    0           bn3d_branch2b[0][0]              \n",
            "__________________________________________________________________________________________________\n",
            "res3d_branch2c (Conv2D)         (None, 8, 8, 512)    66048       activation_27[0][0]              \n",
            "__________________________________________________________________________________________________\n",
            "bn3d_branch2c (BatchNormalizati (None, 8, 8, 512)    2048        res3d_branch2c[0][0]             \n",
            "__________________________________________________________________________________________________\n",
            "add_7 (Add)                     (None, 8, 8, 512)    0           bn3d_branch2c[0][0]              \n",
            "                                                                 activation_25[0][0]              \n",
            "__________________________________________________________________________________________________\n",
            "activation_28 (Activation)      (None, 8, 8, 512)    0           add_7[0][0]                      \n",
            "__________________________________________________________________________________________________\n",
            "res4a_branch2a (Conv2D)         (None, 4, 4, 256)    131328      activation_28[0][0]              \n",
            "__________________________________________________________________________________________________\n",
            "bn4a_branch2a (BatchNormalizati (None, 4, 4, 256)    1024        res4a_branch2a[0][0]             \n",
            "__________________________________________________________________________________________________\n",
            "activation_29 (Activation)      (None, 4, 4, 256)    0           bn4a_branch2a[0][0]              \n",
            "__________________________________________________________________________________________________\n",
            "res4a_branch2b (Conv2D)         (None, 4, 4, 256)    590080      activation_29[0][0]              \n",
            "__________________________________________________________________________________________________\n",
            "bn4a_branch2b (BatchNormalizati (None, 4, 4, 256)    1024        res4a_branch2b[0][0]             \n",
            "__________________________________________________________________________________________________\n",
            "activation_30 (Activation)      (None, 4, 4, 256)    0           bn4a_branch2b[0][0]              \n",
            "__________________________________________________________________________________________________\n",
            "res4a_branch2c (Conv2D)         (None, 4, 4, 1024)   263168      activation_30[0][0]              \n",
            "__________________________________________________________________________________________________\n",
            "res4a_branch1 (Conv2D)          (None, 4, 4, 1024)   525312      activation_28[0][0]              \n",
            "__________________________________________________________________________________________________\n",
            "bn4a_branch2c (BatchNormalizati (None, 4, 4, 1024)   4096        res4a_branch2c[0][0]             \n",
            "__________________________________________________________________________________________________\n",
            "bn4a_branch1 (BatchNormalizatio (None, 4, 4, 1024)   4096        res4a_branch1[0][0]              \n",
            "__________________________________________________________________________________________________\n",
            "add_8 (Add)                     (None, 4, 4, 1024)   0           bn4a_branch2c[0][0]              \n",
            "                                                                 bn4a_branch1[0][0]               \n",
            "__________________________________________________________________________________________________\n",
            "activation_31 (Activation)      (None, 4, 4, 1024)   0           add_8[0][0]                      \n",
            "__________________________________________________________________________________________________\n",
            "res4b_branch2a (Conv2D)         (None, 4, 4, 256)    262400      activation_31[0][0]              \n",
            "__________________________________________________________________________________________________\n",
            "bn4b_branch2a (BatchNormalizati (None, 4, 4, 256)    1024        res4b_branch2a[0][0]             \n",
            "__________________________________________________________________________________________________\n",
            "activation_32 (Activation)      (None, 4, 4, 256)    0           bn4b_branch2a[0][0]              \n",
            "__________________________________________________________________________________________________\n",
            "res4b_branch2b (Conv2D)         (None, 4, 4, 256)    590080      activation_32[0][0]              \n",
            "__________________________________________________________________________________________________\n",
            "bn4b_branch2b (BatchNormalizati (None, 4, 4, 256)    1024        res4b_branch2b[0][0]             \n",
            "__________________________________________________________________________________________________\n",
            "activation_33 (Activation)      (None, 4, 4, 256)    0           bn4b_branch2b[0][0]              \n",
            "__________________________________________________________________________________________________\n",
            "res4b_branch2c (Conv2D)         (None, 4, 4, 1024)   263168      activation_33[0][0]              \n",
            "__________________________________________________________________________________________________\n",
            "bn4b_branch2c (BatchNormalizati (None, 4, 4, 1024)   4096        res4b_branch2c[0][0]             \n",
            "__________________________________________________________________________________________________\n",
            "add_9 (Add)                     (None, 4, 4, 1024)   0           bn4b_branch2c[0][0]              \n",
            "                                                                 activation_31[0][0]              \n",
            "__________________________________________________________________________________________________\n",
            "activation_34 (Activation)      (None, 4, 4, 1024)   0           add_9[0][0]                      \n",
            "__________________________________________________________________________________________________\n",
            "res4c_branch2a (Conv2D)         (None, 4, 4, 256)    262400      activation_34[0][0]              \n",
            "__________________________________________________________________________________________________\n",
            "bn4c_branch2a (BatchNormalizati (None, 4, 4, 256)    1024        res4c_branch2a[0][0]             \n",
            "__________________________________________________________________________________________________\n",
            "activation_35 (Activation)      (None, 4, 4, 256)    0           bn4c_branch2a[0][0]              \n",
            "__________________________________________________________________________________________________\n",
            "res4c_branch2b (Conv2D)         (None, 4, 4, 256)    590080      activation_35[0][0]              \n",
            "__________________________________________________________________________________________________\n",
            "bn4c_branch2b (BatchNormalizati (None, 4, 4, 256)    1024        res4c_branch2b[0][0]             \n",
            "__________________________________________________________________________________________________\n",
            "activation_36 (Activation)      (None, 4, 4, 256)    0           bn4c_branch2b[0][0]              \n",
            "__________________________________________________________________________________________________\n",
            "res4c_branch2c (Conv2D)         (None, 4, 4, 1024)   263168      activation_36[0][0]              \n",
            "__________________________________________________________________________________________________\n",
            "bn4c_branch2c (BatchNormalizati (None, 4, 4, 1024)   4096        res4c_branch2c[0][0]             \n",
            "__________________________________________________________________________________________________\n",
            "add_10 (Add)                    (None, 4, 4, 1024)   0           bn4c_branch2c[0][0]              \n",
            "                                                                 activation_34[0][0]              \n",
            "__________________________________________________________________________________________________\n",
            "activation_37 (Activation)      (None, 4, 4, 1024)   0           add_10[0][0]                     \n",
            "__________________________________________________________________________________________________\n",
            "res4d_branch2a (Conv2D)         (None, 4, 4, 256)    262400      activation_37[0][0]              \n",
            "__________________________________________________________________________________________________\n",
            "bn4d_branch2a (BatchNormalizati (None, 4, 4, 256)    1024        res4d_branch2a[0][0]             \n",
            "__________________________________________________________________________________________________\n",
            "activation_38 (Activation)      (None, 4, 4, 256)    0           bn4d_branch2a[0][0]              \n",
            "__________________________________________________________________________________________________\n",
            "res4d_branch2b (Conv2D)         (None, 4, 4, 256)    590080      activation_38[0][0]              \n",
            "__________________________________________________________________________________________________\n",
            "bn4d_branch2b (BatchNormalizati (None, 4, 4, 256)    1024        res4d_branch2b[0][0]             \n",
            "__________________________________________________________________________________________________\n",
            "activation_39 (Activation)      (None, 4, 4, 256)    0           bn4d_branch2b[0][0]              \n",
            "__________________________________________________________________________________________________\n",
            "res4d_branch2c (Conv2D)         (None, 4, 4, 1024)   263168      activation_39[0][0]              \n",
            "__________________________________________________________________________________________________\n",
            "bn4d_branch2c (BatchNormalizati (None, 4, 4, 1024)   4096        res4d_branch2c[0][0]             \n",
            "__________________________________________________________________________________________________\n",
            "add_11 (Add)                    (None, 4, 4, 1024)   0           bn4d_branch2c[0][0]              \n",
            "                                                                 activation_37[0][0]              \n",
            "__________________________________________________________________________________________________\n",
            "activation_40 (Activation)      (None, 4, 4, 1024)   0           add_11[0][0]                     \n",
            "__________________________________________________________________________________________________\n",
            "res4e_branch2a (Conv2D)         (None, 4, 4, 256)    262400      activation_40[0][0]              \n",
            "__________________________________________________________________________________________________\n",
            "bn4e_branch2a (BatchNormalizati (None, 4, 4, 256)    1024        res4e_branch2a[0][0]             \n",
            "__________________________________________________________________________________________________\n",
            "activation_41 (Activation)      (None, 4, 4, 256)    0           bn4e_branch2a[0][0]              \n",
            "__________________________________________________________________________________________________\n",
            "res4e_branch2b (Conv2D)         (None, 4, 4, 256)    590080      activation_41[0][0]              \n",
            "__________________________________________________________________________________________________\n",
            "bn4e_branch2b (BatchNormalizati (None, 4, 4, 256)    1024        res4e_branch2b[0][0]             \n",
            "__________________________________________________________________________________________________\n",
            "activation_42 (Activation)      (None, 4, 4, 256)    0           bn4e_branch2b[0][0]              \n",
            "__________________________________________________________________________________________________\n",
            "res4e_branch2c (Conv2D)         (None, 4, 4, 1024)   263168      activation_42[0][0]              \n",
            "__________________________________________________________________________________________________\n",
            "bn4e_branch2c (BatchNormalizati (None, 4, 4, 1024)   4096        res4e_branch2c[0][0]             \n",
            "__________________________________________________________________________________________________\n",
            "add_12 (Add)                    (None, 4, 4, 1024)   0           bn4e_branch2c[0][0]              \n",
            "                                                                 activation_40[0][0]              \n",
            "__________________________________________________________________________________________________\n",
            "activation_43 (Activation)      (None, 4, 4, 1024)   0           add_12[0][0]                     \n",
            "__________________________________________________________________________________________________\n",
            "res4f_branch2a (Conv2D)         (None, 4, 4, 256)    262400      activation_43[0][0]              \n",
            "__________________________________________________________________________________________________\n",
            "bn4f_branch2a (BatchNormalizati (None, 4, 4, 256)    1024        res4f_branch2a[0][0]             \n",
            "__________________________________________________________________________________________________\n",
            "activation_44 (Activation)      (None, 4, 4, 256)    0           bn4f_branch2a[0][0]              \n",
            "__________________________________________________________________________________________________\n",
            "res4f_branch2b (Conv2D)         (None, 4, 4, 256)    590080      activation_44[0][0]              \n",
            "__________________________________________________________________________________________________\n",
            "bn4f_branch2b (BatchNormalizati (None, 4, 4, 256)    1024        res4f_branch2b[0][0]             \n",
            "__________________________________________________________________________________________________\n",
            "activation_45 (Activation)      (None, 4, 4, 256)    0           bn4f_branch2b[0][0]              \n",
            "__________________________________________________________________________________________________\n",
            "res4f_branch2c (Conv2D)         (None, 4, 4, 1024)   263168      activation_45[0][0]              \n",
            "__________________________________________________________________________________________________\n",
            "bn4f_branch2c (BatchNormalizati (None, 4, 4, 1024)   4096        res4f_branch2c[0][0]             \n",
            "__________________________________________________________________________________________________\n",
            "add_13 (Add)                    (None, 4, 4, 1024)   0           bn4f_branch2c[0][0]              \n",
            "                                                                 activation_43[0][0]              \n",
            "__________________________________________________________________________________________________\n",
            "activation_46 (Activation)      (None, 4, 4, 1024)   0           add_13[0][0]                     \n",
            "__________________________________________________________________________________________________\n",
            "res5a_branch2a (Conv2D)         (None, 2, 2, 512)    524800      activation_46[0][0]              \n",
            "__________________________________________________________________________________________________\n",
            "bn5a_branch2a (BatchNormalizati (None, 2, 2, 512)    2048        res5a_branch2a[0][0]             \n",
            "__________________________________________________________________________________________________\n",
            "activation_47 (Activation)      (None, 2, 2, 512)    0           bn5a_branch2a[0][0]              \n",
            "__________________________________________________________________________________________________\n",
            "res5a_branch2b (Conv2D)         (None, 2, 2, 512)    2359808     activation_47[0][0]              \n",
            "__________________________________________________________________________________________________\n",
            "bn5a_branch2b (BatchNormalizati (None, 2, 2, 512)    2048        res5a_branch2b[0][0]             \n",
            "__________________________________________________________________________________________________\n",
            "activation_48 (Activation)      (None, 2, 2, 512)    0           bn5a_branch2b[0][0]              \n",
            "__________________________________________________________________________________________________\n",
            "res5a_branch2c (Conv2D)         (None, 2, 2, 2048)   1050624     activation_48[0][0]              \n",
            "__________________________________________________________________________________________________\n",
            "res5a_branch1 (Conv2D)          (None, 2, 2, 2048)   2099200     activation_46[0][0]              \n",
            "__________________________________________________________________________________________________\n",
            "bn5a_branch2c (BatchNormalizati (None, 2, 2, 2048)   8192        res5a_branch2c[0][0]             \n",
            "__________________________________________________________________________________________________\n",
            "bn5a_branch1 (BatchNormalizatio (None, 2, 2, 2048)   8192        res5a_branch1[0][0]              \n",
            "__________________________________________________________________________________________________\n",
            "add_14 (Add)                    (None, 2, 2, 2048)   0           bn5a_branch2c[0][0]              \n",
            "                                                                 bn5a_branch1[0][0]               \n",
            "__________________________________________________________________________________________________\n",
            "activation_49 (Activation)      (None, 2, 2, 2048)   0           add_14[0][0]                     \n",
            "__________________________________________________________________________________________________\n",
            "res5b_branch2a (Conv2D)         (None, 2, 2, 512)    1049088     activation_49[0][0]              \n",
            "__________________________________________________________________________________________________\n",
            "bn5b_branch2a (BatchNormalizati (None, 2, 2, 512)    2048        res5b_branch2a[0][0]             \n",
            "__________________________________________________________________________________________________\n",
            "activation_50 (Activation)      (None, 2, 2, 512)    0           bn5b_branch2a[0][0]              \n",
            "__________________________________________________________________________________________________\n",
            "res5b_branch2b (Conv2D)         (None, 2, 2, 512)    2359808     activation_50[0][0]              \n",
            "__________________________________________________________________________________________________\n",
            "bn5b_branch2b (BatchNormalizati (None, 2, 2, 512)    2048        res5b_branch2b[0][0]             \n",
            "__________________________________________________________________________________________________\n",
            "activation_51 (Activation)      (None, 2, 2, 512)    0           bn5b_branch2b[0][0]              \n",
            "__________________________________________________________________________________________________\n",
            "res5b_branch2c (Conv2D)         (None, 2, 2, 2048)   1050624     activation_51[0][0]              \n",
            "__________________________________________________________________________________________________\n",
            "bn5b_branch2c (BatchNormalizati (None, 2, 2, 2048)   8192        res5b_branch2c[0][0]             \n",
            "__________________________________________________________________________________________________\n",
            "add_15 (Add)                    (None, 2, 2, 2048)   0           bn5b_branch2c[0][0]              \n",
            "                                                                 activation_49[0][0]              \n",
            "__________________________________________________________________________________________________\n",
            "activation_52 (Activation)      (None, 2, 2, 2048)   0           add_15[0][0]                     \n",
            "__________________________________________________________________________________________________\n",
            "res5c_branch2a (Conv2D)         (None, 2, 2, 512)    1049088     activation_52[0][0]              \n",
            "__________________________________________________________________________________________________\n",
            "bn5c_branch2a (BatchNormalizati (None, 2, 2, 512)    2048        res5c_branch2a[0][0]             \n",
            "__________________________________________________________________________________________________\n",
            "activation_53 (Activation)      (None, 2, 2, 512)    0           bn5c_branch2a[0][0]              \n",
            "__________________________________________________________________________________________________\n",
            "res5c_branch2b (Conv2D)         (None, 2, 2, 512)    2359808     activation_53[0][0]              \n",
            "__________________________________________________________________________________________________\n",
            "bn5c_branch2b (BatchNormalizati (None, 2, 2, 512)    2048        res5c_branch2b[0][0]             \n",
            "__________________________________________________________________________________________________\n",
            "activation_54 (Activation)      (None, 2, 2, 512)    0           bn5c_branch2b[0][0]              \n",
            "__________________________________________________________________________________________________\n",
            "res5c_branch2c (Conv2D)         (None, 2, 2, 2048)   1050624     activation_54[0][0]              \n",
            "__________________________________________________________________________________________________\n",
            "bn5c_branch2c (BatchNormalizati (None, 2, 2, 2048)   8192        res5c_branch2c[0][0]             \n",
            "__________________________________________________________________________________________________\n",
            "add_16 (Add)                    (None, 2, 2, 2048)   0           bn5c_branch2c[0][0]              \n",
            "                                                                 activation_52[0][0]              \n",
            "__________________________________________________________________________________________________\n",
            "activation_55 (Activation)      (None, 2, 2, 2048)   0           add_16[0][0]                     \n",
            "__________________________________________________________________________________________________\n",
            "global_max_pooling2d_1 (GlobalM (None, 2048)         0           activation_55[0][0]              \n",
            "==================================================================================================\n",
            "Total params: 23,587,712\n",
            "Trainable params: 23,534,592\n",
            "Non-trainable params: 53,120\n",
            "__________________________________________________________________________________________________\n"
          ],
          "name": "stdout"
        }
      ]
    },
    {
      "cell_type": "code",
      "metadata": {
        "id": "ExhE921IKaIn",
        "colab_type": "code",
        "colab": {}
      },
      "source": [
        "for layer in resnet50_model.layers:\n",
        "  layer.trainable=False"
      ],
      "execution_count": 0,
      "outputs": []
    },
    {
      "cell_type": "code",
      "metadata": {
        "id": "SgSvr2bWKt9n",
        "colab_type": "code",
        "colab": {}
      },
      "source": [
        "def build_model_base(pretrained_model, batch_size=32):\n",
        "  \"\"\"Function to build a vgg19 based model.\"\"\"\n",
        "  x = pretrained_model.output\n",
        "  x = keras.layers.Dense(120, activation=\"relu\", name=\"dense_2\")(x)\n",
        "  prediction = keras.layers.Dense(6, activation=\"softmax\", name=\"prediction\")(x)\n",
        "  \n",
        "  model = keras.models.Model(\n",
        "      inputs=[pretrained_model.input],\n",
        "      outputs=[prediction]\n",
        "  )\n",
        "  opt = keras.optimizers.Adam(lr=1e-3, decay=1e-3/batch_size)\n",
        "  model.compile(loss=\"categorical_crossentropy\", optimizer=opt, metrics=['accuracy'])\n",
        "  return model"
      ],
      "execution_count": 0,
      "outputs": []
    },
    {
      "cell_type": "code",
      "metadata": {
        "id": "Jlk16m9jK49G",
        "colab_type": "code",
        "colab": {
          "base_uri": "https://localhost:8080/",
          "height": 1000
        },
        "outputId": "11977a47-bc53-48cc-fc0f-b2151ee6a703"
      },
      "source": [
        "model = build_model_base(resnet50_model)\n",
        "model.summary()"
      ],
      "execution_count": 43,
      "outputs": [
        {
          "output_type": "stream",
          "text": [
            "__________________________________________________________________________________________________\n",
            "Layer (type)                    Output Shape         Param #     Connected to                     \n",
            "==================================================================================================\n",
            "input_1 (InputLayer)            (None, 64, 64, 3)    0                                            \n",
            "__________________________________________________________________________________________________\n",
            "conv1_pad (ZeroPadding2D)       (None, 70, 70, 3)    0           input_1[0][0]                    \n",
            "__________________________________________________________________________________________________\n",
            "conv1 (Conv2D)                  (None, 32, 32, 64)   9472        conv1_pad[0][0]                  \n",
            "__________________________________________________________________________________________________\n",
            "bn_conv1 (BatchNormalization)   (None, 32, 32, 64)   256         conv1[0][0]                      \n",
            "__________________________________________________________________________________________________\n",
            "activation_7 (Activation)       (None, 32, 32, 64)   0           bn_conv1[0][0]                   \n",
            "__________________________________________________________________________________________________\n",
            "pool1_pad (ZeroPadding2D)       (None, 34, 34, 64)   0           activation_7[0][0]               \n",
            "__________________________________________________________________________________________________\n",
            "max_pooling2d_1 (MaxPooling2D)  (None, 16, 16, 64)   0           pool1_pad[0][0]                  \n",
            "__________________________________________________________________________________________________\n",
            "res2a_branch2a (Conv2D)         (None, 16, 16, 64)   4160        max_pooling2d_1[0][0]            \n",
            "__________________________________________________________________________________________________\n",
            "bn2a_branch2a (BatchNormalizati (None, 16, 16, 64)   256         res2a_branch2a[0][0]             \n",
            "__________________________________________________________________________________________________\n",
            "activation_8 (Activation)       (None, 16, 16, 64)   0           bn2a_branch2a[0][0]              \n",
            "__________________________________________________________________________________________________\n",
            "res2a_branch2b (Conv2D)         (None, 16, 16, 64)   36928       activation_8[0][0]               \n",
            "__________________________________________________________________________________________________\n",
            "bn2a_branch2b (BatchNormalizati (None, 16, 16, 64)   256         res2a_branch2b[0][0]             \n",
            "__________________________________________________________________________________________________\n",
            "activation_9 (Activation)       (None, 16, 16, 64)   0           bn2a_branch2b[0][0]              \n",
            "__________________________________________________________________________________________________\n",
            "res2a_branch2c (Conv2D)         (None, 16, 16, 256)  16640       activation_9[0][0]               \n",
            "__________________________________________________________________________________________________\n",
            "res2a_branch1 (Conv2D)          (None, 16, 16, 256)  16640       max_pooling2d_1[0][0]            \n",
            "__________________________________________________________________________________________________\n",
            "bn2a_branch2c (BatchNormalizati (None, 16, 16, 256)  1024        res2a_branch2c[0][0]             \n",
            "__________________________________________________________________________________________________\n",
            "bn2a_branch1 (BatchNormalizatio (None, 16, 16, 256)  1024        res2a_branch1[0][0]              \n",
            "__________________________________________________________________________________________________\n",
            "add_1 (Add)                     (None, 16, 16, 256)  0           bn2a_branch2c[0][0]              \n",
            "                                                                 bn2a_branch1[0][0]               \n",
            "__________________________________________________________________________________________________\n",
            "activation_10 (Activation)      (None, 16, 16, 256)  0           add_1[0][0]                      \n",
            "__________________________________________________________________________________________________\n",
            "res2b_branch2a (Conv2D)         (None, 16, 16, 64)   16448       activation_10[0][0]              \n",
            "__________________________________________________________________________________________________\n",
            "bn2b_branch2a (BatchNormalizati (None, 16, 16, 64)   256         res2b_branch2a[0][0]             \n",
            "__________________________________________________________________________________________________\n",
            "activation_11 (Activation)      (None, 16, 16, 64)   0           bn2b_branch2a[0][0]              \n",
            "__________________________________________________________________________________________________\n",
            "res2b_branch2b (Conv2D)         (None, 16, 16, 64)   36928       activation_11[0][0]              \n",
            "__________________________________________________________________________________________________\n",
            "bn2b_branch2b (BatchNormalizati (None, 16, 16, 64)   256         res2b_branch2b[0][0]             \n",
            "__________________________________________________________________________________________________\n",
            "activation_12 (Activation)      (None, 16, 16, 64)   0           bn2b_branch2b[0][0]              \n",
            "__________________________________________________________________________________________________\n",
            "res2b_branch2c (Conv2D)         (None, 16, 16, 256)  16640       activation_12[0][0]              \n",
            "__________________________________________________________________________________________________\n",
            "bn2b_branch2c (BatchNormalizati (None, 16, 16, 256)  1024        res2b_branch2c[0][0]             \n",
            "__________________________________________________________________________________________________\n",
            "add_2 (Add)                     (None, 16, 16, 256)  0           bn2b_branch2c[0][0]              \n",
            "                                                                 activation_10[0][0]              \n",
            "__________________________________________________________________________________________________\n",
            "activation_13 (Activation)      (None, 16, 16, 256)  0           add_2[0][0]                      \n",
            "__________________________________________________________________________________________________\n",
            "res2c_branch2a (Conv2D)         (None, 16, 16, 64)   16448       activation_13[0][0]              \n",
            "__________________________________________________________________________________________________\n",
            "bn2c_branch2a (BatchNormalizati (None, 16, 16, 64)   256         res2c_branch2a[0][0]             \n",
            "__________________________________________________________________________________________________\n",
            "activation_14 (Activation)      (None, 16, 16, 64)   0           bn2c_branch2a[0][0]              \n",
            "__________________________________________________________________________________________________\n",
            "res2c_branch2b (Conv2D)         (None, 16, 16, 64)   36928       activation_14[0][0]              \n",
            "__________________________________________________________________________________________________\n",
            "bn2c_branch2b (BatchNormalizati (None, 16, 16, 64)   256         res2c_branch2b[0][0]             \n",
            "__________________________________________________________________________________________________\n",
            "activation_15 (Activation)      (None, 16, 16, 64)   0           bn2c_branch2b[0][0]              \n",
            "__________________________________________________________________________________________________\n",
            "res2c_branch2c (Conv2D)         (None, 16, 16, 256)  16640       activation_15[0][0]              \n",
            "__________________________________________________________________________________________________\n",
            "bn2c_branch2c (BatchNormalizati (None, 16, 16, 256)  1024        res2c_branch2c[0][0]             \n",
            "__________________________________________________________________________________________________\n",
            "add_3 (Add)                     (None, 16, 16, 256)  0           bn2c_branch2c[0][0]              \n",
            "                                                                 activation_13[0][0]              \n",
            "__________________________________________________________________________________________________\n",
            "activation_16 (Activation)      (None, 16, 16, 256)  0           add_3[0][0]                      \n",
            "__________________________________________________________________________________________________\n",
            "res3a_branch2a (Conv2D)         (None, 8, 8, 128)    32896       activation_16[0][0]              \n",
            "__________________________________________________________________________________________________\n",
            "bn3a_branch2a (BatchNormalizati (None, 8, 8, 128)    512         res3a_branch2a[0][0]             \n",
            "__________________________________________________________________________________________________\n",
            "activation_17 (Activation)      (None, 8, 8, 128)    0           bn3a_branch2a[0][0]              \n",
            "__________________________________________________________________________________________________\n",
            "res3a_branch2b (Conv2D)         (None, 8, 8, 128)    147584      activation_17[0][0]              \n",
            "__________________________________________________________________________________________________\n",
            "bn3a_branch2b (BatchNormalizati (None, 8, 8, 128)    512         res3a_branch2b[0][0]             \n",
            "__________________________________________________________________________________________________\n",
            "activation_18 (Activation)      (None, 8, 8, 128)    0           bn3a_branch2b[0][0]              \n",
            "__________________________________________________________________________________________________\n",
            "res3a_branch2c (Conv2D)         (None, 8, 8, 512)    66048       activation_18[0][0]              \n",
            "__________________________________________________________________________________________________\n",
            "res3a_branch1 (Conv2D)          (None, 8, 8, 512)    131584      activation_16[0][0]              \n",
            "__________________________________________________________________________________________________\n",
            "bn3a_branch2c (BatchNormalizati (None, 8, 8, 512)    2048        res3a_branch2c[0][0]             \n",
            "__________________________________________________________________________________________________\n",
            "bn3a_branch1 (BatchNormalizatio (None, 8, 8, 512)    2048        res3a_branch1[0][0]              \n",
            "__________________________________________________________________________________________________\n",
            "add_4 (Add)                     (None, 8, 8, 512)    0           bn3a_branch2c[0][0]              \n",
            "                                                                 bn3a_branch1[0][0]               \n",
            "__________________________________________________________________________________________________\n",
            "activation_19 (Activation)      (None, 8, 8, 512)    0           add_4[0][0]                      \n",
            "__________________________________________________________________________________________________\n",
            "res3b_branch2a (Conv2D)         (None, 8, 8, 128)    65664       activation_19[0][0]              \n",
            "__________________________________________________________________________________________________\n",
            "bn3b_branch2a (BatchNormalizati (None, 8, 8, 128)    512         res3b_branch2a[0][0]             \n",
            "__________________________________________________________________________________________________\n",
            "activation_20 (Activation)      (None, 8, 8, 128)    0           bn3b_branch2a[0][0]              \n",
            "__________________________________________________________________________________________________\n",
            "res3b_branch2b (Conv2D)         (None, 8, 8, 128)    147584      activation_20[0][0]              \n",
            "__________________________________________________________________________________________________\n",
            "bn3b_branch2b (BatchNormalizati (None, 8, 8, 128)    512         res3b_branch2b[0][0]             \n",
            "__________________________________________________________________________________________________\n",
            "activation_21 (Activation)      (None, 8, 8, 128)    0           bn3b_branch2b[0][0]              \n",
            "__________________________________________________________________________________________________\n",
            "res3b_branch2c (Conv2D)         (None, 8, 8, 512)    66048       activation_21[0][0]              \n",
            "__________________________________________________________________________________________________\n",
            "bn3b_branch2c (BatchNormalizati (None, 8, 8, 512)    2048        res3b_branch2c[0][0]             \n",
            "__________________________________________________________________________________________________\n",
            "add_5 (Add)                     (None, 8, 8, 512)    0           bn3b_branch2c[0][0]              \n",
            "                                                                 activation_19[0][0]              \n",
            "__________________________________________________________________________________________________\n",
            "activation_22 (Activation)      (None, 8, 8, 512)    0           add_5[0][0]                      \n",
            "__________________________________________________________________________________________________\n",
            "res3c_branch2a (Conv2D)         (None, 8, 8, 128)    65664       activation_22[0][0]              \n",
            "__________________________________________________________________________________________________\n",
            "bn3c_branch2a (BatchNormalizati (None, 8, 8, 128)    512         res3c_branch2a[0][0]             \n",
            "__________________________________________________________________________________________________\n",
            "activation_23 (Activation)      (None, 8, 8, 128)    0           bn3c_branch2a[0][0]              \n",
            "__________________________________________________________________________________________________\n",
            "res3c_branch2b (Conv2D)         (None, 8, 8, 128)    147584      activation_23[0][0]              \n",
            "__________________________________________________________________________________________________\n",
            "bn3c_branch2b (BatchNormalizati (None, 8, 8, 128)    512         res3c_branch2b[0][0]             \n",
            "__________________________________________________________________________________________________\n",
            "activation_24 (Activation)      (None, 8, 8, 128)    0           bn3c_branch2b[0][0]              \n",
            "__________________________________________________________________________________________________\n",
            "res3c_branch2c (Conv2D)         (None, 8, 8, 512)    66048       activation_24[0][0]              \n",
            "__________________________________________________________________________________________________\n",
            "bn3c_branch2c (BatchNormalizati (None, 8, 8, 512)    2048        res3c_branch2c[0][0]             \n",
            "__________________________________________________________________________________________________\n",
            "add_6 (Add)                     (None, 8, 8, 512)    0           bn3c_branch2c[0][0]              \n",
            "                                                                 activation_22[0][0]              \n",
            "__________________________________________________________________________________________________\n",
            "activation_25 (Activation)      (None, 8, 8, 512)    0           add_6[0][0]                      \n",
            "__________________________________________________________________________________________________\n",
            "res3d_branch2a (Conv2D)         (None, 8, 8, 128)    65664       activation_25[0][0]              \n",
            "__________________________________________________________________________________________________\n",
            "bn3d_branch2a (BatchNormalizati (None, 8, 8, 128)    512         res3d_branch2a[0][0]             \n",
            "__________________________________________________________________________________________________\n",
            "activation_26 (Activation)      (None, 8, 8, 128)    0           bn3d_branch2a[0][0]              \n",
            "__________________________________________________________________________________________________\n",
            "res3d_branch2b (Conv2D)         (None, 8, 8, 128)    147584      activation_26[0][0]              \n",
            "__________________________________________________________________________________________________\n",
            "bn3d_branch2b (BatchNormalizati (None, 8, 8, 128)    512         res3d_branch2b[0][0]             \n",
            "__________________________________________________________________________________________________\n",
            "activation_27 (Activation)      (None, 8, 8, 128)    0           bn3d_branch2b[0][0]              \n",
            "__________________________________________________________________________________________________\n",
            "res3d_branch2c (Conv2D)         (None, 8, 8, 512)    66048       activation_27[0][0]              \n",
            "__________________________________________________________________________________________________\n",
            "bn3d_branch2c (BatchNormalizati (None, 8, 8, 512)    2048        res3d_branch2c[0][0]             \n",
            "__________________________________________________________________________________________________\n",
            "add_7 (Add)                     (None, 8, 8, 512)    0           bn3d_branch2c[0][0]              \n",
            "                                                                 activation_25[0][0]              \n",
            "__________________________________________________________________________________________________\n",
            "activation_28 (Activation)      (None, 8, 8, 512)    0           add_7[0][0]                      \n",
            "__________________________________________________________________________________________________\n",
            "res4a_branch2a (Conv2D)         (None, 4, 4, 256)    131328      activation_28[0][0]              \n",
            "__________________________________________________________________________________________________\n",
            "bn4a_branch2a (BatchNormalizati (None, 4, 4, 256)    1024        res4a_branch2a[0][0]             \n",
            "__________________________________________________________________________________________________\n",
            "activation_29 (Activation)      (None, 4, 4, 256)    0           bn4a_branch2a[0][0]              \n",
            "__________________________________________________________________________________________________\n",
            "res4a_branch2b (Conv2D)         (None, 4, 4, 256)    590080      activation_29[0][0]              \n",
            "__________________________________________________________________________________________________\n",
            "bn4a_branch2b (BatchNormalizati (None, 4, 4, 256)    1024        res4a_branch2b[0][0]             \n",
            "__________________________________________________________________________________________________\n",
            "activation_30 (Activation)      (None, 4, 4, 256)    0           bn4a_branch2b[0][0]              \n",
            "__________________________________________________________________________________________________\n",
            "res4a_branch2c (Conv2D)         (None, 4, 4, 1024)   263168      activation_30[0][0]              \n",
            "__________________________________________________________________________________________________\n",
            "res4a_branch1 (Conv2D)          (None, 4, 4, 1024)   525312      activation_28[0][0]              \n",
            "__________________________________________________________________________________________________\n",
            "bn4a_branch2c (BatchNormalizati (None, 4, 4, 1024)   4096        res4a_branch2c[0][0]             \n",
            "__________________________________________________________________________________________________\n",
            "bn4a_branch1 (BatchNormalizatio (None, 4, 4, 1024)   4096        res4a_branch1[0][0]              \n",
            "__________________________________________________________________________________________________\n",
            "add_8 (Add)                     (None, 4, 4, 1024)   0           bn4a_branch2c[0][0]              \n",
            "                                                                 bn4a_branch1[0][0]               \n",
            "__________________________________________________________________________________________________\n",
            "activation_31 (Activation)      (None, 4, 4, 1024)   0           add_8[0][0]                      \n",
            "__________________________________________________________________________________________________\n",
            "res4b_branch2a (Conv2D)         (None, 4, 4, 256)    262400      activation_31[0][0]              \n",
            "__________________________________________________________________________________________________\n",
            "bn4b_branch2a (BatchNormalizati (None, 4, 4, 256)    1024        res4b_branch2a[0][0]             \n",
            "__________________________________________________________________________________________________\n",
            "activation_32 (Activation)      (None, 4, 4, 256)    0           bn4b_branch2a[0][0]              \n",
            "__________________________________________________________________________________________________\n",
            "res4b_branch2b (Conv2D)         (None, 4, 4, 256)    590080      activation_32[0][0]              \n",
            "__________________________________________________________________________________________________\n",
            "bn4b_branch2b (BatchNormalizati (None, 4, 4, 256)    1024        res4b_branch2b[0][0]             \n",
            "__________________________________________________________________________________________________\n",
            "activation_33 (Activation)      (None, 4, 4, 256)    0           bn4b_branch2b[0][0]              \n",
            "__________________________________________________________________________________________________\n",
            "res4b_branch2c (Conv2D)         (None, 4, 4, 1024)   263168      activation_33[0][0]              \n",
            "__________________________________________________________________________________________________\n",
            "bn4b_branch2c (BatchNormalizati (None, 4, 4, 1024)   4096        res4b_branch2c[0][0]             \n",
            "__________________________________________________________________________________________________\n",
            "add_9 (Add)                     (None, 4, 4, 1024)   0           bn4b_branch2c[0][0]              \n",
            "                                                                 activation_31[0][0]              \n",
            "__________________________________________________________________________________________________\n",
            "activation_34 (Activation)      (None, 4, 4, 1024)   0           add_9[0][0]                      \n",
            "__________________________________________________________________________________________________\n",
            "res4c_branch2a (Conv2D)         (None, 4, 4, 256)    262400      activation_34[0][0]              \n",
            "__________________________________________________________________________________________________\n",
            "bn4c_branch2a (BatchNormalizati (None, 4, 4, 256)    1024        res4c_branch2a[0][0]             \n",
            "__________________________________________________________________________________________________\n",
            "activation_35 (Activation)      (None, 4, 4, 256)    0           bn4c_branch2a[0][0]              \n",
            "__________________________________________________________________________________________________\n",
            "res4c_branch2b (Conv2D)         (None, 4, 4, 256)    590080      activation_35[0][0]              \n",
            "__________________________________________________________________________________________________\n",
            "bn4c_branch2b (BatchNormalizati (None, 4, 4, 256)    1024        res4c_branch2b[0][0]             \n",
            "__________________________________________________________________________________________________\n",
            "activation_36 (Activation)      (None, 4, 4, 256)    0           bn4c_branch2b[0][0]              \n",
            "__________________________________________________________________________________________________\n",
            "res4c_branch2c (Conv2D)         (None, 4, 4, 1024)   263168      activation_36[0][0]              \n",
            "__________________________________________________________________________________________________\n",
            "bn4c_branch2c (BatchNormalizati (None, 4, 4, 1024)   4096        res4c_branch2c[0][0]             \n",
            "__________________________________________________________________________________________________\n",
            "add_10 (Add)                    (None, 4, 4, 1024)   0           bn4c_branch2c[0][0]              \n",
            "                                                                 activation_34[0][0]              \n",
            "__________________________________________________________________________________________________\n",
            "activation_37 (Activation)      (None, 4, 4, 1024)   0           add_10[0][0]                     \n",
            "__________________________________________________________________________________________________\n",
            "res4d_branch2a (Conv2D)         (None, 4, 4, 256)    262400      activation_37[0][0]              \n",
            "__________________________________________________________________________________________________\n",
            "bn4d_branch2a (BatchNormalizati (None, 4, 4, 256)    1024        res4d_branch2a[0][0]             \n",
            "__________________________________________________________________________________________________\n",
            "activation_38 (Activation)      (None, 4, 4, 256)    0           bn4d_branch2a[0][0]              \n",
            "__________________________________________________________________________________________________\n",
            "res4d_branch2b (Conv2D)         (None, 4, 4, 256)    590080      activation_38[0][0]              \n",
            "__________________________________________________________________________________________________\n",
            "bn4d_branch2b (BatchNormalizati (None, 4, 4, 256)    1024        res4d_branch2b[0][0]             \n",
            "__________________________________________________________________________________________________\n",
            "activation_39 (Activation)      (None, 4, 4, 256)    0           bn4d_branch2b[0][0]              \n",
            "__________________________________________________________________________________________________\n",
            "res4d_branch2c (Conv2D)         (None, 4, 4, 1024)   263168      activation_39[0][0]              \n",
            "__________________________________________________________________________________________________\n",
            "bn4d_branch2c (BatchNormalizati (None, 4, 4, 1024)   4096        res4d_branch2c[0][0]             \n",
            "__________________________________________________________________________________________________\n",
            "add_11 (Add)                    (None, 4, 4, 1024)   0           bn4d_branch2c[0][0]              \n",
            "                                                                 activation_37[0][0]              \n",
            "__________________________________________________________________________________________________\n",
            "activation_40 (Activation)      (None, 4, 4, 1024)   0           add_11[0][0]                     \n",
            "__________________________________________________________________________________________________\n",
            "res4e_branch2a (Conv2D)         (None, 4, 4, 256)    262400      activation_40[0][0]              \n",
            "__________________________________________________________________________________________________\n",
            "bn4e_branch2a (BatchNormalizati (None, 4, 4, 256)    1024        res4e_branch2a[0][0]             \n",
            "__________________________________________________________________________________________________\n",
            "activation_41 (Activation)      (None, 4, 4, 256)    0           bn4e_branch2a[0][0]              \n",
            "__________________________________________________________________________________________________\n",
            "res4e_branch2b (Conv2D)         (None, 4, 4, 256)    590080      activation_41[0][0]              \n",
            "__________________________________________________________________________________________________\n",
            "bn4e_branch2b (BatchNormalizati (None, 4, 4, 256)    1024        res4e_branch2b[0][0]             \n",
            "__________________________________________________________________________________________________\n",
            "activation_42 (Activation)      (None, 4, 4, 256)    0           bn4e_branch2b[0][0]              \n",
            "__________________________________________________________________________________________________\n",
            "res4e_branch2c (Conv2D)         (None, 4, 4, 1024)   263168      activation_42[0][0]              \n",
            "__________________________________________________________________________________________________\n",
            "bn4e_branch2c (BatchNormalizati (None, 4, 4, 1024)   4096        res4e_branch2c[0][0]             \n",
            "__________________________________________________________________________________________________\n",
            "add_12 (Add)                    (None, 4, 4, 1024)   0           bn4e_branch2c[0][0]              \n",
            "                                                                 activation_40[0][0]              \n",
            "__________________________________________________________________________________________________\n",
            "activation_43 (Activation)      (None, 4, 4, 1024)   0           add_12[0][0]                     \n",
            "__________________________________________________________________________________________________\n",
            "res4f_branch2a (Conv2D)         (None, 4, 4, 256)    262400      activation_43[0][0]              \n",
            "__________________________________________________________________________________________________\n",
            "bn4f_branch2a (BatchNormalizati (None, 4, 4, 256)    1024        res4f_branch2a[0][0]             \n",
            "__________________________________________________________________________________________________\n",
            "activation_44 (Activation)      (None, 4, 4, 256)    0           bn4f_branch2a[0][0]              \n",
            "__________________________________________________________________________________________________\n",
            "res4f_branch2b (Conv2D)         (None, 4, 4, 256)    590080      activation_44[0][0]              \n",
            "__________________________________________________________________________________________________\n",
            "bn4f_branch2b (BatchNormalizati (None, 4, 4, 256)    1024        res4f_branch2b[0][0]             \n",
            "__________________________________________________________________________________________________\n",
            "activation_45 (Activation)      (None, 4, 4, 256)    0           bn4f_branch2b[0][0]              \n",
            "__________________________________________________________________________________________________\n",
            "res4f_branch2c (Conv2D)         (None, 4, 4, 1024)   263168      activation_45[0][0]              \n",
            "__________________________________________________________________________________________________\n",
            "bn4f_branch2c (BatchNormalizati (None, 4, 4, 1024)   4096        res4f_branch2c[0][0]             \n",
            "__________________________________________________________________________________________________\n",
            "add_13 (Add)                    (None, 4, 4, 1024)   0           bn4f_branch2c[0][0]              \n",
            "                                                                 activation_43[0][0]              \n",
            "__________________________________________________________________________________________________\n",
            "activation_46 (Activation)      (None, 4, 4, 1024)   0           add_13[0][0]                     \n",
            "__________________________________________________________________________________________________\n",
            "res5a_branch2a (Conv2D)         (None, 2, 2, 512)    524800      activation_46[0][0]              \n",
            "__________________________________________________________________________________________________\n",
            "bn5a_branch2a (BatchNormalizati (None, 2, 2, 512)    2048        res5a_branch2a[0][0]             \n",
            "__________________________________________________________________________________________________\n",
            "activation_47 (Activation)      (None, 2, 2, 512)    0           bn5a_branch2a[0][0]              \n",
            "__________________________________________________________________________________________________\n",
            "res5a_branch2b (Conv2D)         (None, 2, 2, 512)    2359808     activation_47[0][0]              \n",
            "__________________________________________________________________________________________________\n",
            "bn5a_branch2b (BatchNormalizati (None, 2, 2, 512)    2048        res5a_branch2b[0][0]             \n",
            "__________________________________________________________________________________________________\n",
            "activation_48 (Activation)      (None, 2, 2, 512)    0           bn5a_branch2b[0][0]              \n",
            "__________________________________________________________________________________________________\n",
            "res5a_branch2c (Conv2D)         (None, 2, 2, 2048)   1050624     activation_48[0][0]              \n",
            "__________________________________________________________________________________________________\n",
            "res5a_branch1 (Conv2D)          (None, 2, 2, 2048)   2099200     activation_46[0][0]              \n",
            "__________________________________________________________________________________________________\n",
            "bn5a_branch2c (BatchNormalizati (None, 2, 2, 2048)   8192        res5a_branch2c[0][0]             \n",
            "__________________________________________________________________________________________________\n",
            "bn5a_branch1 (BatchNormalizatio (None, 2, 2, 2048)   8192        res5a_branch1[0][0]              \n",
            "__________________________________________________________________________________________________\n",
            "add_14 (Add)                    (None, 2, 2, 2048)   0           bn5a_branch2c[0][0]              \n",
            "                                                                 bn5a_branch1[0][0]               \n",
            "__________________________________________________________________________________________________\n",
            "activation_49 (Activation)      (None, 2, 2, 2048)   0           add_14[0][0]                     \n",
            "__________________________________________________________________________________________________\n",
            "res5b_branch2a (Conv2D)         (None, 2, 2, 512)    1049088     activation_49[0][0]              \n",
            "__________________________________________________________________________________________________\n",
            "bn5b_branch2a (BatchNormalizati (None, 2, 2, 512)    2048        res5b_branch2a[0][0]             \n",
            "__________________________________________________________________________________________________\n",
            "activation_50 (Activation)      (None, 2, 2, 512)    0           bn5b_branch2a[0][0]              \n",
            "__________________________________________________________________________________________________\n",
            "res5b_branch2b (Conv2D)         (None, 2, 2, 512)    2359808     activation_50[0][0]              \n",
            "__________________________________________________________________________________________________\n",
            "bn5b_branch2b (BatchNormalizati (None, 2, 2, 512)    2048        res5b_branch2b[0][0]             \n",
            "__________________________________________________________________________________________________\n",
            "activation_51 (Activation)      (None, 2, 2, 512)    0           bn5b_branch2b[0][0]              \n",
            "__________________________________________________________________________________________________\n",
            "res5b_branch2c (Conv2D)         (None, 2, 2, 2048)   1050624     activation_51[0][0]              \n",
            "__________________________________________________________________________________________________\n",
            "bn5b_branch2c (BatchNormalizati (None, 2, 2, 2048)   8192        res5b_branch2c[0][0]             \n",
            "__________________________________________________________________________________________________\n",
            "add_15 (Add)                    (None, 2, 2, 2048)   0           bn5b_branch2c[0][0]              \n",
            "                                                                 activation_49[0][0]              \n",
            "__________________________________________________________________________________________________\n",
            "activation_52 (Activation)      (None, 2, 2, 2048)   0           add_15[0][0]                     \n",
            "__________________________________________________________________________________________________\n",
            "res5c_branch2a (Conv2D)         (None, 2, 2, 512)    1049088     activation_52[0][0]              \n",
            "__________________________________________________________________________________________________\n",
            "bn5c_branch2a (BatchNormalizati (None, 2, 2, 512)    2048        res5c_branch2a[0][0]             \n",
            "__________________________________________________________________________________________________\n",
            "activation_53 (Activation)      (None, 2, 2, 512)    0           bn5c_branch2a[0][0]              \n",
            "__________________________________________________________________________________________________\n",
            "res5c_branch2b (Conv2D)         (None, 2, 2, 512)    2359808     activation_53[0][0]              \n",
            "__________________________________________________________________________________________________\n",
            "bn5c_branch2b (BatchNormalizati (None, 2, 2, 512)    2048        res5c_branch2b[0][0]             \n",
            "__________________________________________________________________________________________________\n",
            "activation_54 (Activation)      (None, 2, 2, 512)    0           bn5c_branch2b[0][0]              \n",
            "__________________________________________________________________________________________________\n",
            "res5c_branch2c (Conv2D)         (None, 2, 2, 2048)   1050624     activation_54[0][0]              \n",
            "__________________________________________________________________________________________________\n",
            "bn5c_branch2c (BatchNormalizati (None, 2, 2, 2048)   8192        res5c_branch2c[0][0]             \n",
            "__________________________________________________________________________________________________\n",
            "add_16 (Add)                    (None, 2, 2, 2048)   0           bn5c_branch2c[0][0]              \n",
            "                                                                 activation_52[0][0]              \n",
            "__________________________________________________________________________________________________\n",
            "activation_55 (Activation)      (None, 2, 2, 2048)   0           add_16[0][0]                     \n",
            "__________________________________________________________________________________________________\n",
            "global_max_pooling2d_1 (GlobalM (None, 2048)         0           activation_55[0][0]              \n",
            "__________________________________________________________________________________________________\n",
            "dense_2 (Dense)                 (None, 120)          245880      global_max_pooling2d_1[0][0]     \n",
            "__________________________________________________________________________________________________\n",
            "prediction (Dense)              (None, 6)            726         dense_2[0][0]                    \n",
            "==================================================================================================\n",
            "Total params: 23,834,318\n",
            "Trainable params: 246,606\n",
            "Non-trainable params: 23,587,712\n",
            "__________________________________________________________________________________________________\n"
          ],
          "name": "stdout"
        }
      ]
    },
    {
      "cell_type": "code",
      "metadata": {
        "id": "FMXVqtvGK63m",
        "colab_type": "code",
        "colab": {}
      },
      "source": [
        "keras.utils.plot_model(model, to_file=\"model_resnet.png\")"
      ],
      "execution_count": 0,
      "outputs": []
    },
    {
      "cell_type": "code",
      "metadata": {
        "id": "85SYKaoHK_-G",
        "colab_type": "code",
        "colab": {
          "base_uri": "https://localhost:8080/",
          "height": 357
        },
        "outputId": "cacf8f5a-b8d5-4925-c3c0-33bfd875a7e4"
      },
      "source": [
        "h = model.fit_generator(\n",
        "    train_gen,\n",
        "    steps_per_epoch=len(train_gen),\n",
        "    epochs=10,\n",
        "    validation_data=validation_gen,\n",
        "    validation_steps=len(validation_gen),\n",
        "    verbose=2\n",
        ")"
      ],
      "execution_count": 46,
      "outputs": [
        {
          "output_type": "stream",
          "text": [
            "Epoch 1/10\n",
            " - 30s - loss: 1.0928 - acc: 0.6213 - val_loss: 1.9491 - val_acc: 0.1730\n",
            "Epoch 2/10\n",
            " - 25s - loss: 0.7759 - acc: 0.7167 - val_loss: 2.0300 - val_acc: 0.1723\n",
            "Epoch 3/10\n",
            " - 26s - loss: 0.7040 - acc: 0.7443 - val_loss: 2.0482 - val_acc: 0.2097\n",
            "Epoch 4/10\n",
            " - 26s - loss: 0.6864 - acc: 0.7477 - val_loss: 2.1524 - val_acc: 0.1813\n",
            "Epoch 5/10\n",
            " - 26s - loss: 0.6591 - acc: 0.7528 - val_loss: 2.0777 - val_acc: 0.2137\n",
            "Epoch 6/10\n",
            " - 26s - loss: 0.6316 - acc: 0.7651 - val_loss: 2.1604 - val_acc: 0.1763\n",
            "Epoch 7/10\n",
            " - 26s - loss: 0.6337 - acc: 0.7653 - val_loss: 2.3440 - val_acc: 0.1743\n",
            "Epoch 8/10\n",
            " - 26s - loss: 0.6205 - acc: 0.7687 - val_loss: 2.2684 - val_acc: 0.1717\n",
            "Epoch 9/10\n",
            " - 26s - loss: 0.6190 - acc: 0.7750 - val_loss: 2.3363 - val_acc: 0.1773\n",
            "Epoch 10/10\n",
            " - 26s - loss: 0.6149 - acc: 0.7765 - val_loss: 2.2961 - val_acc: 0.1673\n"
          ],
          "name": "stdout"
        }
      ]
    },
    {
      "cell_type": "markdown",
      "metadata": {
        "id": "S5A74EubMYCJ",
        "colab_type": "text"
      },
      "source": [
        "## evaluation"
      ]
    },
    {
      "cell_type": "code",
      "metadata": {
        "id": "fNu-jHb5LOwG",
        "colab_type": "code",
        "colab": {
          "base_uri": "https://localhost:8080/",
          "height": 408
        },
        "outputId": "ee8d6ca1-4334-439a-ec9e-ff28d76c960f"
      },
      "source": [
        "plot_metrics(h.history, 10, 'train')"
      ],
      "execution_count": 47,
      "outputs": [
        {
          "output_type": "display_data",
          "data": {
            "image/png": "[encoded data removed]",
            "text/plain": [
              "<Figure size 648x432 with 1 Axes>"
            ]
          },
          "metadata": {
            "tags": []
          }
        }
      ]
    }
  ]
}