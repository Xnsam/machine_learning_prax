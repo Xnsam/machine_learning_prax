{
  "nbformat": 4,
  "nbformat_minor": 0,
  "metadata": {
    "colab": {
      "name": "mp_neuron_perceptron.ipynb",
      "version": "0.3.2",
      "provenance": [],
      "collapsed_sections": []
    },
    "kernelspec": {
      "name": "python3",
      "display_name": "Python 3"
    }
  },
  "cells": [
    {
      "metadata": {
        "id": "0VDmjEIFsu_y",
        "colab_type": "code",
        "colab": {}
      },
      "cell_type": "code",
      "source": [
        "import sklearn.datasets\n",
        "import numpy as np"
      ],
      "execution_count": 0,
      "outputs": []
    },
    {
      "metadata": {
        "id": "FCinO6E76a1u",
        "colab_type": "text"
      },
      "cell_type": "markdown",
      "source": [
        "# loading dataset"
      ]
    },
    {
      "metadata": {
        "id": "P8KzHctI6aDp",
        "colab_type": "code",
        "colab": {}
      },
      "cell_type": "code",
      "source": [
        "breast_cancer = sklearn.datasets.load_breast_cancer()"
      ],
      "execution_count": 0,
      "outputs": []
    },
    {
      "metadata": {
        "id": "lPjpRL8e6Y7S",
        "colab_type": "code",
        "colab": {}
      },
      "cell_type": "code",
      "source": [
        "X = breast_cancer.data\n",
        "Y = breast_cancer.target"
      ],
      "execution_count": 0,
      "outputs": []
    },
    {
      "metadata": {
        "id": "tdtxBWxT6mY_",
        "colab_type": "code",
        "colab": {
          "base_uri": "https://localhost:8080/",
          "height": 34
        },
        "outputId": "4190afc3-85b7-45c0-addd-26c986e08588"
      },
      "cell_type": "code",
      "source": [
        "X.shape, Y.shape"
      ],
      "execution_count": 4,
      "outputs": [
        {
          "output_type": "execute_result",
          "data": {
            "text/plain": [
              "((569, 30), (569,))"
            ]
          },
          "metadata": {
            "tags": []
          },
          "execution_count": 4
        }
      ]
    },
    {
      "metadata": {
        "id": "OJdyclQ76shv",
        "colab_type": "code",
        "colab": {}
      },
      "cell_type": "code",
      "source": [
        "import pandas as pd"
      ],
      "execution_count": 0,
      "outputs": []
    },
    {
      "metadata": {
        "id": "ySmh6DUH6wqP",
        "colab_type": "code",
        "colab": {
          "base_uri": "https://localhost:8080/",
          "height": 287
        },
        "outputId": "a7e98b03-f8b3-4812-da83-b176d85e6032"
      },
      "cell_type": "code",
      "source": [
        "data = pd.DataFrame(X, columns=breast_cancer.feature_names)\n",
        "data.head()"
      ],
      "execution_count": 10,
      "outputs": [
        {
          "output_type": "execute_result",
          "data": {
            "text/html": [
              "<div>\n",
              "<style scoped>\n",
              "    .dataframe tbody tr th:only-of-type {\n",
              "        vertical-align: middle;\n",
              "    }\n",
              "\n",
              "    .dataframe tbody tr th {\n",
              "        vertical-align: top;\n",
              "    }\n",
              "\n",
              "    .dataframe thead th {\n",
              "        text-align: right;\n",
              "    }\n",
              "</style>\n",
              "<table border=\"1\" class=\"dataframe\">\n",
              "  <thead>\n",
              "    <tr style=\"text-align: right;\">\n",
              "      <th></th>\n",
              "      <th>mean radius</th>\n",
              "      <th>mean texture</th>\n",
              "      <th>mean perimeter</th>\n",
              "      <th>mean area</th>\n",
              "      <th>mean smoothness</th>\n",
              "      <th>mean compactness</th>\n",
              "      <th>mean concavity</th>\n",
              "      <th>mean concave points</th>\n",
              "      <th>mean symmetry</th>\n",
              "      <th>mean fractal dimension</th>\n",
              "      <th>...</th>\n",
              "      <th>worst radius</th>\n",
              "      <th>worst texture</th>\n",
              "      <th>worst perimeter</th>\n",
              "      <th>worst area</th>\n",
              "      <th>worst smoothness</th>\n",
              "      <th>worst compactness</th>\n",
              "      <th>worst concavity</th>\n",
              "      <th>worst concave points</th>\n",
              "      <th>worst symmetry</th>\n",
              "      <th>worst fractal dimension</th>\n",
              "    </tr>\n",
              "  </thead>\n",
              "  <tbody>\n",
              "    <tr>\n",
              "      <th>0</th>\n",
              "      <td>17.99</td>\n",
              "      <td>10.38</td>\n",
              "      <td>122.80</td>\n",
              "      <td>1001.0</td>\n",
              "      <td>0.11840</td>\n",
              "      <td>0.27760</td>\n",
              "      <td>0.3001</td>\n",
              "      <td>0.14710</td>\n",
              "      <td>0.2419</td>\n",
              "      <td>0.07871</td>\n",
              "      <td>...</td>\n",
              "      <td>25.38</td>\n",
              "      <td>17.33</td>\n",
              "      <td>184.60</td>\n",
              "      <td>2019.0</td>\n",
              "      <td>0.1622</td>\n",
              "      <td>0.6656</td>\n",
              "      <td>0.7119</td>\n",
              "      <td>0.2654</td>\n",
              "      <td>0.4601</td>\n",
              "      <td>0.11890</td>\n",
              "    </tr>\n",
              "    <tr>\n",
              "      <th>1</th>\n",
              "      <td>20.57</td>\n",
              "      <td>17.77</td>\n",
              "      <td>132.90</td>\n",
              "      <td>1326.0</td>\n",
              "      <td>0.08474</td>\n",
              "      <td>0.07864</td>\n",
              "      <td>0.0869</td>\n",
              "      <td>0.07017</td>\n",
              "      <td>0.1812</td>\n",
              "      <td>0.05667</td>\n",
              "      <td>...</td>\n",
              "      <td>24.99</td>\n",
              "      <td>23.41</td>\n",
              "      <td>158.80</td>\n",
              "      <td>1956.0</td>\n",
              "      <td>0.1238</td>\n",
              "      <td>0.1866</td>\n",
              "      <td>0.2416</td>\n",
              "      <td>0.1860</td>\n",
              "      <td>0.2750</td>\n",
              "      <td>0.08902</td>\n",
              "    </tr>\n",
              "    <tr>\n",
              "      <th>2</th>\n",
              "      <td>19.69</td>\n",
              "      <td>21.25</td>\n",
              "      <td>130.00</td>\n",
              "      <td>1203.0</td>\n",
              "      <td>0.10960</td>\n",
              "      <td>0.15990</td>\n",
              "      <td>0.1974</td>\n",
              "      <td>0.12790</td>\n",
              "      <td>0.2069</td>\n",
              "      <td>0.05999</td>\n",
              "      <td>...</td>\n",
              "      <td>23.57</td>\n",
              "      <td>25.53</td>\n",
              "      <td>152.50</td>\n",
              "      <td>1709.0</td>\n",
              "      <td>0.1444</td>\n",
              "      <td>0.4245</td>\n",
              "      <td>0.4504</td>\n",
              "      <td>0.2430</td>\n",
              "      <td>0.3613</td>\n",
              "      <td>0.08758</td>\n",
              "    </tr>\n",
              "    <tr>\n",
              "      <th>3</th>\n",
              "      <td>11.42</td>\n",
              "      <td>20.38</td>\n",
              "      <td>77.58</td>\n",
              "      <td>386.1</td>\n",
              "      <td>0.14250</td>\n",
              "      <td>0.28390</td>\n",
              "      <td>0.2414</td>\n",
              "      <td>0.10520</td>\n",
              "      <td>0.2597</td>\n",
              "      <td>0.09744</td>\n",
              "      <td>...</td>\n",
              "      <td>14.91</td>\n",
              "      <td>26.50</td>\n",
              "      <td>98.87</td>\n",
              "      <td>567.7</td>\n",
              "      <td>0.2098</td>\n",
              "      <td>0.8663</td>\n",
              "      <td>0.6869</td>\n",
              "      <td>0.2575</td>\n",
              "      <td>0.6638</td>\n",
              "      <td>0.17300</td>\n",
              "    </tr>\n",
              "    <tr>\n",
              "      <th>4</th>\n",
              "      <td>20.29</td>\n",
              "      <td>14.34</td>\n",
              "      <td>135.10</td>\n",
              "      <td>1297.0</td>\n",
              "      <td>0.10030</td>\n",
              "      <td>0.13280</td>\n",
              "      <td>0.1980</td>\n",
              "      <td>0.10430</td>\n",
              "      <td>0.1809</td>\n",
              "      <td>0.05883</td>\n",
              "      <td>...</td>\n",
              "      <td>22.54</td>\n",
              "      <td>16.67</td>\n",
              "      <td>152.20</td>\n",
              "      <td>1575.0</td>\n",
              "      <td>0.1374</td>\n",
              "      <td>0.2050</td>\n",
              "      <td>0.4000</td>\n",
              "      <td>0.1625</td>\n",
              "      <td>0.2364</td>\n",
              "      <td>0.07678</td>\n",
              "    </tr>\n",
              "  </tbody>\n",
              "</table>\n",
              "<p>5 rows × 30 columns</p>\n",
              "</div>"
            ],
            "text/plain": [
              "   mean radius  mean texture  mean perimeter  mean area  mean smoothness  \\\n",
              "0        17.99         10.38          122.80     1001.0          0.11840   \n",
              "1        20.57         17.77          132.90     1326.0          0.08474   \n",
              "2        19.69         21.25          130.00     1203.0          0.10960   \n",
              "3        11.42         20.38           77.58      386.1          0.14250   \n",
              "4        20.29         14.34          135.10     1297.0          0.10030   \n",
              "\n",
              "   mean compactness  mean concavity  mean concave points  mean symmetry  \\\n",
              "0           0.27760          0.3001              0.14710         0.2419   \n",
              "1           0.07864          0.0869              0.07017         0.1812   \n",
              "2           0.15990          0.1974              0.12790         0.2069   \n",
              "3           0.28390          0.2414              0.10520         0.2597   \n",
              "4           0.13280          0.1980              0.10430         0.1809   \n",
              "\n",
              "   mean fractal dimension  ...  worst radius  worst texture  worst perimeter  \\\n",
              "0                 0.07871  ...         25.38          17.33           184.60   \n",
              "1                 0.05667  ...         24.99          23.41           158.80   \n",
              "2                 0.05999  ...         23.57          25.53           152.50   \n",
              "3                 0.09744  ...         14.91          26.50            98.87   \n",
              "4                 0.05883  ...         22.54          16.67           152.20   \n",
              "\n",
              "   worst area  worst smoothness  worst compactness  worst concavity  \\\n",
              "0      2019.0            0.1622             0.6656           0.7119   \n",
              "1      1956.0            0.1238             0.1866           0.2416   \n",
              "2      1709.0            0.1444             0.4245           0.4504   \n",
              "3       567.7            0.2098             0.8663           0.6869   \n",
              "4      1575.0            0.1374             0.2050           0.4000   \n",
              "\n",
              "   worst concave points  worst symmetry  worst fractal dimension  \n",
              "0                0.2654          0.4601                  0.11890  \n",
              "1                0.1860          0.2750                  0.08902  \n",
              "2                0.2430          0.3613                  0.08758  \n",
              "3                0.2575          0.6638                  0.17300  \n",
              "4                0.1625          0.2364                  0.07678  \n",
              "\n",
              "[5 rows x 30 columns]"
            ]
          },
          "metadata": {
            "tags": []
          },
          "execution_count": 10
        }
      ]
    },
    {
      "metadata": {
        "id": "Me0qRRIb7Xwt",
        "colab_type": "code",
        "colab": {}
      },
      "cell_type": "code",
      "source": [
        "data['class'] = Y"
      ],
      "execution_count": 0,
      "outputs": []
    },
    {
      "metadata": {
        "id": "wvGg8NO17lq9",
        "colab_type": "code",
        "colab": {
          "base_uri": "https://localhost:8080/",
          "height": 380
        },
        "outputId": "4c110e0f-ead0-41ea-fa3b-e386fa7afcc0"
      },
      "cell_type": "code",
      "source": [
        "data.describe()"
      ],
      "execution_count": 12,
      "outputs": [
        {
          "output_type": "execute_result",
          "data": {
            "text/html": [
              "<div>\n",
              "<style scoped>\n",
              "    .dataframe tbody tr th:only-of-type {\n",
              "        vertical-align: middle;\n",
              "    }\n",
              "\n",
              "    .dataframe tbody tr th {\n",
              "        vertical-align: top;\n",
              "    }\n",
              "\n",
              "    .dataframe thead th {\n",
              "        text-align: right;\n",
              "    }\n",
              "</style>\n",
              "<table border=\"1\" class=\"dataframe\">\n",
              "  <thead>\n",
              "    <tr style=\"text-align: right;\">\n",
              "      <th></th>\n",
              "      <th>mean radius</th>\n",
              "      <th>mean texture</th>\n",
              "      <th>mean perimeter</th>\n",
              "      <th>mean area</th>\n",
              "      <th>mean smoothness</th>\n",
              "      <th>mean compactness</th>\n",
              "      <th>mean concavity</th>\n",
              "      <th>mean concave points</th>\n",
              "      <th>mean symmetry</th>\n",
              "      <th>mean fractal dimension</th>\n",
              "      <th>...</th>\n",
              "      <th>worst texture</th>\n",
              "      <th>worst perimeter</th>\n",
              "      <th>worst area</th>\n",
              "      <th>worst smoothness</th>\n",
              "      <th>worst compactness</th>\n",
              "      <th>worst concavity</th>\n",
              "      <th>worst concave points</th>\n",
              "      <th>worst symmetry</th>\n",
              "      <th>worst fractal dimension</th>\n",
              "      <th>class</th>\n",
              "    </tr>\n",
              "  </thead>\n",
              "  <tbody>\n",
              "    <tr>\n",
              "      <th>count</th>\n",
              "      <td>569.000000</td>\n",
              "      <td>569.000000</td>\n",
              "      <td>569.000000</td>\n",
              "      <td>569.000000</td>\n",
              "      <td>569.000000</td>\n",
              "      <td>569.000000</td>\n",
              "      <td>569.000000</td>\n",
              "      <td>569.000000</td>\n",
              "      <td>569.000000</td>\n",
              "      <td>569.000000</td>\n",
              "      <td>...</td>\n",
              "      <td>569.000000</td>\n",
              "      <td>569.000000</td>\n",
              "      <td>569.000000</td>\n",
              "      <td>569.000000</td>\n",
              "      <td>569.000000</td>\n",
              "      <td>569.000000</td>\n",
              "      <td>569.000000</td>\n",
              "      <td>569.000000</td>\n",
              "      <td>569.000000</td>\n",
              "      <td>569.000000</td>\n",
              "    </tr>\n",
              "    <tr>\n",
              "      <th>mean</th>\n",
              "      <td>14.127292</td>\n",
              "      <td>19.289649</td>\n",
              "      <td>91.969033</td>\n",
              "      <td>654.889104</td>\n",
              "      <td>0.096360</td>\n",
              "      <td>0.104341</td>\n",
              "      <td>0.088799</td>\n",
              "      <td>0.048919</td>\n",
              "      <td>0.181162</td>\n",
              "      <td>0.062798</td>\n",
              "      <td>...</td>\n",
              "      <td>25.677223</td>\n",
              "      <td>107.261213</td>\n",
              "      <td>880.583128</td>\n",
              "      <td>0.132369</td>\n",
              "      <td>0.254265</td>\n",
              "      <td>0.272188</td>\n",
              "      <td>0.114606</td>\n",
              "      <td>0.290076</td>\n",
              "      <td>0.083946</td>\n",
              "      <td>0.627417</td>\n",
              "    </tr>\n",
              "    <tr>\n",
              "      <th>std</th>\n",
              "      <td>3.524049</td>\n",
              "      <td>4.301036</td>\n",
              "      <td>24.298981</td>\n",
              "      <td>351.914129</td>\n",
              "      <td>0.014064</td>\n",
              "      <td>0.052813</td>\n",
              "      <td>0.079720</td>\n",
              "      <td>0.038803</td>\n",
              "      <td>0.027414</td>\n",
              "      <td>0.007060</td>\n",
              "      <td>...</td>\n",
              "      <td>6.146258</td>\n",
              "      <td>33.602542</td>\n",
              "      <td>569.356993</td>\n",
              "      <td>0.022832</td>\n",
              "      <td>0.157336</td>\n",
              "      <td>0.208624</td>\n",
              "      <td>0.065732</td>\n",
              "      <td>0.061867</td>\n",
              "      <td>0.018061</td>\n",
              "      <td>0.483918</td>\n",
              "    </tr>\n",
              "    <tr>\n",
              "      <th>min</th>\n",
              "      <td>6.981000</td>\n",
              "      <td>9.710000</td>\n",
              "      <td>43.790000</td>\n",
              "      <td>143.500000</td>\n",
              "      <td>0.052630</td>\n",
              "      <td>0.019380</td>\n",
              "      <td>0.000000</td>\n",
              "      <td>0.000000</td>\n",
              "      <td>0.106000</td>\n",
              "      <td>0.049960</td>\n",
              "      <td>...</td>\n",
              "      <td>12.020000</td>\n",
              "      <td>50.410000</td>\n",
              "      <td>185.200000</td>\n",
              "      <td>0.071170</td>\n",
              "      <td>0.027290</td>\n",
              "      <td>0.000000</td>\n",
              "      <td>0.000000</td>\n",
              "      <td>0.156500</td>\n",
              "      <td>0.055040</td>\n",
              "      <td>0.000000</td>\n",
              "    </tr>\n",
              "    <tr>\n",
              "      <th>25%</th>\n",
              "      <td>11.700000</td>\n",
              "      <td>16.170000</td>\n",
              "      <td>75.170000</td>\n",
              "      <td>420.300000</td>\n",
              "      <td>0.086370</td>\n",
              "      <td>0.064920</td>\n",
              "      <td>0.029560</td>\n",
              "      <td>0.020310</td>\n",
              "      <td>0.161900</td>\n",
              "      <td>0.057700</td>\n",
              "      <td>...</td>\n",
              "      <td>21.080000</td>\n",
              "      <td>84.110000</td>\n",
              "      <td>515.300000</td>\n",
              "      <td>0.116600</td>\n",
              "      <td>0.147200</td>\n",
              "      <td>0.114500</td>\n",
              "      <td>0.064930</td>\n",
              "      <td>0.250400</td>\n",
              "      <td>0.071460</td>\n",
              "      <td>0.000000</td>\n",
              "    </tr>\n",
              "    <tr>\n",
              "      <th>50%</th>\n",
              "      <td>13.370000</td>\n",
              "      <td>18.840000</td>\n",
              "      <td>86.240000</td>\n",
              "      <td>551.100000</td>\n",
              "      <td>0.095870</td>\n",
              "      <td>0.092630</td>\n",
              "      <td>0.061540</td>\n",
              "      <td>0.033500</td>\n",
              "      <td>0.179200</td>\n",
              "      <td>0.061540</td>\n",
              "      <td>...</td>\n",
              "      <td>25.410000</td>\n",
              "      <td>97.660000</td>\n",
              "      <td>686.500000</td>\n",
              "      <td>0.131300</td>\n",
              "      <td>0.211900</td>\n",
              "      <td>0.226700</td>\n",
              "      <td>0.099930</td>\n",
              "      <td>0.282200</td>\n",
              "      <td>0.080040</td>\n",
              "      <td>1.000000</td>\n",
              "    </tr>\n",
              "    <tr>\n",
              "      <th>75%</th>\n",
              "      <td>15.780000</td>\n",
              "      <td>21.800000</td>\n",
              "      <td>104.100000</td>\n",
              "      <td>782.700000</td>\n",
              "      <td>0.105300</td>\n",
              "      <td>0.130400</td>\n",
              "      <td>0.130700</td>\n",
              "      <td>0.074000</td>\n",
              "      <td>0.195700</td>\n",
              "      <td>0.066120</td>\n",
              "      <td>...</td>\n",
              "      <td>29.720000</td>\n",
              "      <td>125.400000</td>\n",
              "      <td>1084.000000</td>\n",
              "      <td>0.146000</td>\n",
              "      <td>0.339100</td>\n",
              "      <td>0.382900</td>\n",
              "      <td>0.161400</td>\n",
              "      <td>0.317900</td>\n",
              "      <td>0.092080</td>\n",
              "      <td>1.000000</td>\n",
              "    </tr>\n",
              "    <tr>\n",
              "      <th>max</th>\n",
              "      <td>28.110000</td>\n",
              "      <td>39.280000</td>\n",
              "      <td>188.500000</td>\n",
              "      <td>2501.000000</td>\n",
              "      <td>0.163400</td>\n",
              "      <td>0.345400</td>\n",
              "      <td>0.426800</td>\n",
              "      <td>0.201200</td>\n",
              "      <td>0.304000</td>\n",
              "      <td>0.097440</td>\n",
              "      <td>...</td>\n",
              "      <td>49.540000</td>\n",
              "      <td>251.200000</td>\n",
              "      <td>4254.000000</td>\n",
              "      <td>0.222600</td>\n",
              "      <td>1.058000</td>\n",
              "      <td>1.252000</td>\n",
              "      <td>0.291000</td>\n",
              "      <td>0.663800</td>\n",
              "      <td>0.207500</td>\n",
              "      <td>1.000000</td>\n",
              "    </tr>\n",
              "  </tbody>\n",
              "</table>\n",
              "<p>8 rows × 31 columns</p>\n",
              "</div>"
            ],
            "text/plain": [
              "       mean radius  mean texture  mean perimeter    mean area  \\\n",
              "count   569.000000    569.000000      569.000000   569.000000   \n",
              "mean     14.127292     19.289649       91.969033   654.889104   \n",
              "std       3.524049      4.301036       24.298981   351.914129   \n",
              "min       6.981000      9.710000       43.790000   143.500000   \n",
              "25%      11.700000     16.170000       75.170000   420.300000   \n",
              "50%      13.370000     18.840000       86.240000   551.100000   \n",
              "75%      15.780000     21.800000      104.100000   782.700000   \n",
              "max      28.110000     39.280000      188.500000  2501.000000   \n",
              "\n",
              "       mean smoothness  mean compactness  mean concavity  mean concave points  \\\n",
              "count       569.000000        569.000000      569.000000           569.000000   \n",
              "mean          0.096360          0.104341        0.088799             0.048919   \n",
              "std           0.014064          0.052813        0.079720             0.038803   \n",
              "min           0.052630          0.019380        0.000000             0.000000   \n",
              "25%           0.086370          0.064920        0.029560             0.020310   \n",
              "50%           0.095870          0.092630        0.061540             0.033500   \n",
              "75%           0.105300          0.130400        0.130700             0.074000   \n",
              "max           0.163400          0.345400        0.426800             0.201200   \n",
              "\n",
              "       mean symmetry  mean fractal dimension  ...  worst texture  \\\n",
              "count     569.000000              569.000000  ...     569.000000   \n",
              "mean        0.181162                0.062798  ...      25.677223   \n",
              "std         0.027414                0.007060  ...       6.146258   \n",
              "min         0.106000                0.049960  ...      12.020000   \n",
              "25%         0.161900                0.057700  ...      21.080000   \n",
              "50%         0.179200                0.061540  ...      25.410000   \n",
              "75%         0.195700                0.066120  ...      29.720000   \n",
              "max         0.304000                0.097440  ...      49.540000   \n",
              "\n",
              "       worst perimeter   worst area  worst smoothness  worst compactness  \\\n",
              "count       569.000000   569.000000        569.000000         569.000000   \n",
              "mean        107.261213   880.583128          0.132369           0.254265   \n",
              "std          33.602542   569.356993          0.022832           0.157336   \n",
              "min          50.410000   185.200000          0.071170           0.027290   \n",
              "25%          84.110000   515.300000          0.116600           0.147200   \n",
              "50%          97.660000   686.500000          0.131300           0.211900   \n",
              "75%         125.400000  1084.000000          0.146000           0.339100   \n",
              "max         251.200000  4254.000000          0.222600           1.058000   \n",
              "\n",
              "       worst concavity  worst concave points  worst symmetry  \\\n",
              "count       569.000000            569.000000      569.000000   \n",
              "mean          0.272188              0.114606        0.290076   \n",
              "std           0.208624              0.065732        0.061867   \n",
              "min           0.000000              0.000000        0.156500   \n",
              "25%           0.114500              0.064930        0.250400   \n",
              "50%           0.226700              0.099930        0.282200   \n",
              "75%           0.382900              0.161400        0.317900   \n",
              "max           1.252000              0.291000        0.663800   \n",
              "\n",
              "       worst fractal dimension       class  \n",
              "count               569.000000  569.000000  \n",
              "mean                  0.083946    0.627417  \n",
              "std                   0.018061    0.483918  \n",
              "min                   0.055040    0.000000  \n",
              "25%                   0.071460    0.000000  \n",
              "50%                   0.080040    1.000000  \n",
              "75%                   0.092080    1.000000  \n",
              "max                   0.207500    1.000000  \n",
              "\n",
              "[8 rows x 31 columns]"
            ]
          },
          "metadata": {
            "tags": []
          },
          "execution_count": 12
        }
      ]
    },
    {
      "metadata": {
        "id": "j_vApDtE7opN",
        "colab_type": "code",
        "colab": {
          "base_uri": "https://localhost:8080/",
          "height": 68
        },
        "outputId": "6f531e00-4b81-4d53-9456-bb31ff43f803"
      },
      "cell_type": "code",
      "source": [
        "data['class'].value_counts()"
      ],
      "execution_count": 13,
      "outputs": [
        {
          "output_type": "execute_result",
          "data": {
            "text/plain": [
              "1    357\n",
              "0    212\n",
              "Name: class, dtype: int64"
            ]
          },
          "metadata": {
            "tags": []
          },
          "execution_count": 13
        }
      ]
    },
    {
      "metadata": {
        "id": "pCMFH0Sa7zwu",
        "colab_type": "code",
        "colab": {
          "base_uri": "https://localhost:8080/",
          "height": 34
        },
        "outputId": "8ce90cc4-b5fa-439c-fd3f-47343a54040e"
      },
      "cell_type": "code",
      "source": [
        "breast_cancer.target_names"
      ],
      "execution_count": 14,
      "outputs": [
        {
          "output_type": "execute_result",
          "data": {
            "text/plain": [
              "array(['malignant', 'benign'], dtype='<U9')"
            ]
          },
          "metadata": {
            "tags": []
          },
          "execution_count": 14
        }
      ]
    },
    {
      "metadata": {
        "id": "rRJti2Vy75xd",
        "colab_type": "code",
        "colab": {
          "base_uri": "https://localhost:8080/",
          "height": 225
        },
        "outputId": "92bbd622-614e-482b-ed05-d13a48a6daa5"
      },
      "cell_type": "code",
      "source": [
        "data.groupby('class').mean()\n",
        "# this shows how the values are specific columns"
      ],
      "execution_count": 15,
      "outputs": [
        {
          "output_type": "execute_result",
          "data": {
            "text/html": [
              "<div>\n",
              "<style scoped>\n",
              "    .dataframe tbody tr th:only-of-type {\n",
              "        vertical-align: middle;\n",
              "    }\n",
              "\n",
              "    .dataframe tbody tr th {\n",
              "        vertical-align: top;\n",
              "    }\n",
              "\n",
              "    .dataframe thead th {\n",
              "        text-align: right;\n",
              "    }\n",
              "</style>\n",
              "<table border=\"1\" class=\"dataframe\">\n",
              "  <thead>\n",
              "    <tr style=\"text-align: right;\">\n",
              "      <th></th>\n",
              "      <th>mean radius</th>\n",
              "      <th>mean texture</th>\n",
              "      <th>mean perimeter</th>\n",
              "      <th>mean area</th>\n",
              "      <th>mean smoothness</th>\n",
              "      <th>mean compactness</th>\n",
              "      <th>mean concavity</th>\n",
              "      <th>mean concave points</th>\n",
              "      <th>mean symmetry</th>\n",
              "      <th>mean fractal dimension</th>\n",
              "      <th>...</th>\n",
              "      <th>worst radius</th>\n",
              "      <th>worst texture</th>\n",
              "      <th>worst perimeter</th>\n",
              "      <th>worst area</th>\n",
              "      <th>worst smoothness</th>\n",
              "      <th>worst compactness</th>\n",
              "      <th>worst concavity</th>\n",
              "      <th>worst concave points</th>\n",
              "      <th>worst symmetry</th>\n",
              "      <th>worst fractal dimension</th>\n",
              "    </tr>\n",
              "    <tr>\n",
              "      <th>class</th>\n",
              "      <th></th>\n",
              "      <th></th>\n",
              "      <th></th>\n",
              "      <th></th>\n",
              "      <th></th>\n",
              "      <th></th>\n",
              "      <th></th>\n",
              "      <th></th>\n",
              "      <th></th>\n",
              "      <th></th>\n",
              "      <th></th>\n",
              "      <th></th>\n",
              "      <th></th>\n",
              "      <th></th>\n",
              "      <th></th>\n",
              "      <th></th>\n",
              "      <th></th>\n",
              "      <th></th>\n",
              "      <th></th>\n",
              "      <th></th>\n",
              "      <th></th>\n",
              "    </tr>\n",
              "  </thead>\n",
              "  <tbody>\n",
              "    <tr>\n",
              "      <th>0</th>\n",
              "      <td>17.462830</td>\n",
              "      <td>21.604906</td>\n",
              "      <td>115.365377</td>\n",
              "      <td>978.376415</td>\n",
              "      <td>0.102898</td>\n",
              "      <td>0.145188</td>\n",
              "      <td>0.160775</td>\n",
              "      <td>0.087990</td>\n",
              "      <td>0.192909</td>\n",
              "      <td>0.062680</td>\n",
              "      <td>...</td>\n",
              "      <td>21.134811</td>\n",
              "      <td>29.318208</td>\n",
              "      <td>141.370330</td>\n",
              "      <td>1422.286321</td>\n",
              "      <td>0.144845</td>\n",
              "      <td>0.374824</td>\n",
              "      <td>0.450606</td>\n",
              "      <td>0.182237</td>\n",
              "      <td>0.323468</td>\n",
              "      <td>0.091530</td>\n",
              "    </tr>\n",
              "    <tr>\n",
              "      <th>1</th>\n",
              "      <td>12.146524</td>\n",
              "      <td>17.914762</td>\n",
              "      <td>78.075406</td>\n",
              "      <td>462.790196</td>\n",
              "      <td>0.092478</td>\n",
              "      <td>0.080085</td>\n",
              "      <td>0.046058</td>\n",
              "      <td>0.025717</td>\n",
              "      <td>0.174186</td>\n",
              "      <td>0.062867</td>\n",
              "      <td>...</td>\n",
              "      <td>13.379801</td>\n",
              "      <td>23.515070</td>\n",
              "      <td>87.005938</td>\n",
              "      <td>558.899440</td>\n",
              "      <td>0.124959</td>\n",
              "      <td>0.182673</td>\n",
              "      <td>0.166238</td>\n",
              "      <td>0.074444</td>\n",
              "      <td>0.270246</td>\n",
              "      <td>0.079442</td>\n",
              "    </tr>\n",
              "  </tbody>\n",
              "</table>\n",
              "<p>2 rows × 30 columns</p>\n",
              "</div>"
            ],
            "text/plain": [
              "       mean radius  mean texture  mean perimeter   mean area  mean smoothness  \\\n",
              "class                                                                           \n",
              "0        17.462830     21.604906      115.365377  978.376415         0.102898   \n",
              "1        12.146524     17.914762       78.075406  462.790196         0.092478   \n",
              "\n",
              "       mean compactness  mean concavity  mean concave points  mean symmetry  \\\n",
              "class                                                                         \n",
              "0              0.145188        0.160775             0.087990       0.192909   \n",
              "1              0.080085        0.046058             0.025717       0.174186   \n",
              "\n",
              "       mean fractal dimension  ...  worst radius  worst texture  \\\n",
              "class                          ...                                \n",
              "0                    0.062680  ...     21.134811      29.318208   \n",
              "1                    0.062867  ...     13.379801      23.515070   \n",
              "\n",
              "       worst perimeter   worst area  worst smoothness  worst compactness  \\\n",
              "class                                                                      \n",
              "0           141.370330  1422.286321          0.144845           0.374824   \n",
              "1            87.005938   558.899440          0.124959           0.182673   \n",
              "\n",
              "       worst concavity  worst concave points  worst symmetry  \\\n",
              "class                                                          \n",
              "0             0.450606              0.182237        0.323468   \n",
              "1             0.166238              0.074444        0.270246   \n",
              "\n",
              "       worst fractal dimension  \n",
              "class                           \n",
              "0                     0.091530  \n",
              "1                     0.079442  \n",
              "\n",
              "[2 rows x 30 columns]"
            ]
          },
          "metadata": {
            "tags": []
          },
          "execution_count": 15
        }
      ]
    },
    {
      "metadata": {
        "id": "zZ7aN3H38Iq7",
        "colab_type": "text"
      },
      "cell_type": "markdown",
      "source": [
        "# train test split"
      ]
    },
    {
      "metadata": {
        "id": "d7N7wmb97-r9",
        "colab_type": "code",
        "colab": {}
      },
      "cell_type": "code",
      "source": [
        "from sklearn.model_selection import train_test_split"
      ],
      "execution_count": 0,
      "outputs": []
    },
    {
      "metadata": {
        "id": "m0bpQwSA8Of8",
        "colab_type": "code",
        "colab": {
          "base_uri": "https://localhost:8080/",
          "height": 34
        },
        "outputId": "a74f92f4-1678-4d89-b8ca-fc047ed3ef4a"
      },
      "cell_type": "code",
      "source": [
        "X = data.drop('class', axis=1)\n",
        "Y = data['class']\n",
        "X.shape, Y.shape"
      ],
      "execution_count": 17,
      "outputs": [
        {
          "output_type": "execute_result",
          "data": {
            "text/plain": [
              "((569, 30), (569,))"
            ]
          },
          "metadata": {
            "tags": []
          },
          "execution_count": 17
        }
      ]
    },
    {
      "metadata": {
        "id": "aMDcE0gh8Xld",
        "colab_type": "code",
        "colab": {
          "base_uri": "https://localhost:8080/",
          "height": 34
        },
        "outputId": "afe24741-7a41-494d-9868-b987bc849f56"
      },
      "cell_type": "code",
      "source": [
        "x_train, x_test, y_train, y_test = train_test_split(X, Y)\n",
        "x_train.shape, x_test.shape, y_train.shape, y_test.shape"
      ],
      "execution_count": 18,
      "outputs": [
        {
          "output_type": "execute_result",
          "data": {
            "text/plain": [
              "((426, 30), (143, 30), (426,), (143,))"
            ]
          },
          "metadata": {
            "tags": []
          },
          "execution_count": 18
        }
      ]
    },
    {
      "metadata": {
        "id": "XrgYC_jp8mVM",
        "colab_type": "code",
        "colab": {
          "base_uri": "https://localhost:8080/",
          "height": 34
        },
        "outputId": "d6329da1-e1c9-4a45-f8cc-e6243cf6e34e"
      },
      "cell_type": "code",
      "source": [
        "Y.mean(), y_train.mean(), y_test.mean()\n",
        "# the means are around the same range"
      ],
      "execution_count": 19,
      "outputs": [
        {
          "output_type": "execute_result",
          "data": {
            "text/plain": [
              "(0.6274165202108963, 0.6173708920187794, 0.6573426573426573)"
            ]
          },
          "metadata": {
            "tags": []
          },
          "execution_count": 19
        }
      ]
    },
    {
      "metadata": {
        "id": "spdaWBTq9I8b",
        "colab_type": "code",
        "colab": {
          "base_uri": "https://localhost:8080/",
          "height": 1564
        },
        "outputId": "f71646f8-b7bf-40f7-df2a-8fb3d979f254"
      },
      "cell_type": "code",
      "source": [
        "x_train, x_test, y_train, y_test = train_test_split(X, Y, test_size=0.1, stratify=Y, random_state=1)\n",
        "x_train.mean(), x_test.mean(), X.mean()\n",
        "\n",
        "# stratification causes the samples selected to be a best representation of dataset\n",
        "# random state is for reproduce ability"
      ],
      "execution_count": 44,
      "outputs": [
        {
          "output_type": "execute_result",
          "data": {
            "text/plain": [
              "(mean radius                 14.058656\n",
              " mean texture                19.309668\n",
              " mean perimeter              91.530488\n",
              " mean area                  648.097266\n",
              " mean smoothness              0.096568\n",
              " mean compactness             0.105144\n",
              " mean concavity               0.089342\n",
              " mean concave points          0.048892\n",
              " mean symmetry                0.181961\n",
              " mean fractal dimension       0.062979\n",
              " radius error                 0.403659\n",
              " texture error                1.206856\n",
              " perimeter error              2.861173\n",
              " area error                  39.935506\n",
              " smoothness error             0.007067\n",
              " compactness error            0.025681\n",
              " concavity error              0.032328\n",
              " concave points error         0.011963\n",
              " symmetry error               0.020584\n",
              " fractal dimension error      0.003815\n",
              " worst radius                16.194275\n",
              " worst texture               25.644902\n",
              " worst perimeter            106.757715\n",
              " worst area                 871.647852\n",
              " worst smoothness             0.132592\n",
              " worst compactness            0.257415\n",
              " worst concavity              0.275623\n",
              " worst concave points         0.115454\n",
              " worst symmetry               0.291562\n",
              " worst fractal dimension      0.084402\n",
              " dtype: float64, mean radius                 14.743807\n",
              " mean texture                19.109825\n",
              " mean perimeter              95.908246\n",
              " mean area                  715.896491\n",
              " mean smoothness              0.094496\n",
              " mean compactness             0.097130\n",
              " mean concavity               0.083923\n",
              " mean concave points          0.049159\n",
              " mean symmetry                0.173981\n",
              " mean fractal dimension       0.061169\n",
              " radius error                 0.418767\n",
              " texture error                1.306656\n",
              " perimeter error              2.909946\n",
              " area error                  43.944193\n",
              " smoothness error             0.006809\n",
              " compactness error            0.023659\n",
              " concavity error              0.027989\n",
              " concave points error         0.010293\n",
              " symmetry error               0.020169\n",
              " fractal dimension error      0.003618\n",
              " worst radius                16.942105\n",
              " worst texture               25.967544\n",
              " worst perimeter            111.783860\n",
              " worst area                 960.843860\n",
              " worst smoothness             0.130357\n",
              " worst compactness            0.225973\n",
              " worst concavity              0.241340\n",
              " worst concave points         0.106994\n",
              " worst symmetry               0.276719\n",
              " worst fractal dimension      0.079852\n",
              " dtype: float64, mean radius                 14.127292\n",
              " mean texture                19.289649\n",
              " mean perimeter              91.969033\n",
              " mean area                  654.889104\n",
              " mean smoothness              0.096360\n",
              " mean compactness             0.104341\n",
              " mean concavity               0.088799\n",
              " mean concave points          0.048919\n",
              " mean symmetry                0.181162\n",
              " mean fractal dimension       0.062798\n",
              " radius error                 0.405172\n",
              " texture error                1.216853\n",
              " perimeter error              2.866059\n",
              " area error                  40.337079\n",
              " smoothness error             0.007041\n",
              " compactness error            0.025478\n",
              " concavity error              0.031894\n",
              " concave points error         0.011796\n",
              " symmetry error               0.020542\n",
              " fractal dimension error      0.003795\n",
              " worst radius                16.269190\n",
              " worst texture               25.677223\n",
              " worst perimeter            107.261213\n",
              " worst area                 880.583128\n",
              " worst smoothness             0.132369\n",
              " worst compactness            0.254265\n",
              " worst concavity              0.272188\n",
              " worst concave points         0.114606\n",
              " worst symmetry               0.290076\n",
              " worst fractal dimension      0.083946\n",
              " dtype: float64)"
            ]
          },
          "metadata": {
            "tags": []
          },
          "execution_count": 44
        }
      ]
    },
    {
      "metadata": {
        "id": "kKvDk2Hg9-fx",
        "colab_type": "text"
      },
      "cell_type": "markdown",
      "source": [
        "# binarization\n",
        "\n",
        "Since  mp neurons take only binary inputs and produce only binary output"
      ]
    },
    {
      "metadata": {
        "id": "ze6rTDi-9tUZ",
        "colab_type": "code",
        "colab": {}
      },
      "cell_type": "code",
      "source": [
        "import matplotlib.pyplot as plt"
      ],
      "execution_count": 0,
      "outputs": []
    },
    {
      "metadata": {
        "id": "art10jJm-M55",
        "colab_type": "code",
        "colab": {
          "base_uri": "https://localhost:8080/",
          "height": 377
        },
        "outputId": "1130be1a-5b5c-4eac-d35a-652598cc963a"
      },
      "cell_type": "code",
      "source": [
        "plt.plot(x_test.T, '*')\n",
        "plt.xticks(rotation='vertical')\n",
        "plt.show()"
      ],
      "execution_count": 24,
      "outputs": [
        {
          "output_type": "display_data",
          "data": {
            "image/png": "[encoded data removed]",
            "text/plain": [
              "<Figure size 432x288 with 1 Axes>"
            ]
          },
          "metadata": {
            "tags": []
          }
        }
      ]
    },
    {
      "metadata": {
        "id": "I9-wua7W-TkJ",
        "colab_type": "code",
        "colab": {}
      },
      "cell_type": "code",
      "source": [
        "x_binarized_train = x_train['mean area'].map(lambda x: 0 if x < 1000 else 1)"
      ],
      "execution_count": 0,
      "outputs": []
    },
    {
      "metadata": {
        "id": "YhZ1Ljbi-uN4",
        "colab_type": "code",
        "colab": {
          "base_uri": "https://localhost:8080/",
          "height": 286
        },
        "outputId": "b3938c34-de90-4c68-cf0f-1d0b7593f6b7"
      },
      "cell_type": "code",
      "source": [
        "plt.plot(x_binarized_train, '*')"
      ],
      "execution_count": 27,
      "outputs": [
        {
          "output_type": "execute_result",
          "data": {
            "text/plain": [
              "[<matplotlib.lines.Line2D at 0x7f5b676a4da0>]"
            ]
          },
          "metadata": {
            "tags": []
          },
          "execution_count": 27
        },
        {
          "output_type": "display_data",
          "data": {
            "image/png": "[encoded data removed]",
            "text/plain": [
              "<Figure size 432x288 with 1 Axes>"
            ]
          },
          "metadata": {
            "tags": []
          }
        }
      ]
    },
    {
      "metadata": {
        "id": "By1LCZEi-0no",
        "colab_type": "code",
        "colab": {
          "base_uri": "https://localhost:8080/",
          "height": 377
        },
        "outputId": "ac34e801-07f2-491c-af97-728333a10183"
      },
      "cell_type": "code",
      "source": [
        "x_binarized_train_1 = x_train.apply(pd.cut, bins=2, labels=[1, 0])\n",
        "\n",
        "plt.plot(x_binarized_train_1.T, '*')\n",
        "plt.xticks(rotation='vertical')\n",
        "plt.show()\n",
        "\n",
        "# pd cut segments and sorts data into bins - useful for converting continuous value to categorical\n",
        "# example converting ages to groups of age ranges."
      ],
      "execution_count": 45,
      "outputs": [
        {
          "output_type": "display_data",
          "data": {
            "image/png": "[encoded data removed]",
            "text/plain": [
              "<Figure size 432x288 with 1 Axes>"
            ]
          },
          "metadata": {
            "tags": []
          }
        }
      ]
    },
    {
      "metadata": {
        "id": "2VF7qJ7A_UF3",
        "colab_type": "code",
        "colab": {
          "base_uri": "https://localhost:8080/",
          "height": 377
        },
        "outputId": "2d9de9fe-c1d3-4e35-9a6d-f6c052e2d066"
      },
      "cell_type": "code",
      "source": [
        "x_binarized_test_1 = x_test.apply(pd.cut, bins=2, labels=[1, 0])\n",
        "\n",
        "plt.plot(x_binarized_test_1.T, '*')\n",
        "plt.xticks(rotation='vertical')\n",
        "plt.show()"
      ],
      "execution_count": 46,
      "outputs": [
        {
          "output_type": "display_data",
          "data": {
            "image/png": "[encoded data removed]",
            "text/plain": [
              "<Figure size 432x288 with 1 Axes>"
            ]
          },
          "metadata": {
            "tags": []
          }
        }
      ]
    },
    {
      "metadata": {
        "id": "Bf_Ch7o5AR2V",
        "colab_type": "code",
        "colab": {}
      },
      "cell_type": "code",
      "source": [
        "x_binarized_test = x_binarized_test_1.values\n",
        "x_binarized_train = x_binarized_train_1.values"
      ],
      "execution_count": 0,
      "outputs": []
    },
    {
      "metadata": {
        "id": "axRx4PcWAo91",
        "colab_type": "code",
        "colab": {
          "base_uri": "https://localhost:8080/",
          "height": 34
        },
        "outputId": "e64ef5d6-7333-4343-f9a9-562959809bdf"
      },
      "cell_type": "code",
      "source": [
        "type(x_binarized_test), type(x_binarized_test_1)"
      ],
      "execution_count": 48,
      "outputs": [
        {
          "output_type": "execute_result",
          "data": {
            "text/plain": [
              "(numpy.ndarray, pandas.core.frame.DataFrame)"
            ]
          },
          "metadata": {
            "tags": []
          },
          "execution_count": 48
        }
      ]
    },
    {
      "metadata": {
        "id": "POlChntQAv4a",
        "colab_type": "text"
      },
      "cell_type": "markdown",
      "source": [
        "# McCulloch Pitts (MP) neuron"
      ]
    },
    {
      "metadata": {
        "id": "WsCKKhKyCm2P",
        "colab_type": "code",
        "colab": {
          "base_uri": "https://localhost:8080/",
          "height": 34
        },
        "outputId": "179d4098-1479-4b81-9f83-f1a74480387e"
      },
      "cell_type": "code",
      "source": [
        "x_binarized_train.shape, y_train.shape"
      ],
      "execution_count": 42,
      "outputs": [
        {
          "output_type": "execute_result",
          "data": {
            "text/plain": [
              "((512, 30), (512,))"
            ]
          },
          "metadata": {
            "tags": []
          },
          "execution_count": 42
        }
      ]
    },
    {
      "metadata": {
        "id": "gl2OQlxsAual",
        "colab_type": "code",
        "colab": {
          "base_uri": "https://localhost:8080/",
          "height": 68
        },
        "outputId": "26508e12-a7fb-4007-b01f-65646e62a953"
      },
      "cell_type": "code",
      "source": [
        "# testing out with only one row sample\n",
        "\n",
        "from random import randint\n",
        "\n",
        "b = 3\n",
        "i = randint(0, x_binarized_train.shape[0])\n",
        "\n",
        "print('for row', i)\n",
        "\n",
        "if np.sum(x_binarized_train[i, :]) >= b:\n",
        "  print('Is malignant')\n",
        "else:\n",
        "  print('Is benign')\n",
        "\n",
        "if y_train[i] == 1:\n",
        "  print('Ground truth is malignant')\n",
        "else:\n",
        "  print('Ground truth is benign')"
      ],
      "execution_count": 50,
      "outputs": [
        {
          "output_type": "stream",
          "text": [
            "for row 172\n",
            "Is malignant\n",
            "Ground truth is benign\n"
          ],
          "name": "stdout"
        }
      ]
    },
    {
      "metadata": {
        "id": "JruNh-RnBmKk",
        "colab_type": "code",
        "colab": {
          "base_uri": "https://localhost:8080/",
          "height": 34
        },
        "outputId": "cf7bed20-95fa-4fbc-90af-2223fa322bed"
      },
      "cell_type": "code",
      "source": [
        "# with multiple data sample\n",
        "\n",
        "y_pred_train = []\n",
        "accurate_rows = 0\n",
        "\n",
        "for x,y in zip(x_binarized_train, y_train):\n",
        "  y_pred = np.sum(x) >= b\n",
        "  y_pred_train.append(y_pred)\n",
        "  accurate_rows += (y == y_pred)\n",
        "\n",
        "print(accurate_rows, accurate_rows / x_binarized_train.shape[0])"
      ],
      "execution_count": 52,
      "outputs": [
        {
          "output_type": "stream",
          "text": [
            "321 0.626953125\n"
          ],
          "name": "stdout"
        }
      ]
    },
    {
      "metadata": {
        "id": "30Iln1j_Dywf",
        "colab_type": "code",
        "colab": {}
      },
      "cell_type": "code",
      "source": [
        "# checking the accuracy\n",
        "\n",
        "from sklearn.metrics import accuracy_score"
      ],
      "execution_count": 0,
      "outputs": []
    },
    {
      "metadata": {
        "id": "lkhmkBP9Erkd",
        "colab_type": "code",
        "colab": {
          "base_uri": "https://localhost:8080/",
          "height": 34
        },
        "outputId": "41f15d49-c04d-40d8-8b12-9f3be1e70847"
      },
      "cell_type": "code",
      "source": [
        "b = 28\n",
        "\n",
        "y_pred_test = []\n",
        "\n",
        "for x in x_binarized_test:\n",
        "  y_pred = (np.sum(x) >= b)\n",
        "  y_pred_test.append(y_pred)\n",
        "\n",
        "accuracy = accuracy_score(y_pred_test, y_test)\n",
        "print(b, accuracy)"
      ],
      "execution_count": 55,
      "outputs": [
        {
          "output_type": "stream",
          "text": [
            "28 0.7894736842105263\n"
          ],
          "name": "stdout"
        }
      ]
    },
    {
      "metadata": {
        "id": "2cvvjvcZFImj",
        "colab_type": "text"
      },
      "cell_type": "markdown",
      "source": [
        "# MP neuron class "
      ]
    },
    {
      "metadata": {
        "id": "J9vT645nFC89",
        "colab_type": "code",
        "colab": {}
      },
      "cell_type": "code",
      "source": [
        "class MPNeuron:\n",
        "  \n",
        "  def __init__(self):\n",
        "    self.b = None\n",
        "  \n",
        "  def model(self, x):\n",
        "    return (sum(x) >= self.b)\n",
        "  \n",
        "  def predict(self, X):\n",
        "    Y = [] \n",
        "    for x in X:\n",
        "      result = self.model(x)\n",
        "      Y.append(result)\n",
        "    return np.array(Y)\n",
        "  \n",
        "  def fit(self, X, Y):\n",
        "    accuracy = {}\n",
        "    \n",
        "    for b in range(X.shape[1] + 1):\n",
        "      self.b = b\n",
        "      Y_pred = self.predict(X)\n",
        "      accuracy[b] = accuracy_score(Y_pred, Y)\n",
        "    \n",
        "    best_b = max(accuracy, key= accuracy.get)\n",
        "    self.b = best_b\n",
        "    \n",
        "    print('Optimal value of b is', best_b)\n",
        "    print('Highest accuracy is', accuracy[best_b])"
      ],
      "execution_count": 0,
      "outputs": []
    },
    {
      "metadata": {
        "id": "FfUc5vfCHBQZ",
        "colab_type": "code",
        "colab": {
          "base_uri": "https://localhost:8080/",
          "height": 51
        },
        "outputId": "b2a2bcb1-bd66-407a-fd63-fbe4a1970165"
      },
      "cell_type": "code",
      "source": [
        "mp_neuron = MPNeuron()\n",
        "mp_neuron.fit(x_binarized_train, y_train)"
      ],
      "execution_count": 57,
      "outputs": [
        {
          "output_type": "stream",
          "text": [
            "Optimal value of b is 28\n",
            "Highest accuracy is 0.849609375\n"
          ],
          "name": "stdout"
        }
      ]
    },
    {
      "metadata": {
        "id": "6u4xnmnXHJKa",
        "colab_type": "code",
        "colab": {
          "base_uri": "https://localhost:8080/",
          "height": 34
        },
        "outputId": "e66d4c56-5470-485d-9ca8-89e6f8b2c494"
      },
      "cell_type": "code",
      "source": [
        "y_test_pred = mp_neuron.predict(x_binarized_test)\n",
        "accuracy_test = accuracy_score(y_test_pred, y_test)\n",
        "\n",
        "print(accuracy_test)"
      ],
      "execution_count": 58,
      "outputs": [
        {
          "output_type": "stream",
          "text": [
            "0.7894736842105263\n"
          ],
          "name": "stdout"
        }
      ]
    },
    {
      "metadata": {
        "id": "0YP6ejL0Hb_D",
        "colab_type": "text"
      },
      "cell_type": "markdown",
      "source": [
        "# Perceptron\n",
        "\n",
        "if sum of weighted values of x is greated than certain b then y is 1 else y is 0\n",
        "\n",
        "$y = 1, \\mbox{if} \\sum_i w_i x_i >= b$\n",
        "\n",
        "$y =  0, \\mbox{otherwise}$"
      ]
    },
    {
      "metadata": {
        "id": "ctGrdHnKHZe5",
        "colab_type": "code",
        "colab": {}
      },
      "cell_type": "code",
      "source": [
        "class Perceptron:\n",
        "  \n",
        "  def __init__(self):\n",
        "    self.w = None\n",
        "    self.b = None\n",
        "  \n",
        "  def model(self, x):\n",
        "    return 1 if (np.dot(self.w, x) >= self.b) else 0\n",
        "  \n",
        "  def predict(self, X):\n",
        "    Y = []\n",
        "    for x in X:\n",
        "      result = self.model(x)\n",
        "      Y.append(result)\n",
        "    return np.array(Y)\n",
        "  \n",
        "  def fit(self, X, Y, epochs=1, lr = 1):\n",
        "    self.w = np.ones(X.shape[1])\n",
        "    self.b = 0\n",
        "    \n",
        "    accuracy = {}\n",
        "    max_accuracy = 0\n",
        "    \n",
        "    wt_matrix = []\n",
        "    \n",
        "    for i in range(epochs):\n",
        "      for x, y in zip(X, Y):\n",
        "        y_pred = self.model(x)\n",
        "        if y == 1 and y_pred == 0:\n",
        "          self.w = self.w + lr * x\n",
        "          self.b = self.b - lr * 1\n",
        "        elif y == 0 and y_pred == 1:\n",
        "          self.w = self.w - lr * x\n",
        "          self.b = self.b + lr * 1\n",
        "      \n",
        "      wt_matrix.append(self.w)\n",
        "      accuracy[i] = accuracy_score(self.predict(X), Y)\n",
        "      if (accuracy[i] > max_accuracy):\n",
        "        max_accuracy = accuracy[i]\n",
        "        chkptw = self.w\n",
        "        chkptb = self.b\n",
        "      \n",
        "    self.w = chkptw\n",
        "    self.b = chkptb\n",
        "    \n",
        "    print(max_accuracy)\n",
        "    \n",
        "    plt.plot(accuracy.values())\n",
        "    plt.ylim([0, 1])\n",
        "    plt.show()\n",
        "    \n",
        "    return np.array(wt_matrix)"
      ],
      "execution_count": 0,
      "outputs": []
    },
    {
      "metadata": {
        "id": "hlSGlt3BJ3BF",
        "colab_type": "code",
        "colab": {}
      },
      "cell_type": "code",
      "source": [
        "perceptron_model = Perceptron()"
      ],
      "execution_count": 0,
      "outputs": []
    },
    {
      "metadata": {
        "id": "iWoNy-yuKwM5",
        "colab_type": "code",
        "colab": {}
      },
      "cell_type": "code",
      "source": [
        "x_train_p = x_train.values\n",
        "x_test_p = x_test.values"
      ],
      "execution_count": 0,
      "outputs": []
    },
    {
      "metadata": {
        "id": "b4hvFQClJ871",
        "colab_type": "code",
        "colab": {
          "base_uri": "https://localhost:8080/",
          "height": 286
        },
        "outputId": "9e514b6f-8a4e-47f4-fa86-5edd55486127"
      },
      "cell_type": "code",
      "source": [
        "wt_matrix = perceptron_model.fit(x_train_p, y_train, 10000, 0.5)"
      ],
      "execution_count": 64,
      "outputs": [
        {
          "output_type": "stream",
          "text": [
            "0.94921875\n"
          ],
          "name": "stdout"
        },
        {
          "output_type": "display_data",
          "data": {
            "image/png": "[encoded data removed]",
            "text/plain": [
              "<Figure size 432x288 with 1 Axes>"
            ]
          },
          "metadata": {
            "tags": []
          }
        }
      ]
    },
    {
      "metadata": {
        "id": "FOzKYIVEKc3D",
        "colab_type": "code",
        "colab": {
          "base_uri": "https://localhost:8080/",
          "height": 34
        },
        "outputId": "c25d98a0-bdf3-4987-aabf-a6311e1eb95a"
      },
      "cell_type": "code",
      "source": [
        "y_pred_test = perceptron_model.predict(x_test_p)\n",
        "print(accuracy_score(y_pred_test, y_test))"
      ],
      "execution_count": 67,
      "outputs": [
        {
          "output_type": "stream",
          "text": [
            "0.9473684210526315\n"
          ],
          "name": "stdout"
        }
      ]
    },
    {
      "metadata": {
        "id": "x_NOo2hfLSky",
        "colab_type": "code",
        "colab": {
          "base_uri": "https://localhost:8080/",
          "height": 269
        },
        "outputId": "e2e7b165-b9df-4ecc-e181-d265065ab312"
      },
      "cell_type": "code",
      "source": [
        "plt.plot(wt_matrix[-1, :])\n",
        "plt.show()"
      ],
      "execution_count": 68,
      "outputs": [
        {
          "output_type": "display_data",
          "data": {
            "image/png": "[encoded data removed]",
            "text/plain": [
              "<Figure size 432x288 with 1 Axes>"
            ]
          },
          "metadata": {
            "tags": []
          }
        }
      ]
    },
    {
      "metadata": {
        "id": "pFdjMdIBLcqy",
        "colab_type": "code",
        "colab": {}
      },
      "cell_type": "code",
      "source": [
        "%matplotlib inline\n",
        "from matplotlib import animation, rc\n",
        "from IPython.display import HTML"
      ],
      "execution_count": 0,
      "outputs": []
    },
    {
      "metadata": {
        "id": "C3m5CCI0LquC",
        "colab_type": "code",
        "colab": {
          "base_uri": "https://localhost:8080/",
          "height": 269
        },
        "outputId": "4d51630a-7e03-4976-847e-e5bda781d02d"
      },
      "cell_type": "code",
      "source": [
        "fig, ax = plt.subplots()\n",
        "\n",
        "ax.set_xlim((0, wt_matrix.shape[1]))\n",
        "ax.set_ylim((-15000, 25000))\n",
        "\n",
        "line, = ax.plot([], [], lw=2)\n",
        "\n",
        "# set up for animation"
      ],
      "execution_count": 70,
      "outputs": [
        {
          "output_type": "display_data",
          "data": {
            "image/png": "[encoded data removed]",
            "text/plain": [
              "<Figure size 432x288 with 1 Axes>"
            ]
          },
          "metadata": {
            "tags": []
          }
        }
      ]
    },
    {
      "metadata": {
        "id": "CNcIfeJGL5Jy",
        "colab_type": "code",
        "colab": {}
      },
      "cell_type": "code",
      "source": [
        "def animate(i):\n",
        "    x = list(range(wt_matrix.shape[1]))\n",
        "    y = wt_matrix[i, :]\n",
        "    line.set_data(x, y)\n",
        "    return (line,)\n",
        "\n",
        "# this function is called sequentially, fn animates stuff"
      ],
      "execution_count": 0,
      "outputs": []
    },
    {
      "metadata": {
        "id": "lyUw_U1kMOBB",
        "colab_type": "code",
        "colab": {}
      },
      "cell_type": "code",
      "source": [
        "# call the animator, blit = true redraws the part that those are changed\n",
        "anim = animation.FuncAnimation(fig, animate, frames=100, interval=200, blit=True)\n"
      ],
      "execution_count": 0,
      "outputs": []
    },
    {
      "metadata": {
        "id": "F5zqoZ4nMgDw",
        "colab_type": "code",
        "colab": {
          "base_uri": "https://localhost:8080/",
          "height": 309
        },
        "outputId": "fc3ac3dd-1b13-4ec0-bc6c-05305a3d6cec"
      },
      "cell_type": "code",
      "source": [
        "HTML(anim.to_html5_video())"
      ],
      "execution_count": 73,
      "outputs": [
        {
          "output_type": "execute_result",
          "data": {
            "text/html": [
              "<video width=\"432\" height=\"288\" controls autoplay loop>\n",
              "  <source type=\"video/mp4\" src=\"data:video/mp4;base64,AAAAHGZ0eXBNNFYgAAACAGlzb21pc28yYXZjMQAAAAhmcmVlAABnW21kYXQAAAKtBgX//6ncRem9\n",
              "5tlIt5Ys2CDZI+7veDI2NCAtIGNvcmUgMTUyIHIyODU0IGU5YTU5MDMgLSBILjI2NC9NUEVHLTQg\n",
              "QVZDIGNvZGVjIC0gQ29weWxlZnQgMjAwMy0yMDE3IC0gaHR0cDovL3d3dy52aWRlb2xhbi5vcmcv\n",
              "eDI2NC5odG1sIC0gb3B0aW9uczogY2FiYWM9MSByZWY9MyBkZWJsb2NrPTE6MDowIGFuYWx5c2U9\n",
              "MHgzOjB4MTEzIG1lPWhleCBzdWJtZT03IHBzeT0xIHBzeV9yZD0xLjAwOjAuMDAgbWl4ZWRfcmVm\n",
              "PTEgbWVfcmFuZ2U9MTYgY2hyb21hX21lPTEgdHJlbGxpcz0xIDh4OGRjdD0xIGNxbT0wIGRlYWR6\n",
              "b25lPTIxLDExIGZhc3RfcHNraXA9MSBjaHJvbWFfcXBfb2Zmc2V0PS0yIHRocmVhZHM9MyBsb29r\n",
              "YWhlYWRfdGhyZWFkcz0xIHNsaWNlZF90aHJlYWRzPTAgbnI9MCBkZWNpbWF0ZT0xIGludGVybGFj\n",
              "ZWQ9MCBibHVyYXlfY29tcGF0PTAgY29uc3RyYWluZWRfaW50cmE9MCBiZnJhbWVzPTMgYl9weXJh\n",
              "bWlkPTIgYl9hZGFwdD0xIGJfYmlhcz0wIGRpcmVjdD0xIHdlaWdodGI9MSBvcGVuX2dvcD0wIHdl\n",
              "aWdodHA9MiBrZXlpbnQ9MjUwIGtleWludF9taW49NSBzY2VuZWN1dD00MCBpbnRyYV9yZWZyZXNo\n",
              "PTAgcmNfbG9va2FoZWFkPTQwIHJjPWNyZiBtYnRyZWU9MSBjcmY9MjMuMCBxY29tcD0wLjYwIHFw\n",
              "bWluPTAgcXBtYXg9NjkgcXBzdGVwPTQgaXBfcmF0aW89MS40MCBhcT0xOjEuMDAAgAAAEWhliIQA\n",
              "Ev/+963fgU3AQO1rulc4tMurlDQ9UfaUpni2SAAAAwADlGX8OsidmA88y6GZ/02b2g1gjvLH4xTy\n",
              "2fmUGzfV9ZvyIPYmqrCcmekF02fBENtN882c8j8QE2tyBs1WnoR/slNLhn5TRelWS/9cLLoFcr7H\n",
              "HJ7V73RnK6L+vkur0JyIhZgaXyn/gq2d+r2IkXF/g+83w+AMa+bWulIQAAAYByXzwH/pSc3EK3DJ\n",
              "HrSjkvXOhRXq9XPKf8BRMbnZ+5aMyhKsdTA8008IUQsnFZBA5VnZ+azPkbt3VqPcE88+IAeDC0Ql\n",
              "1zYi+Y4PQdsPYL3USLhQBDI2eLfTL7SjsHVO0jcEguKgQFQ3Lfbo+rSx7e88L6cQHv/0GhxAmn0G\n",
              "ZKPyJfVg+xKtqSLidd/vU6faKI4d56jR0yMDhixrUZJfJwjSBn/AYhk+sbowmpDkaVbH8QKkrtp9\n",
              "lt4imkjEQ9HX8R5TEBBwirbj8CSsWugGUbys0uTNNBh+d81pQq+pWjUGvHAJZEfzK2J/G8B6HE3I\n",
              "cyZngvU6mStBsImOeIcksqQuv5ao07qY4Llmxk1pgYFAAFUBNihPSOaxTmQccgGtOe74j57bmQc+\n",
              "HZR2lmrNLvYz337Ns/RBoR4NaOuLxMudvX4H07YBF9lDd+TBQ3cdc5TYoxhoFGsOOlOMJ2prXqog\n",
              "wSmOIYcQY+6k/xzX/BTo/T/Ovufd2329GTSfYXzMf427JvVx2tXHbX3h8C0oPFsa8Z+zl+KaLECv\n",
              "zC87H1LIHBkX9WtKT9DPUMAb3Qf177/YAAbqi3X9OdQnaWA5AfKhhSBpB6vkU6XqrlapL55qVqDj\n",
              "jT5VU6y2t8mtItW2CCbBaiw2vcywYa59cd/aABZAsnD8pEmHcs/YVDWAh2I1AACBtZe2oJD80b16\n",
              "TBpWSCjcFuU3eANnkh+cAz+CvyaPc9yjKWOEGYu+tiLCqnDZEXMoKDjlBZ93KxSxKugKSsWj5sbO\n",
              "oesbjDs2XZVTRfvm1sd8/QBnEeA3MkBx01XeWB/7nwMbdOAbIptFb6Xn0Jz/2fOlAQuXgQ2QA9DB\n",
              "HfipWSH77RYMWkhkFMqaRGOrIllkS+j3Na4VeNmp7uBLQ+eVqPUt39L4aQYfQwiGdus56wl9dRfk\n",
              "39h8H+AKtpxXJQTo9gJRiQ7huISb/OA88l/agi3mJuNRYIOA5FzFT249criAdK6Lt4bDE7z49/e1\n",
              "PQPQYRmp3NOq1SVu2xGBiI+fv5QWkyrUM1YV1eaG8KHFc0BJa1ukrrZgXX4mfEFk8uJvBtvJi9ug\n",
              "4XzqbFl7Zq9pYYK6yAzGfDsCjrvJN+GnvHyAh4z+QzhdFtt7fVD1zvhTEsT3zoUV56QJ/55GZG6N\n",
              "htZlLGbg+behOxiuMVtSfF2nNXzRZjgtw8gh8LmOmI7Z4mFQgQZJ124Gqqk3rsJgQW3+nhLqRE3w\n",
              "4l/KHI7VoAIhOJvTKoLhZHwwtogQQUdevF4J8wsd6SmckOyoxtUc5l9cdJ8aAPjawYWANMcJvvdo\n",
              "2wkxCdFLZRwH5vlsaC5j8ScKmaqi5F+gDi4H8ZrNo8SZfWxbDj32axvYS1SwWjJ4i7tAxoW/UmUG\n",
              "EP4OwfYgAAAGtOKswhT5bDm2szbLIKbSCQkaVcHaj3sZCIzWOewGXAtzUggifdj/HDphk3npHxTm\n",
              "/UZXR4RrUzpDtV0FVgmXjdlkJEfLmRc6EauwibkDAAAO3C9OXJLdAiPc6rhSZOJ2J1sVDO0pBO1N\n",
              "XhQzy+CJ03X0Pp198Wjv7ime/bZ5hYfyGrk6TVf5n1/2wKs7eEtEOzsnNRH9zikEvQ+E4u0SWy/H\n",
              "2qs0Q+lon2Bjh5zaK//eEyUcsxUbeD0gGjCzUHxUIaLUO7YNMCquRhO6AOVUxiwsactoeBYt4M1p\n",
              "jivdp2M3zZbW+ohcKyrtghdOQITUCo7VkHRWh5f5q5LZcHa85xj7bwQ8ntOn3oYDZLRNuk1w91XT\n",
              "mWwOqtibEhbarnfLpi9hlt2vUSDsDSTXTfSNMxVk4j+tovPcZYHw3gU7uPGeDCPFEEM6SO8HSrGP\n",
              "qk3rL3BeFnFjtbL2c/O/jXnINz8Io8LkNS4nMBgqt0s2bl9goqFdCqcVxAqGeenW8U7lk2/0j0jq\n",
              "Hg/yArUWLlo1vfzLQtx1QcVyYYW0AbcSeRiQTJlsTbXd+60CvJnv///1mv93MyH8cEP8LReVUhqR\n",
              "5cYkHW7nVhvMKV8+dPP3pED48DsxETKnbhHId6fp2x6+v/gPcxMGzvjGj2axCeu57/QddbM/nNmT\n",
              "mcVNkWel0g47vVfraT9X+PFQ2goEOvLGAfQqJB6dN7L/s13dTCReGpKYMW1PNtlirXoDOUUD0qln\n",
              "39YxUn62VQpMqyYm/8R6EfOp5XjrEuRdvVWKtl4MXZRSK5g0qhpwdT063xtLoZsTaqJJEXDdFpVw\n",
              "XUUV4coA1cEtQVCrTowRJpSctZOYtZpq9oRgLcgc+tSqAUROZIbVMbPzi2CUudZA6l0S4TD+wRvt\n",
              "t06E6wlEdvNbKbOPZe1koYoUK0LZtfIvPE+3qDafBv0mwsKn8/arK9T7rJGOOlfJw5hZ1/807QQz\n",
              "Yk702P3rwmryXhaDTYaYwQaRx8O60YZZ38o6j4yvTpJQ/eRTe66yMXSu1369Rn+dcN+L5No0yjjs\n",
              "Z1CMwWJ1Sh4upPXwvxr8woJG+iojp+27/ILix5lKFnJ5kj67p0RME8q7aj5Es9tHr46bPbPL5phR\n",
              "nuM2Iea0CRyZ/41IjBczEUOt1iMFSh7g5nZUFTeC5o6Aa30hCD60GnXn6vHs3aHNLdBKricdFOHP\n",
              "blTyCznjm44stHWLu8RoSoGxXA01gzwfKKa7y23N9D7AdEzijSUsByh1e5td3M103UxgLqmDTD2z\n",
              "K46hvXR/+qrJz2u/9qnsLZOrO6kYNUrYoLzVWXPmEPa0Lj9V6UJMWVXOESQz9yZfTE+x3q/Lqn//\n",
              "/8SBTjp8XfjcS/aR8YqrVey8w7TtruBkjd1jmXQEagUw0LtmXPJUAA/6fP/QS5DVcck5xNP+CzW0\n",
              "ve3kpOR9Ka9bu9thF5kzpqXwlOa+TnR2T+jVJokhOwcKMBZVdYFGO/lHZA2vbJzVHl5wnioyPWzL\n",
              "2lw2xBIoOxEICpIi1uW7Zl0PZ+ooS8tGk39xwENnqjS7O3ugGNhmWCuxaikDt+o+NZuI9kBym3gi\n",
              "h2AKUoBvFgbX9npCv7H3V/J264OragR5ItRpQeW57xvJwh1GL1RYZrst8qywJUsiH3AsJcmrQSyL\n",
              "vMppbLY3vZKR9L5+PPQq1T4K644iOn11mmcihaZadSkrMhsxFYbUJ0AKN50q2Ya7Wn0uUQQFV5mM\n",
              "Byd264e7kcv2uYK1ud6qyopNtUGheNKDgyZBdvQCrn2Li2ySujP+W/cNbHLUiBgHLjnfzjY/OPO4\n",
              "99/53Ckm0O8Xz/7SN269ZKtlPYKahcecMi5zKSysIP5uHUszpzZYIVdnX/pJWWCdku7YcJluFt/2\n",
              "XsteCcXT2DKA6TqrnNYA2EhWXv88ixiFn/yOzwq+heKnuabLiB5Wv2tYwZ59XRRRWAEYftif+dqj\n",
              "I/zaJahZYXHFkJA0JEg+0Z+wuTFcC9T6mEXH2mpHTRkwcNC6PCF+CfeLFHQGZDPcq0PQuGt8rSLG\n",
              "4QGeik4X8IoFFc0e1/E9u83dpjiEaw+FD/XWEVQxxXo3VJVG+UKkBnML7dWfYF3Vz6tvNbRXE36Z\n",
              "/xZJLU1NchhIAoUA1kCbrepiqoFQc4J2K1KC/JYUKoqRhlx6wFsvlU9RpvhZxA4mq0DFTY8nicV3\n",
              "n2XhJUtr2UPC9FVpMD+ucw/pJDItCgCKxHO0jBkwgbIJsvs0UywQjDNO5CVwHLVFlbgVfZrRormZ\n",
              "3qASsWQlB/SEQWG7m7qQpntMXuABGYM2XQCP+VEN4jXTiLrTK7S1Zrg86HlmmjTBbI29D3OWXDu4\n",
              "q3Q8hxvTKNzUleambVMJXYBJxi2/nZq89Q9ZUp2pcc6/uXCdT2PYXDnfaNrr97PdvnnKDZw2xMLT\n",
              "HaD7mv7CFz2MOq6hI4V7cCH8VjBOqKP8zEZtGofXfevXLXRLbTXFhAABWRTLVT3+SQZMzr89d5/0\n",
              "lI9HxO6chBTC/Bth0m6ON8q8OZGkDpBYCcZ4pig31WknewE1EjPlKcCtdUB/xC6oL5OXMtNYog5q\n",
              "6FWHmaWCLJPK6y4jw6m+kt4malugNS/H48ylGeJgyk2dpR0BevtatC3jqmyRaNpOE56G7i28ISMy\n",
              "8+ac2uRFE0HgtcsrfiuMxnoboMXezdhOxY7NsL6ebFCSpIygdJXKRtov7DCSubfaridsuJ4W/m8R\n",
              "SQZdUYBmSjeDz2iXUw9JSPSo17Fpb3vLIZSlCBzBn+pB72BZScj/9KK4H5BHxjsp59b4yvozZ8jm\n",
              "qKKMe/dHa/xngXn/wAcejgX+Ji0y8OF8TZhk8APbjZFNsL3rIv5Zlg7qNsCQHDviAidmxizvqzwY\n",
              "flYeE073X+RFaSnIizmdaFJ4pq1oqxoitnfax0V5zeEJQDpOSQlxkL0d8UoywnJGL0I9ljixcQ7M\n",
              "1lzAbxJ6R75h4KEMalNgteRCfen0d04PXymewDj2unY9hodZPdvgU5ISbkyZb5g/+SmTciB6LDqu\n",
              "tkSRM90tCJQK6fRJvN1dBz+aeq95xIt6ffKvZh/5CqSpOBh0jUwH198qrJK+TOPcxumLxhKI2BMg\n",
              "Zj7v83Anr2kWCvO2G+c2qoenfbX2PiLiLHGdwqVHnArcnakk9O+oWVnWkvZ9KnxjkGPRtP9gclbO\n",
              "dH1eAcQMeegzJvARZt2D3JWpwmVZS+EpI36Se1+McrFrjBeOjwIRkxd+e7ZtXGMFUSEouvCH8yQP\n",
              "nnV2pu5mrpjrJbOOKAJlOVXdYrtPFKTVLvSdXY/YQ3EgBE/9n0Ywv8X8kn6fhbqjAS64r9mMfmtA\n",
              "w3pxz+IMtzjQtJy14AGOf5xp91y9dOOgzPnBdZIxhwq5a1qs0l3+7kpvHjKloKRxR/xC8G4hKH8U\n",
              "8mzsf+PmvHstyxVAgCo0JtmGQWsvuKaHR5HYLLs7/3770T01rACp5dIxh3FbTXr0YPuF7x2JomIT\n",
              "7T+AaLjP9bG8sntfiPWr+1jcxU0HXVAe5bR45ESa+oYGA+FfNWD5wzrWrR8V+OyyuqbYw05HUyt+\n",
              "zsk30RYBwzw5QYSSUjC7gID0Ewq+YvlfiVyUHEToeNBPnqxA176rufspa0kHwM6vq+w+wHy+2Abd\n",
              "l7CEy5ePyMF/c4igSUYfwDOpaLpSVwlHN60M8TXr8ph5UWxti20xV75NEsJvrGKofKAUPP6hRZzx\n",
              "DTu6S99n766T2ObG/tOdQW3Ty7bLPwhKWnu6BiN/5VkYRA4uIoYbjN5a+4HmWqXxHZlUQclPytEC\n",
              "KGIoXmRQV8/aqrBwJXFNPZ4CeHMmL9NVMRk/cpr6vOB9ciqaOxOQyM+XlUdo8NRwY3cWFmIu9XzB\n",
              "0QlSF2za6eQC5bfNdXfeJf2WWerlX69vjGhqOAQ3TUYj2fBk3BU0DFydbkxLPlVD/vvEgf3evbS6\n",
              "psOEiwrDwC+gKvN32Rx/+r6aYm7S7eQu8sqNg1DO0OvacJW5qwGSHdz1CvI9RDxk4XE8zZfYVaoP\n",
              "mUSEk1fSbsuyZdBXcdat+u4JJFcg3q2ZR1irQsRwuw6stTGbkib7Fl4MAaOj1lkrArmmhn5yAcgj\n",
              "5B7JbSuEn6saW+v8gvn0124miUzL8TT4Osy9LtvDtdcBtKQTHeUe2XcBLblq9/vZ+cIDrM/Ka6V0\n",
              "anp8IUS+1/riuwe92KlQXzrNFPJDjuJUmUwP6XFRyEU68KeDpBcgwTs71CQaO6MQENBhdn0nZcHj\n",
              "7pp1gi4o4w/0qz1ae/RE+QxirvXN71RkHVJH7ChtyzqepSCa3pAD4p7fbFiW+cuts4lcAj8dAAgo\n",
              "sGuAAGBBAAADTkGaIWxBP/61KoAijX04AGmJ3gruh08tc07k2jer0StMEzBwY4MjANk7grh/IsTP\n",
              "9pX/4+h0O66FDnjDNotpjyO5RivQdLXHIBgytvEJ5/daxWPYo4mNSycSB2MF7a2TyGITIlyWQ/jU\n",
              "K6W95+mMnsc89yBsYZfscAEq+318tGP5+L5ZbhxuAE3xbk3gfuzL3WDeswbks0X1bj0743X2hQI9\n",
              "EeQ9L/Z1YxvigKLmKYSsq0PJjvILxvCqKACI4xuLF2nEToTj0jgPwoU+q0sYGl3DKb2M2FCtgQNM\n",
              "fTUcCAcSSGu2/mIAL79wYD8NB+8TCf1WglK+iiM089gLe3s8raR/udpTvfZNmileQi2b4gk1q5oM\n",
              "sHmWrmF6wHyDPA41PrBwZ99FAr39+qAogAr2j4/G5LWcDd1SaissV6Ie8TNO8TYNmIzToaDQIpLe\n",
              "vvEyB6zsTkP6woGr+41/VZKqNnFgt97BXa6ZzjrqMlzC1bsgCMnUqT6ZtAVagAPiUY6bTer38Pzo\n",
              "sR0gFIQV6xYRabmwKBYuXayZ5GYfIY0NY2pE6P0ZicbfNBZoPydMV4sO4m0EuUQJJZ7PiSwGiekN\n",
              "uqBfD7q5AbR2zrZBVQfE7z7LdSp/eeEE9NO9OYXDJSoiji2BvSqRGTPT6x9s/XeeFIKScvIaa+Vh\n",
              "/VUi08pD5Pe3I59TMzlemkrxIZGhKNWpe9qpLNACQDBCHk/hRo3FMyUyM5CraNaBVxwnWqDFLfmp\n",
              "JPnQwP7d58/P2RfTHdG68Wu8VTf2FJIWR2yK2WA25fAP+bSdbIdavA7mYW9WRxbMiDThDVRe9MDB\n",
              "hDfwbSPF4BGLRWv5c4uTxKlh2BANEUkqLE1QZlMKR59SDDVtSGMSjgzabrCNZnrDKXz/1exsoiZW\n",
              "OLAqG1lZt/nnxlGZlXMDRtUvOQkShICiXSZJhk+zZhxyOl9h8d3Wio/sOyDtS/yOrjToRo670J5j\n",
              "ERoSt3sxTUwD6eK0wvCXCWM7dtPWOsu5R0UfL9QT2MkMrvqDsBNFyW4pRFFjg+hb+YylEkm0/ZnU\n",
              "FuxoDe+QgAZ8JUngZVcHs0RjENUTPmv/st/QHe7T/rRw7z/HEEnhp/ak0qmUym67TnncdgMHQOQV\n",
              "cAAAA3xBmkM8IZMphBP//rUqgAA3k6OxTAyjt0ARk2YLOIRLDTlaJsZ9Zt4JVARMxMbUYGFACrQh\n",
              "GoCewDhhVbnapPlIwUHJG+t8dHQKPXl6Wwd5ckhguUuu38cUDX537STVAJ6C6LTxvRA3BUN1H8xw\n",
              "XiofgzqF89iZyK1u1veVWTlBC+H+Up6ckvEoz4Y3xHJ6QSMat/zCEWwERIWG/DB9j6r28SRPyo5r\n",
              "bWOElPWcCYgNHfYiZbIR4pruMza4XtD1kHFjdmkxC4ulg5bqxrHMwh+9q+8n8K81+62/iRd+OFZe\n",
              "sRrBLXtxLj8s2rNnKxxoRK2rXuTs59s1P37tIrnUP6hwjbUHEtwkaVBM36tB67g4p7G5RQ96e1Pa\n",
              "2XRQD3JH81GozIqZIGV91jpZbIJFD1vVqE8A+HxLDteKwMGpMRibDTDKKlEyVlf+5y1fGJzdWZp4\n",
              "4PYkwPzmW9OamXK1lUsWy2GEZa4+35jlnf2bUbEtnui2Sd4BxXEeRxkZ1TGb6wjKQk2VIFm2y1XS\n",
              "TnAPAoT9k2SvX4+EqM9wR6QA5bG0jhOTcL+j7lTPZQh6UtuWu9jw9AgDdxTZoOirZdCWdYT9jFrJ\n",
              "FAY8LEpZxiPJcnZmDSdHJXRdz2G5b7OBPw2A7OUuS1UWR+te1d9lumfNIROchU/a23te25+HXq9O\n",
              "AdVIKWxINgx+/qcMOQwZs4tjJC7ucYspKIlZZkC1w2v+sGb1UhQM5L3sYwpmhJie2WjcLnSMWcmO\n",
              "baEPxE+e9GZCD2AD5dL+8qZT477hGBSbjP9GEM9IA2WO/aI1bHqGKUvEC0WRelPAZMggt6Yuh8nS\n",
              "pnBJhD2ll6RtEypGoZt08XPRgm4cp0GlIbMZkhMSJ9Eb/eeSMxeTVLcDGRZAtkumY84iPt6MZ3G5\n",
              "8oBzGJM6gOlxtQ71oD/u1Stf56Ca3WGhNJPveB0Iq0SqEYj/C9AcG7IzNf+nTcMuwfFIUXPLuSFC\n",
              "LvbxsTv8re2Czfk+RGmTDGfSfdLMgCVqZT8t7ioBiIAEaD+y2fcyVMPkhOxQ+aKgC1w/wIf+Aznr\n",
              "LTOf0H8wmJdT6Gcx0z9IuSLP3M8ZUdIYBby9af9uuR90zY25fvf+OXpFCPyYL9ZjJk0JgEqMeYEd\n",
              "9MS1Oeqt6RO8FX/sxFzD3ofEysig5xeZd7H3DbjvM9jJ1BgIw2XCLhMVAAAAtgGeYmpD/wAKyvUo\n",
              "tiBRgPd2QLgiEAI+/PWXUFNezw7VPJxg8IU8VbgdXW/cflWrIG1cHYjo41nmtdsmVelcoPNen8/Z\n",
              "SUP653axkIooolETOC0wU2a9x6wLL26Oh2uW0y4CPeBUsQh39/7epHo+cQG2wt6I0RW30z4UEn8E\n",
              "pG9DtXu/B2HQYeAcUUGMZB10Ov7jj2jYfny7Hn04Z+oFhweI1KgBxrDVhvlP0+1QL+NnSfxVF+JQ\n",
              "AAACAkGaZEnhDyZTAgp//taMsAAORcP0rAABLLl/gWn7Tt1sAd4zQZK64uk0u3KzZeHJ3+T5ihGG\n",
              "VE/+In//R1/PCkyAp2LDz9pXauB3dOsoGG488nq6umEdMIXgQf2RF9f5FReN+LdCYOHZGYSTGwUP\n",
              "3zNE+/KVuFYpVbBgibcXMHCyltxc1ED6IjaFrU8eg9p+fdjoL+T44bXpQier9kDBNqcZ5iXj91eZ\n",
              "ZgLG+t6kuUgBSY1AjtZ/WqBYt1o3KwpTnZVXNMVYE7kans3PX7SGJVGkDdRKppj6wd8V5VGN1w9i\n",
              "F955mEWbPcG/iYR8hOYatqJ6yr9zlkUFX+BxFjrRw7UD0TGPfwcABX59pKUhmEx/xRuFZdmMoEyP\n",
              "SNdYA4SVuEM+gv1M7vJXgA9EZF5AUmGbwbx8+jLBUPCsFP3x7tuQUFu6nzdHAMC+sqreP8ui/f3E\n",
              "OfnAVquhIqFOyq1NBOpFwSJ25IPMjHrhIWdZQVKTvkhff/41+uM/bSRvlcTZK3wP+UK/24vA2H2M\n",
              "baDht9rU+6aJBexN3GiZIcPBVKxUm3DMlsKNMeP5jPosG5pSjGB3GPPE5Cs7UnRWu5ArkO17ucV4\n",
              "0oJIroPZWwj6k+GAf98i4D2j/SJ99E6yk1TUkl27i3uF7mv7hCHjfYcfd66hKMme12vGQCUvgp2V\n",
              "hgLxa2kAAAO3QZqISeEPJlMCCf/+tSqAADeTNfngWesh7UogAK3o2XRmV6xzyvKO7J/3K0cCY4DH\n",
              "zHWjkQZkj/07V0X1A5fYRwRsDchfdcqoms1P+cIFDB38SuLhz6J2OL9mQXNI0o8gh/FRb+lWT9D9\n",
              "G5sdm+s8pJEQyzSjNLEYa0fdcMEhdXoP95Y2YuGOUzvibqcaz7x1HKZBDOPzt5o7VJHqr0I3q3SS\n",
              "GwsEgclOSij+Rm3QRfYGrBwTNKQd804WlyDmrGYC6yNrQcAmwJMZ9zbhYVmGTfxtVdhJa3EVzIF0\n",
              "F2dEJVyFEaD4Ui6bQUnU3/EWL34mMm+p+5KcghnY99gnYlLGyFLNdrh57YNxUJUoYNsNMc03bxdO\n",
              "Vx2zhSbnkV4IzELud5oMS/D98Kkypl56yQ9KHz2HKwVe8q3qMJuLTuYZ4ReO6p/9pvf9wOGWXlyN\n",
              "9O1J1dIONcEwxoos8O6F7h0PaYBxNIDqxcjncZDZvFeKhWWapyKqQl4BYF6HpfmywNo9ukBmgdAW\n",
              "jKH6cny1NwqKiR0q/o40UeLfSfWOkWUO06UCEZmXsKEWGC25OQUzvmGUTP/PQ8aW836GkBEa/L5S\n",
              "VVj+XpwZsswWdFh5q1fn0vuDZ+RS/hPdW2MlqhfLEqd4TItURzOAaLWHJsc1M9mB4fHBlXntDpeQ\n",
              "sUy/4/vH4+tqFDGC1HVzAcD9waMrDlBY2jI2hZhX1zOq4MS3NW9g1WFTTXv+82tYWFaiiyUBs56r\n",
              "ZPgvS+KEBk8H5mYNk5PNCGQ+lQgX26JpJ6kMUFh2p+l8uvxoS/Lh6RS39DhQ89Co4fjlIHnX1HlO\n",
              "U9IIXjmn9QYpAtNFAIYVEjXABMQAFUR9uFiugudKjfLQ4n8VekY5hkNYloxdfKy/q29PVAPCCw3R\n",
              "9TRpAfj5n4B3GUluaETeaa3yWTaiv+knPVXPnngg186ZUYC9MEI71Bp2JLhwDo7bnmVDFT0+HToy\n",
              "5aGzoI6osmPVV68n0Vy8Wn5bbATTKDfCQRsPGoJxGjPL+mArPbsnxoaCXN/Qopk6AGE4IoL0eRfU\n",
              "osgWqufGqYHGXlkcI9m7F5mcuH3t4XzTxBgK6BEMqP/icfS8VOLJH4N0LJwV/rWpuSLyO5Uk+icU\n",
              "jOBH76cPial8p31HFsNau4KUpYg5ZGBFjSPHE0umBcof6PMSJ3bOUTeywTU6rU8wJuT/8s6Y3moI\n",
              "/RKL+iVc2dZo+0z/z5hkoht07+CufV0GWDc2+hxiXHW8MPVPjHNSQhgzpObPOxOxAAAAyUGepkUR\n",
              "PBD/AAJU40+7EGGQB5UWyZgAtjQPfun0Vk6lscP8d9IAygoOnpPkMppxcSXBic8jC8RwesomOQ/A\n",
              "nkftv4LTZJitl72wRxMPSFNRH2EAEOUZZAwDuxlyGa4EPphug30TNH6DuhQrABKgsp102fGcSjbU\n",
              "HQTpBhjNlI9P+2H4LkkFNt0kN+6n36xDxj+G8c3AzrWi9NzDwkA6tu+aY9ojnEprMSZt9axsjaiW\n",
              "GLFV19ywqWBYm9cW2BWYnl3svysAnAfrGQAAAHgBnsV0Q/8ABUBcCCAirUvexksGhUALI/JjUAyj\n",
              "37i1iYATpsuK9W2i1D84Lm3zzu+R1suLtwXft9VZS2KDGMDSrpbI1SD8FDLp7f6bs/QqHxvYRvHO\n",
              "41eJtIMipC4q+1BHRrIdC8JHaktFGo4RHu/D4PzQh1Zex30AAABPAZ7HakP/AAVBH4YBNhz1+muD\n",
              "nu1okcqJBpD+poAStjSf6Kk1/q96BdSApO0jRYoHSSNpqzcoJKjyWEQABD1eYf4Wc3c9o/vjqZWH\n",
              "xI/7oAAAAuRBmstJqEFomUwIKf/+1oywABx45x6WAKAzm8kOv/tUELEM8L5oNve+VDqlYlwA691Y\n",
              "gIcM+5F7SuubLkJgizXUuTIkSAYtx/d1pXxhiO/Alnt20lBJEWfWkcYcIRddIKRCP/DBxMLvRyiK\n",
              "g+7mX4qh1HViYSPg4vsFQJ2X0lCICmvtCv4/8kw9hxFOeFiu/XP2LNng2EPCuAtlsuZ0xDZNreKS\n",
              "apc8yw94Y8qVfZdIKsLP17PP0CkK+G+znzTqITKR6S7qnW4muS9g6Hx9/oSYHo5oWi0uDxbCFR0R\n",
              "cXY6yAafB//hTNOwg9GBnEUiAzCE036ZC5uhDus5LIKVYASPJ4jl+Vnuhv9GfNZQxXcv5zS8s3u+\n",
              "UXCYc9PEnBXZu/pWqzdFaY5ldX8jJGhxoKk4/+Eq3B1YPzqa0F4isIZ9kPsFFqh5JnialKPzMcdI\n",
              "vaEWveICFxlZDqmKuZj/vTpp8rmTCrE0lzSdG7f+AQ77+FlYUkokmWbL4CeiTQwDgQaqU7UyDj0x\n",
              "i3hqhnhXhE4yVruytHAWNlYX7ZA/LUcEGBDPKD9VVFo4CZKWlZbwS7Xw6rVo1Y8Xlq9MMGwQ2d9k\n",
              "enlvFi+WmMAkN9/4OgniDRx9cllvzjKcd3fDbgjfEw6PzReEhsanZFv1U8Bg9gxDoNVhWpmR1/ap\n",
              "HiLztQVHIZdcRFIasluPs84leSEGPK3dRkh5to8Sn7DOviszAzRDCJTiG5mNIj2FYYIBjYmulyZN\n",
              "8gYbC06b3ERVCgdb7vmfk7tgPdhFJq/kzOPFiQ8PcZSzuTbm/ovtn85fPzAa2EwC6xmiaGc8YTo3\n",
              "Pub4pqkYEP5aBTkBUyOAE3U07Hkhotd3GmcIALBq7nWS4ajMcHWqGSM9CVYASbGi6ReMPy7PG8Sx\n",
              "0THZpCrNTT1EQomC1MAkhtFXw1wO7YMNVs+rWpPofOYMznvtiwIJFhKakuo6p/9ChjKcIwH6OLfq\n",
              "no7bDHXpqwAAAI9BnulFESwQ/wACWtsjy5ehBkTnITr/gKiU+fyXFLfo0iDvjwAJYzUutBmj+B2i\n",
              "b7Ld2bSReZq3ZFFh4oojbfHO3Jnmkf9BTyFr7lh6HVgRX3ojO/aifjAo2SJAOvsuL+spTidN5/50\n",
              "eztlQX0ly6/oT3Y8pdUMaxTVofiPogGJs5bISpMZdvidNCFYm9tJQQAAADsBnwpqQ/8ABUEfhgGV\n",
              "lwO49zZHOaGiJF9DC6InOIAGNg4ters8U6gJps0FYxVWRtzeG3Y01QGblsZ7eAAAA1dBmw9JqEFs\n",
              "mUwIKf/+1oywABx0UgpkICABlkRYdixuHMxnQBYQqs8+bwm8Ch+kBojlrzAMQ2csOEvc5zHoZwMv\n",
              "vZFcRF3b9I3uDCeiz+Wv1seMIvCk2nu6fDqzoLmEJMQgIdLfVroWbIsqq0br9l0xZ3z7YR50/Wi4\n",
              "lQS+BL2Ryzu2D4jgo8b2y0W5JQBZ5XVfAChI1iimMod2C+EZZMlJoCjLym882q3tf97i0MH2p3+b\n",
              "xcGP/1pfvX/L+zqb/2vpVQruGzfLaJKuEba2r5Yf7ctX3nkKYoFL1ClLJ334B7ZVHVPmTxvPmxys\n",
              "/mn0+8lUBVag22AdbyQjj2iU4mVad+2sZ9hbhzdO6GevlnIKO+6BCt1P6pMZHASVmVMH/RyQy9F8\n",
              "oc8RO9e/T+ahAYb9hVj/68petrPKkVov/4XpJtCI6zDGYLZG1NVbnmbI/dcChm4qVcoGZfus+R6s\n",
              "gY+FvmpFt3zMFpM6fUYr+LykEqpQ1r/YBqbYUXJgP/L44gCGDRtWIByEQ7kQm+vdSPDSYz0AkyF2\n",
              "G6mm2ioVhN+m82SDQSAfBwCe5RBfpBsjGHP4wCHIIl1YFpzAoyZEfgoiP9adh4y8FcZcQe+mEMKA\n",
              "s24qK3kAPe0uiA6j4408wecCejc/0sMDWiHdEse/TJ3gg9nN3xL/pD96/V/XU2qb9E09Z/0yTHJK\n",
              "9CGh6lsz8IEYE4K7H8Oy21R64PV0If+YppR2UjWc9wDsT/zR+UKgR73Y5/TUhz0Gkb1kRV1foWCF\n",
              "sOHOYr0edONCZHiu2T+iZstH5rNQtrcMfHCCKPOAg5fftMN1c+i2EJpTYF1x2BiF9G4MyUUKqRtE\n",
              "7rkLPPo3G6Z1SOEGNOxe9WDHoOb95MSWi/vHW3+1RFqP5OPb6VVJtPZxyFJJdBFqN+YtUBQKJ9Ro\n",
              "oFbyRlBZQjuSHKPZX4TYJzn7Xsp2bU0HwalxznaxmuGKrashj3E2o71jaTK1W5/RVyF6DTTFty0+\n",
              "AcwgKK5Va+XZDXVCgN0DGX7DD8eW40XFnrGvxE6vKYiOCeKJFvhLjhtBXmYH43Dsgm/M6XnOY47m\n",
              "NsILkjY6QZEfJyp7DA+ESJ5NCFYiupmK9czKb+HdbEqmNa/qw+/6xC8y7QWKTPP9wUQAAABvQZ8t\n",
              "RRUsEP8AAlrbI8wF3CZTQACSvzDRiYSqCt27e/1lY2bM8l99wOgWuK2vG5Y+ILBdFGyLHq1jqdtf\n",
              "CBhcLTFTYtUqFdeVQL7rrP2MNptOTXiZJpf5/7v2+5bncNC7DzVwEGFqjiUHemtPHRZhAAAAQgGf\n",
              "THRD/wAFQFwIGgSSqJUedOKxBWvL2o6FlsL0WB0RkGxSmUwDUpg6RTjzVvsgfuhGK5lABNYVnEna\n",
              "0IISoIp5kwAAADUBn05qQ/8ABUEfhfzKjRSKhyCuwEFbN+UsUzeE4J6MxcPAGeYP26ngxGhhevo+\n",
              "9ayA8tzGgQAAApRBm1NJqEFsmUwIKf/+1oywABybVUB72wAj5FYp7DgLPl5vf5Kx1l0PWonzVcLP\n",
              "cEbgDWLPWZzNrdjlWb3ObfGd5zr53AEdEM5VeFQDpHReS0P6rPZuiMVOnqXOMYa1Im5jUbdfhRbo\n",
              "E78h6l4qdmXjpNN7yu8QzcDrsdsO7KWjAkR/+3tRj91Kxm7a9tiH5vixbuJZNQqy3gxs9j1f2/O/\n",
              "a4cei2hHirsg2aJSRDhpMZ9DCaCY+7SqjhlsuPKXifSFDAzoiftNHnGEidml4WOKxEjpl9RQPALw\n",
              "h48QxNqQ03kORQL9nKIkQklRbMGsMtFVRqlMrKG3Yoy6Lz0jIQcpLfdYrn9VILynRSMNmYoRrBNj\n",
              "W+NGnPxq9l7EWi8TXlomHoVb0FdLoCBH7UcH/OeDiNISmRJbGmEhUKJZrb6W9Oc9FoLPUTnA+eNP\n",
              "lTLVyyGt+5EpfN8fdzDqmiI7+N+tJHsikpi/CL7PADC6nzqwNDo/40xq++v2hOS1ggTS4jgKYt9n\n",
              "f0+obS9N+Vzf22WayLdnxuYDEgTv+Q+8IHA1ywh4YwMGUm0qm94pwj+hNDhFjVZgzdbe5uvQYq7w\n",
              "RpxHsqoSe8F97kVNrF51o02XviwLm95IzIjDqQj7hNvTxG7QZ3ULf8MUhn255OuZYcAtPh+6hVCC\n",
              "qYHOoubULVMP+RgmAVtrfuwwjJ2vjaz2Zsaf73sRZbPu5I79QbZ+R+ecebiHsN84mVqYgolc7ZZ3\n",
              "3SFS+Cn+K+smZ8281mTCsqqrKa34ZsG0qGCcd0X8G5oOR49mOF8LM5cWybrwEdY3Hxw3RAtJTehO\n",
              "LSbL1ENInfDxDT29Q++lnBfrcjMu5P/CKB7pkWk13hQMr4TmGwaJtY/mxIAAAABIQZ9xRRUsEP8A\n",
              "AlrbI8urPAygf055/AAjZoG30AuekvqoCIRJcdUm3fHNpRhGaxMBCDAR+UsQ3vv2/sfp1xurBGSj\n",
              "VoCwWzZgAAAAJwGfkHRD/wAFQFwIGhwiU/wCxNnCGWPaW1DW4yXE5ZAXL3KwLWZg4QAAACgBn5Jq\n",
              "Q/8ABUEfhgCHFz6vgDjCcNJEIj85U6Q2t1VSU1jOFjcs8PWAAAACvEGbl0moQWyZTAgp//7WjLAA\n",
              "HJtUlcumAFbMwJ5I9eyq/zqtdOyBXiQFJTvNgIprvAeq4Yzw4W+eZTFHdv0UQl0WKFYBrfsMbUsj\n",
              "awE+gW9tiXdVpL1EYYU2c4GV5BJj0HlkQENCPK3wLN8AOTBXvPs7EYid5d1PdPRo3J3UWeT/J1kT\n",
              "eW+gfH/N7J93aQsOiMZMeG/QMq+77pR7kPZIXOoliZAR3OgqQ9qlY1GX8J44lYGcn2S90KGNfz8M\n",
              "r2nBlu8r7ksZrdrvwV4+VR0mb6LlT29Rz+wPUCw3LCfijtmHZT+OBR3SJwo9XjQyQEbIKij3W3Lt\n",
              "nE8tvFKvx1E4uTbvqKNb28ZZE+UasVnF2Bh4qeEoMNWsHKg97UohadgjvvjJQ+ycxT26U4NEcshd\n",
              "BlatAefiknYd9CKmdsJ48ts9vlhF1F3dsdubWnxs2oaYvcAmr4twkDC4UC/Qd3GX7jLGGhN9Eem9\n",
              "0HhQO6q/bMpialTJYrTx93SKyWJN9JQrK3JUcd+yTop+o4CKFv9NklG06HrAX4uyGrcX2wPGH/OV\n",
              "1h8JWmISSfz/lnPMBbLiELymge1k1uZIQUb3M+YXTacO0U4cczg+2RwdGjydME0OtH/oHcsbsHP9\n",
              "GuQIHDk6U/H06TMn+mHHFH8wwPxYk99t4ZYrmAn9oG8YaT2B4H05tbTSYYrzqcrEuxQ0dEdoavce\n",
              "zwmJ5hdopUeTndzTA78+8yZCNgmc+3ayTh/I4ZVBUeMYQ+8BUmSC2dj9S7eJQsiGvDDQ6xIbY7j5\n",
              "GzkL0ESFPTvD+HdtGWGNMRZkvVfExlX8kK3GpDBsW5IQDhymzzM74byAnbteyhveTa9v2PiaShIR\n",
              "kQHG9y0JLYnaC5EuBKJXk+zpERL57MUOkbwJvtpc8BAXQ8TDCrKhJmbZ3AajehNBE0PaszGf8oAA\n",
              "AABJQZ+1RRUsEP8AAlrbI8uXqPop6RN+AH1e/SzDDVHdCV/WO4A3CI5aLD5/UOBX8FfOnDK2w59v\n",
              "9i0F230hALRDx0r5hR6a0NsjcQAAACoBn9R0Q/8ABUBcCCCXja7fO/Dt2Yhr2V0ZqI6Zd1GlEXeB\n",
              "RCujeiQD7sAAAAAjAZ/WakP/AAVBH4YAhxc3TDQA57U9N+3oMkN7HatKHSAAOuEAAAK7QZvbSahB\n",
              "bJlMCCn//taMsAAcm1492zACnRmQNsz/x4r7XiWs+5fZ+KHK+JTyQMS+9r4GOtYqXSZr22OAPkyt\n",
              "GrzfvllO6M3Zgo7/gxfzFuT/vHTt6XK5k/6QMHrYYs5RXniMxlzVFBgiVY2EPqurgYWIE21b1ADd\n",
              "qnN9RTVUKp0UCeuWEiJetCsoaKVHNGEp/EY0h2Ma77CxRgGTadbOzPAxApaAccG8xTpFs0IYXqLA\n",
              "+Mu3rV9dV7HDD+tIytXtoLdjpTWpuVghjZIxjBQF8PGfGJPdSysMiQwq/RtDDlxsAmvm4r7VUrFj\n",
              "dRtjY+M+NieJh097BzX5MDAkPpXUdl5mmh60ZxlIF1OJfigXbofx9FGiLrqIT9weQHY9ebOn+m07\n",
              "EZVJ60E2utEZOwf6aAHOJfnOwQKrFjCo9Cr285jfozbbt/RNhNKZFX1TB4dU7pfxb1+FIY6L5Sjy\n",
              "YI4K/pOWpzR45/KQtr0ood8D3UdcMFOdACkW8iiuHpIRgBgM6IGnsVUYoG99MoHVB5RdaROeMDef\n",
              "TdYGrQgu3694p/G31zLOhUG7zdqyfuoKpbv8NK8E7QoVZWdHImHxx5Z/4zEfg0vbSk04UUitaSov\n",
              "UJkQrIwRtpbLRoZA11B2hpIzh8yfxmH0ot3+I0moLdlM8kMtSEv7GS/A96gf5+HQZcWNkDLpsVqt\n",
              "xZK9AOfCPTR1w2hUAC73kYvNA7k5qfj2Sx/zRm67kFvdXCrmH1kCaZJFh5R+EkHlftvbDopCF9sl\n",
              "zlcgC3sJdNRNhcqSVfT80MislOB9/MmiEQQdqM/mjKZy0SP9MQTC08uFt2V8xRgLu7TSPzpx8vLW\n",
              "Zh037WkSq0IeuzeiPGP23Sm1BMvBfIak0sAzpwZ8GM7I3MsSV42/KKfg4S5Lj79RB/osv2cqGpS2\n",
              "3l7TwTqsOk3BAAAAOUGf+UUVLBD/AAJa2yPMBelplpEq93NaOb1VjydGqjrmdSJlVxF/RKz2Cc46\n",
              "92K5An9opB0EhsQIWAAAACUBnhh0Q/8ABUBcBf3MM5d/3GB8GUmN6LoCfsGWx904DlcP3ZsrAAAA\n",
              "GAGeGmpD/wAFQR+GAIcXPq+AOLUquB2pgAAAAnRBmh9JqEFsmUwIKf/+1oywADjxyewsAox9U36H\n",
              "7gBG4RhIFtUuGry8f4pTgx0LQZRQQWUCP6oNz/xZrQcMfXO2KBlJ/H76zFWOUE5RfkZrTZqi3Kb4\n",
              "rbDuDdyVkGfmVa7igw9lthdeFPmBditn0d+9O9nr5m9YAUvcfMh25r/J3yKBEyXKUu1utCyBDflc\n",
              "olkrn8gNOlAHFYjrq+1rx9zvs0AvECUxACdscohbLVzz+cDFjoWFRMQHkG5R/fxIEjcjCIRUHxd5\n",
              "wdgQikaJfu9NZPWrcy90CPQ+6poyZgBG2y6fBZb7IpSv1xpeFMT2/85D9LcR2iwdxNYH3KjpQR7i\n",
              "wiIKAkDVFe2sMU2xaZkHkaN5zrcgsv+YU6BjoS0YC8yd2pgEjzkrD9BQvKzj9Oh15+WCUi7mLmEN\n",
              "sxDWmYJhxrELh+kUWBxGYDpadMEcwcU3yxL50PdXoI0qRJC6RNBEhfQeGG3IHByXHt7hZnkPoxhD\n",
              "xbSrUVEmCincTbPadz8kJi14yUf+ne4Hqblp234pjWHhhnQ8K1zjvxydOHoRQ0H8NiQAWBcwXeOV\n",
              "pMkNguXWrYxS6jTRHIsKfzV+ofp67Mbe8rjd91irB9P3W/Idl3lXnPn19duNZ22xQCwlDNgDb6pX\n",
              "V4p1hSZ8T1aWKjb2vGbYQn7PjH/bFkrXXIUSmSPyWeccKQkJXiw2Zv72DoULoN+CDJry3ft16mW/\n",
              "6d4BoXCciqAwZMkr03CiL6GgLLaLOimfX5cJQq8uU/eCVrm/taBoSRb5/Cd/EE8IQKDUJ2/AdvJu\n",
              "Wf7W6MGubs1yT2xFyySHm4QHzbaWcE/iU1hKUmyhAAAAPUGePUUVLBD/AAJa2yRUgv/wwDWHulTp\n",
              "sWPsFBF5VrEhzybZw+GCSdy5E6fCMc4oLh2yLahgM1WkWlNGUkEAAAAaAZ5cdEP/AAVAXA74RY6Z\n",
              "bJskEMJIIYX0BDwAAAA7AZ5eakP/AAVBH4pDMZ/bx17I7UdpSDSBhuS3lVfClEx8WBFDcwBloz0M\n",
              "985Zt61CmQzSTlVMLLuggakAAAJTQZpDSahBbJlMCCn//taMsAA462quhYA2RSyP1NidmrBC57Nn\n",
              "WJy7OuHDlvySGeU+HjaJzbHcZ0eLdkmCyU5NDdbUTN9WV2Ly+o+BuLOJLI8eXZqZEEjel1kPG1YY\n",
              "6p2nThRgXbYVsKvcBQPZV2gTx/1rxNSuKU5FoB+hbobfmIGyCDtkGtoKRx5BI1usFAyLmZiE+0Cc\n",
              "4BSgRdv2Vd1doJ149iPyzIOQg15/di6pSXvcvHvt/fpnSzYC+UpuE1ZibjM3Y2S5ew1bsCdHnOMp\n",
              "Im+O0yTmJzkPxUfWTFDBxWnGWr4F1BVcrnC8CHW9aF27l9W7vgM/QBvBf8Wg/dNEdOO/dODsYrpE\n",
              "m4hIF9gch92If2OAIwcbTUdXvQXJmZL4ui9NpeWyW+X3u8t/BgbjqyGM6g4V+Sdz1Q3uzkeS/Bf3\n",
              "t5fKFSi2xC9KB2IlwXIB5snLINYRb+x2pJw7uNgdSu8G6hEw2bW285IEF8rCDR4yVNnq048Ppctb\n",
              "H74hJ5mbNhU9r2f8z1YO/1z3qBXBYD8HUzA5eOs+zmlxwZoujD8BA4dnzhjVtcGnrj+rRAPxalhc\n",
              "WZjA/26ZfIv6fa4vZ00DYZw/T+rki1pVy/bJTQkUa/sdqB/7LANfJw40l6OqczANNFHbQNtAZxzy\n",
              "5G2IEqXPcNtK6ByWtlEs66r5Rfxk2MIeHiHqyOa6YYqdE0o83CQIoSW9us+5t+ET1yS0Xi31bv8I\n",
              "pd4RD1JWgTiEwZm8yIoRmxOOP9xjtUBIsPem92QVmWr0fbUsI/p6yzWDgVbTgQAAADlBnmFFFSwQ\n",
              "/wACWtskVIMXk6dvQVR1l2ZDqsWhPR3kj4xGNftaAA0M07SPCOVnif/F84f/66i2dakAAAAqAZ6A\n",
              "dEP/AAVAXA9RNViHzn8aPFcC8oPb7JRmIuK4prFfrfYL4xUHp01JAAAAMQGegmpD/wAFQR+Hwb+O\n",
              "KYmxiavcQ1WRdSwyv4XvjWrCOc16y75omt1vEHIbVUv6NQQAAAK0QZqHSahBbJlMCCn//taMsAA5\n",
              "NeOf8AJ4K2T9dGziU1UFwmt7JlJt7ntSJPGbA9F85QeZ5rZg3irp8AZa5f3gUNDe0sZ+bPgU8cYL\n",
              "CrJ36mgMJM36di0KD+vP/S07lLk/1gXkm6sPcaZPyBr97dpIJbJqJYNm/5booJBULhP4mfMYDH5Q\n",
              "UBF/ETnrGh9mRFxHNb9G2tKzN5Da1lf/uOumpg4aIxRYQ+di6tp+JU3KcmR0shgZKRfKkk3Nd+VA\n",
              "QVypYOyjo93RKiopueED3gqSn+2hUSO+kWQEQ+XfT5+BZEFZWa9vNiFEoFU89KNGNNwMa9gKA9++\n",
              "jgDBmWEV8BY0s3K1HI0oxqDA6e36RdDBTvx73Lkcf2HNi9lNmBJat/Qizvuzm+qdZr3lmSz1oO/k\n",
              "Qb9DeUjaY5uqDCdKgxHs/6OHA89rq8zFO2xaOLk5ZHZFu36Eu1NpOY3ZxRzIQOtzfwRc9HKYQ48y\n",
              "hDlglnJUhz3bOEZrCtRJNcPxHhsa0K1W8pnYFbCy/p2jB5IiXK9WGLgCuZnSI9T0iutHbolXvKPI\n",
              "g1lDpQKHlwbnvDfsLWs3GN8662dRyzoeWLIiYwR30X6U7DEeADKx1JxyrYwVLMgFmfOTd9iN4866\n",
              "+jttAP2VAgnC/jj1I6csxrR1LrakLICau4qv6+HghoSbE154WXMZMSdEoGEhmGgvpUpyYFFgTpwP\n",
              "Wp4E1QK1jAMtmWBTb4uUhWRKujpm8VSQHp9je6sOjA/s/d8vqJqvxzZ6A9KssK6kMvr1iD02/C82\n",
              "9s6DEnlVHAAct9gEzQ5Lc0QKdWFHCj7CVPxqI2lepw23eW3rm1/cQ9dltjZmwziYXzZSpDscbhni\n",
              "4tKtjIYa/Stf+o6E7hQBEGw/949tvbqTRZx9himx2F+xt7AeQDo6OFSVPvK/Y0EAAABeQZ6lRRUs\n",
              "EP8AAlrbJFRMIZ0CznMaUJKfgiQ/f9QdYXvP1ykflDEANwX7vko0sdxaeLG6l1qvNDBZ+XqYkmT/\n",
              "yUmkOEB799/0u9KrlCDiiSSvbMXW6n/+/M48sWWl4QAAADwBnsR0Q/8ABUBcCxLxd2qXcExRk1TR\n",
              "Z4fVbLZmLnizSDAC2f2xAJ1a5R/T1Dk3Uqj+MP/5paVxdv8iN6EAAAAnAZ7GakP/AAVBH4pFPGJn\n",
              "bmc6NdpFkFHVJuImBKo2IcZUjaWbIMuBAAACyEGay0moQWyZTAgp//7WjLAAOTXg4XCASxzhC/E4\n",
              "PcRvPjqIU5AiQnRpgKtc5FbHmu8YDALxwFLny+OQPg9Me9FYSbcB96/mwbfRzYdTigXvT1hX01r3\n",
              "tFL3vnylcvbAxbU/BpuufE0Dcfw1nmlJmBHewpyGI2ZYGltyeT7aCIeUT08BVFvcuCL4ZkY5Cme8\n",
              "MGhEuBW7kWL6e2TvD0a6DOkvvuYYbQPaBwo9ZWknllJSuv/hiclJ3ZQity+KYecTxTqHogiEFDsn\n",
              "a+ettYpeXRb7lxhY2sRK847eYFT31++5BSsnGBV2Q9+HxftBjbrUeV6giV9w9P8r9UIPNof05Bc9\n",
              "Qpld5KLsemRAR5xPFExV76e+yzlK0iUYWCZhUrfjZQHkohK9bIGYdQzslnz5CnWGCL9HxIu0SAbF\n",
              "YXB0KkWjAx9nUduU7+5FCtad8Q0zzr7yhhR7pRemOYl2eHZgVUz5G2YgeaHgV3NFwad7VDGaYXqb\n",
              "//3GEPQIrAUWcqaXqNOIo/Bo/1UfWi/wfCmGwrudH6DdXac20rygriKm+oI9os1NCRUak5fZ7RZr\n",
              "0zbahJnRIBt3I0SaoEispmLj7dBO2sXMFVQ4nAIadMOyiyEPpljTSc8IjV8TuGa5AZS1mICJC+Jj\n",
              "i/AekD69ugFueAsVeG2FlSIoaPlzg5J5B0T1qOYGusHG8D9sXmTADvDggKnT8qUoM1nQGPaSBb6z\n",
              "M3NP0zL6j0XV22rHMRUR5xqmi565q3bsDf2BQloXAwuDu8MDoMF5Z2W5bsWZOucml4tj9Hkz4mU6\n",
              "Y2m7zpfiPqfKfrembAploPr0wtFXmTk6GLxkV6Xh1gDFeMLSwOJ9NUUPgJfMIZ3wqal+NbT2BTF2\n",
              "Gn0Qa8lumZU2E9p6H7Y4oYcLMPrAqlO/ibTm06XhyCzP3ZhGHhHDNeGebMyCp9zmSrDlNGtA2YAA\n",
              "AABKQZ7pRRUsEP8AAlrbJFRLUWTFxZwhFKLEPoaT2/AAFtXtZh5HRbsaxp6zPoEi9QaA9ft4H/sj\n",
              "vwpgi+z2rxjeH5lz2qpM6bTdNWwAAAAtAZ8IdEP/AAVAXA9RNU6ugNF72BosLLXaJBCWMAnUqooQ\n",
              "ILC1DtGczWQWv0nBAAAAKQGfCmpD/wAFQR+KQzuYl9TLx3+bIk5fYONpX5xqH+jZKbRESp/zxwJO\n",
              "AAACqEGbD0moQWyZTAgp//7WjLAAOTa8eWxgAOCDG/QptjKa3UApToyxHxc+pRvoLhPfTLlnYpIb\n",
              "HyLS9KFS7dpWWhxkP8EaqWeTEbxAbVNnLzjEkXOdZgo3LRoO2Vp2Ey0/8yd0YeUpvHiOhg3I5UxF\n",
              "PgrfmgM+V4D5P2Yho54HMoz/S4vaI2WfyY6Km8kjRvR5mRUQTgLwMjRPoRxy88x7LUHW0W+N/7R1\n",
              "nbgjzZb5G2YA+pGRXKMtk0buM1w1VMcVpSi9164FOXwTBrGsoHuE+Xm2/gU5DE6H14YmZ0ntp+I6\n",
              "MY+hpXxlBkx9G4EHr7VXweAI329KDkxYooP+RBh/C0JY7lBqpTA/FRvbvfA0M670Wqkz88nRqy2Y\n",
              "qHmkb4/H0REwjPXKEuKr1W8QYkrmDjPEg+yKMnYQQ2eHl/VNpZADgan4uf7KCj9a5686v5il8QkJ\n",
              "WG4j0d5p5sBXelnkpgbxLvD7DoPoFSLntGluDGpMt0Y3JxQoa+d7lY0uv0H41S3cJu0CcMDsxuFG\n",
              "blkDq1Sgr8wKuqqOVT/EyHjFfM78s3QmbFUIEE1SsFmKUaIRbW8tRzweG4qJXt481gMnrHOg3dBd\n",
              "qWw4Ekjo+TD4AbeWXvNs3siDrAtxMzXykzWa9b5e02y5tnFYongQ3HSjeDN11jf3Wo1kOohvAcLL\n",
              "UOS7H9hOSuchz1pMYgID0sYE3JAJGJnHHDtoha6hUA1PCBRFQ1I4clcormvhTmyr+Zcn6lpgJrr0\n",
              "i/K9CYHvUL9z8IzRZnkIQBE9Gb38kbgyqgqrYwGIu4f5gGnxlcAcM3JZ1pKJKJppttaMxhaWrwsG\n",
              "F9IAsU4ebJsUjArCwyQlPeh/SUmnpIYXi3Xjq+pkCPPr3WPsD/98ektnXECNZ9IJVxE/Ya5E5zNA\n",
              "AAAAa0GfLUUVLBD/AAJa2yRTyjwaxdiaH4u+fT1JFSSA/UqQvBv2CXFp99A4DG1932u+ONPng5dD\n",
              "M+wn8F8KjfqnLf7vlaG0YfvMzUxVe6XxPQgcL1r8FVSpD/uuvL32achaXLR1UfNL2i74dqTdAAAA\n",
              "KgGfTHRD/wAFQFwF19gyIHVxoqhBoVzWcqn+FAf7UkxEWT5Tpn1/bV7BJwAAADgBn05qQ/8ABUEf\n",
              "ikEOHker4MB3R3J3PDVovwulaxSEj05zUYAR1hBqPCDHq0X5GjHHYStX+kj44QAAAkNBm1NJqEFs\n",
              "mUwIKf/+1oywADk2vHltOAAsAj3aBuAUbbwr5loV8BKL/qIuA82HYxMce/zBLHBkYeXd0SRZc2n2\n",
              "rdIuFSp8lMeT40lSvl3Ev/8GjCqZaM1hCLF/XHz2qz5DS3MCQsXcXLLX12SrqxrygL0mD480pJhf\n",
              "x5k2u3tg+JXPVizx1+ucNaTxorvBCRcZVpVKlRD6ddJvwDEIca9Oo8/GsP/uL2ilDu5SnOdJs8ny\n",
              "DXQgB3gpWcwR4KDXcZmdwVuFWc8809aGli5CPZZHjJV3471vWE4ZFJJoUeAzADU8gzSpVrtcaQux\n",
              "bt8Vo3kqmrh/bmzjCtuwDMemg2t2/mSfvh/Khz0HboQ932CpRaO8Gd8by6hDCyuYiDXnkEc5IO+K\n",
              "MEIEXOgXd+K/Xz6AMCDwTt6fQOeoD8sauhBPOFmSbHwaXpfnSb0Dcj+rfEtzaG8pKL4Jg0NUMowO\n",
              "Z3Xv9j5k5cdya+nPY7kU/XahrxoZLgh44/h1mUWNcgy9/fXZIsBxcj2v1iXpz73KJ5B+vDExqjN7\n",
              "AHlhmen8QHmE/xmDSM9km5nhQv/7BUcSv8bCCZlzZdtA8PLrdakszgyg7LcgRcxaOh4FARKZPSqs\n",
              "vmdP6z4Mj5yUaWChYcSXuG/B6eGJ0WiZxeG6BehiBjuV0CbIU/Q7Y4F2rsiOqumvw3NvZqXAwoSW\n",
              "42k4ezgwxJG7IuU2FN8N+ku7ZgZN/kskd83STCtKAKQwL42J3Xwh26EkiDt6cFbycCuJbxCWSqXk\n",
              "ImAAAAA0QZ9xRRUsEP8AAlrbJFRMH2QC3MSDgFq6hlhzSMRMcs1PSzUItyEANKgyN/52O2mbsf0C\n",
              "bgAAAEYBn5B0Q/8ABUBcD1Dg3ibOtir5qqT8xTTmHAph4fqABkEeegpEbkAI1qtqNsN2nU8Gk5mL\n",
              "YsWyv+fyJHeExMMn5rBqfsqLAAAANgGfkmpD/wAFQR+KQztqc2sQX6xemdAYpt+8m+AEa3sXrYG2\n",
              "Rv4b/Y1maMa+OvwWdS+QyVBWwAAAAoVBm5dJqEFsmUwIKf/+1oywADk2yB00wAp63o9wbme/vbV9\n",
              "WAnAimyL1Ngb3NPjKMafn1SqqvRziSSVOj0Fqzv64luLPej9LH7e1Qoa/foDovxla1Er7avmehGf\n",
              "0Rmndf0HZq3qjvz3QdBIZ2XiDFXP9n0EfpeL15fIgT6y/Ts0dyaBvYJAc1zKdeh3m6yElimCe796\n",
              "hGQY3EaixLDKfyOHl4WZgqqeNYvQS9tvZ8Kl2OCWWSywNshu0SGoEXE11FaQvzQFmBv18YYUhB1H\n",
              "p/GP0rrhdm8Ee2qVi2kPKeHa7LBkCfAjnnKrP7fVGEr5gLmzXpMGzoF0T0vaSrXpYX8JBrBbXBuZ\n",
              "WX6oZX8/VXRnpxPxn/8mQd6Y86P5nDbCiLHNfn/pb84n6XJaBVOGuYDqN8rNdnlH2DhzvUBVOTfd\n",
              "ZTB2n38WH172wLLWp/Phz9STNb2Rg+QfiGDDixd6SyapN/SIhCCS/SbamTpIkFx1x9IEFUjFkTBz\n",
              "Rpik1tAWLM0ZaaoxKuWVMzXih5oVdsI3snAx8aeBkFS2dAFIdv+7UlsXvdMZkPPC76TB5rL2PhQm\n",
              "SRNI6Y2B4dgkFxZNMuSe92kUkXs/gmDDm7d7j+xQ3qsxeXn7uYp4s9R3nB41BthgJ8WvRVBfto+p\n",
              "+pGFuDA8YWAT8J9PzeyDs2KkhA324/LWRARfvaNSu5H4GRETXWPxuPEevs7OTRCHec7DebIeTnkM\n",
              "2Etq7raEmiPgl0J1YizLtRJKof8z5bBG2WATIU4ovcXBFEBG7Q8Iq1uNSZShivn42uMKqzmiqWbp\n",
              "wiHyqACt8lFmNrEo9yNRRiWKZs+pj680tveX5OSC5mwIdwNVcUBxF3AAAABeQZ+1RRUsEP8AAlrb\n",
              "JFQL0w1KoF7g9CHKEYyBtanR2VrJESNlXmngBVn1vvgsVeueIKWSsjNicEZizGji1bfEj+7UOoqO\n",
              "EOqta/ty2GUwfgOhAKI6qWh4PdZukdYd0QAAADEBn9R0Q/8ABUBcD0pXJq8a2oY8ElZ26Ja4SvYt\n",
              "QcvdNH+ZlRQKPcLJVQ1NhDZt1CXgAAAAOAGf1mpD/wAFQR+KQmcv0s1RfXZM5lSfzkdcu3RmcC1G\n",
              "Kqwa7Q0sFpE+vFJwMFfbIYzuGAKb+/2VAAACikGb20moQWyZTAgp//7WjLAAOTbIHTTAChXI/4ML\n",
              "r6U3skgmfPyUcj8cQaAYM7wAguNFhigKKA5Y6FkGcoUoK0yyvOxWGiJeqOfbigVI606WM0xMNO9y\n",
              "WKOOlZ6f5UjfWe0cNUDtK6PvKbzJibK5/fYDvi1WMJsRJIAJCdbDK1LSmkFxWrYfpDTuvmFsRIlz\n",
              "UXDSwPO6/W8r9iA7YucG2WSje4+ZbLHc5kTL7DgOs+ObSwQIfDgNgrqylJ7rbwqUg8/d9k5VFn1L\n",
              "GOifZxeadH6GQEQl7vl4+lZ3mibhx7zCrtxWdC+V3WJc6CD2FEqtqRUUNp7JdInPKXK65bkY0JH7\n",
              "MazWYogbB1l/se6BHJ9nj6HS/FYnPgVD1IglO1qzxhTt3wAhxnVyFNYHR+6RWKO0C59BZ6GYFmyD\n",
              "aPPr9nvsfjo5CZrJ+xjaqUM5x/c9btryqoCN8Byo4YyGKu+ExdTlv6H1g8U94K/vG+lETzAHji0e\n",
              "6SKYasO5RqgEWZfG7XGhlsrzWHM8vs+OJFJEfxclfG+gNzydya7dC9z0roQ2KgBxMp8lzkv+FEyF\n",
              "dz+1wCTn/7VV2TEqymwof6yUXbd/cxw7WJ4EdxBA76h4Bd+3TiL3xvaHoaJd+0VXudFqLDf0oltw\n",
              "8P1ATQJlSRHGlxLV+ZhGgbeab4V1TOPpDait11CHBsOsLxyu6sPL2wcX7c4XJBq/eeQU5Ooc5vdH\n",
              "IewrGI/kfyzfGnJDC+ru6ouyUeixaFMA20Hy5flZezJhmcScmSY0RS/KowKnE/579DzsF4IsBACh\n",
              "BoGw8LWOTIPn/WfrqqigISjse2WVYeqJ34FeAw6TeuKf+7uiZmluJdggUtc8jbAOE2ZlAAAAUUGf\n",
              "+UUVLBD/AAJa2yRUC+zNHW5JyBDCkioFFDpiCnXwjXGp6+JQSADjeqleGghCwcI39HKBDddG4YLr\n",
              "7OQfWsZtjkW1X8AcQGndT4JBwEiFhQAAAFIBnhh0Q/8ABUBcD0kkzM734HInGnTSmYtAxpVjkFOF\n",
              "n6VkoWdhgfABLUKSQezjztbMkDjkjJmW0uv71SXQ7UrEorg+ao0u9ppZtmvZwF7JcCthAAAAUgGe\n",
              "GmpD/wAFQR+KQmcvz2MNZS3PU2Ov3bK7ZSdCxk27wvviBfPQmcKYIq4XS9csw5LxN1AAm4FYaL+w\n",
              "rN/QtCjcDQvE+fApC0GK+d3JKShy0XAAAAKPQZofSahBbJlMCCn//taMsAA48d4jsAI+0JdSVniK\n",
              "ccr9RJTCxYGImUZ9O1toS7KKYyNb0LSGTaRGV06/MBb6u4vcxQAb90Hl57mgN9cXj0vNG8b+8Ycv\n",
              "POzbi9UDXp5umn+QMOj+rOm0TuM0wSuXKKUAXv54xYv7FpZjs79XEzAJDv9LgJcFpTm770/TjqxN\n",
              "OxfTUxqXuXLGvLR+H22/Uw0+DSuyB0LRcn49oTfsPAXeXAFzVbHpEi3x33B7isaKd7EidExKXd7T\n",
              "dCH7MxAJSRovX6ZRetLVB1E8fP6mHChIj1GXwOUq1qOAOxXO5zHubAwZxRsXFZsVS3/x6OuIdbhv\n",
              "VLu3N91dk1Tu0dJhdVq0NPIaNQez2DEukOpSYxL/t9k/5RtYMrvXhIodJp2r7IMm+bYfAcG/3l16\n",
              "6Qp1dax74DTLEppos6Eptb1U6M4aGHpJu1+GyPf18ewV2j656Bur4PCcZJ4KHVVjWyhtHjl4Zmo9\n",
              "2RryiW44h/qTlXOi8kz0fAKykpPterX3hoJaIHOhS7zcaxxYYj1t6e4fPwvMFl+kvfCUjzagk1cg\n",
              "Crd7jgRxx0rnmXQVcCNu/ho2E/yTI++YScyRevp4WK0Qkgctanwr77bIUGQp2iTCnSTaUA+7TepH\n",
              "d0jSpwZGxEAlS/pKNjKV9l70WO8ThMKYqU9wgBf9mLZyA59SAuVYLgzuzqtDYaiva1SFjVBD3pQt\n",
              "lMX9grFfpTnFwTxXT6tgP/v5k4akuAxPCNou0yR6SHzS56beeCE5oPtHWuBeNtVeAXTpAsT3AH5V\n",
              "oyErV4KSfEzGnv5cqqghFlSyDUNhs0MGJYkXQ81J9t+Ht5QKlt+k2gS3SOWMd9XwGTz3YpU9gQAA\n",
              "AFpBnj1FFSwQ/wACWtskVAvTDSaLnIh3L9Qlt9NM0CVfD7jJpLmL1Q6stde5CaFDZxJpnbKupMKN\n",
              "QZcLZhaAAb41V4CcQ7UYdsQlFD9NcEt0qn7OtsyfW8d4OaEAAAAtAZ5cdEP/AAVAXA9MmV4v7kSn\n",
              "W0914/fanF+neEpSe35Gqd43Qj9mV6jl0ITMAAAAOAGeXmpD/wAFQR+KA9W187YdQpsp7G0SahxO\n",
              "+Ubt0AJbBFAAAAMANRkL3Lyf1kwhrJwHQg/F+wi4AAACgEGaQ0moQWyZTAgp//7WjLAAceO7hcKX\n",
              "fg0oAluzXhmtY7UDoSAg1kWUYeKsb3691OULtZGxCTZerC5KDEeTNrQMMb/2knywGGm9N+LeLCPQ\n",
              "m6t+EXVDWCGxFVLb4Z+VzpBe3lKbwflaiVoxw58GyAmrkA3IT4z8oEjVKfk2X5v9SSRPNIB730+L\n",
              "lDZydIoqEuuTs5MIz5gsiTIOfnYFHaBoP24KaMigT5vXECEijGxK+ks9lg41TnrhhxeyK38GP+7/\n",
              "Y5CVMke2ydv5wbY4u1Ey+Rczh1IGI5jxX5RuqPuAxDwLeyst/vFSPrPaaLap75n+LQ/Pavx7BZKe\n",
              "847d7zLhYw+y4pzYyfr7PvlcDRZtrE/6VPkhvwfkojETCLejFketr3LLQ8+X8yeF9V/7gzuhh53x\n",
              "VsEWBhMMTYE+2s+IS2Saxs5Y0mW7B2vN2U/y97Hf2AHJV5LoKs2N/m0tZDYG4CPohLh5IHMJjr7p\n",
              "9Lq/5tuyBGS6WwbI/K9+pjoDDUJAZx4eZQD9VQdhScVqPdwW2DLPY+zCGHheMiw9Lz2nFzyFcOYc\n",
              "Wj69X4jzvKmL6pjJlcoYqibtG5cE2zm80arXAntL9x7KnL3LVGMX4BA2KtbiHi4SBg/qwTeWM+eq\n",
              "exaL0bKTaB60XqLWyK82KaTw53M14ANjwPkGmX92nXhNIdtmli5LzK9RpIqIPznMj1V7HlAsR1Cq\n",
              "sNzvoFypns9kqK5T8xvw9luknP53IwYdmwx7TWbt/b6jd/aRKmBDDvQw0wHBPi2VKuawK/GQar8e\n",
              "aDCIKDzVIgRfIdmn7HI6SDcUWlDa/GlzWX5Do5kP9/j69kH7ZxS3+Es0q86X3yUAAAA8QZ5hRRUs\n",
              "EP8AAlrbLSbUE30EALoiZ4Q5z/D6W0vEKw6MVRNd0HI6AC2fkz+BCSci2MO+weyK7Tn9h+JeAAAA\n",
              "OAGegHRD/wAFQFwLDo5nErjYrDv+zDDhJ2BEZcee+f7DAC1yloIqW1QL/8Obl8rCxNCuDg652IdN\n",
              "AAAAGgGegmpD/wAFQR+E1fCAzy4xIKRxWFLIbgELAAACMUGah0moQWyZTAgp//7WjLAAchZk5CoC\n",
              "DRaIMpHKHL/bvbnGQI3VBF7At7xftDnGy4CrgP8YMmx4yD127DRcKWDOr9xRwME41F6wdxKWFa3Q\n",
              "NAt63g05nHZTWi3WFWqAE3EaugbEKxy4G/S+kImzeKJQiLoQul+WSdoTYPlvS4Fo4vjO4x5I5uzn\n",
              "mLegvVNfGaJBivRghE78riueKd65AP6gh+2NjnafPlMn8m+nMFqrrFjL7rsJqnZ3RugISo7XNl/6\n",
              "TTRcvVaRIe0E1OZZxhNhP8tqRhsc6BGVCaU44CfEEtg8ULjPbQZIdsuOOm7rTbZet84j7fcpBvZa\n",
              "vvh3MMmM4+OWy0eofhnAMQILGB4WIMSpLVkv8kgz4Gv7qHIUsPjLSg3xelcu5btBTKapn0kpIGyq\n",
              "lyMmffRrElQx3Grm3aBQL59p82VFzipW+7Jw5Xi1XHIhKS04YZ8xb45TvE6qSYBiAUwUOYm9gpHf\n",
              "Y125HcWCV2nWIoFazUJLf2P8VBNWSrJPzR3Umdo+RUWtTz/KailqjIUSscsORmnmCUrez49XW/Cw\n",
              "Hkn6FvOvvl3yOgCZ5eP96Vv56zOMZYXFFRsw+jHId1rd4lEd/MbtDjHeK5M2Ej8suH2Aody0FDwe\n",
              "WzvyAl33fhs0JmFQAUOQbTZT9HT2Gt8xMIEZfuqn+iZIn9FVLWLZWGHXdNDwasj/9jz7a+ZNHEdF\n",
              "ISWikTfPb9TbVqbFWtoQarZMH+rqQEcm4QAAACRBnqVFFSwQ/wACWtstIZSQ5hqXkUx48zTdPxWy\n",
              "9Gq3XMuILuEAAAAkAZ7EdEP/AAVAXHtLJRhL1P/xsskNq/JzEYeSpr2Q+8uPDGfBAAAAHwGexmpD\n",
              "/wAFQR+E1fClDx6AAarudC62Y+Y4Y+46/eMAAAG0QZrLSahBbJlMCCn//taMsABx1VbekAX4FQ/s\n",
              "Ad5GZgl35l76oYcRdY7V0YIyMnsJ12mzr1Rplf1NdtofiKes2bjDJ0qaWOo/TGaFvFAR9fRIGD/s\n",
              "ry8BBgPZjxu+zNoVmYN4ky0vRA/8NiHfLp+62+nBvIOj9o5I8jexO+S/GI3HoIv5wxJCOGNz3ni0\n",
              "Z20h/0tOzI8CdmOx8pWi8yhAUlzLtlaGBx8VgjxoieLXcYTjqHtFfXZIGNMDBJG/aoKWOzI10Mqg\n",
              "oP/w4GbXTcFFEHeRRa68kDhacffNj0ct0ZXETGStZWS4dyszuX77vJnHVfPjHcitrY8BELki8dBq\n",
              "FxefY9f7w9x/d2fKclW31/J5zDF/TrSHdNpVf8Krq+LeokjqP9S6w72JYH2eV7T4i318izFtTcc/\n",
              "esYrE/voVx1UHQVQbt77YLtch717Sw+oprRwDD45t0bp0wpKC5uJ164VxRSA36LhRVlUcK/A5yHg\n",
              "0vsbmeIY+HifFqEOdP2rnoZZE6LdN5F6s5V6UexUE2h3IpMKWRuOd7FJ9HYoyh5Ybz6XnhC71D3N\n",
              "lK4kmygu31lFwAAAADRBnulFFSwQ/wACWtstIZSP8IF+vNQS/NlRZcUwTkjuOE1xULfUAN0+UdS/\n",
              "QfSJMIDtx1GzAAAAIwGfCHRD/wAFQFwLEvF7TUL0JIHpdvSI3WjXsuFvALyt2WdxAAAAKAGfCmpD\n",
              "/wAFQR/M+rINHhbjmNzmgUDJ2KJWZFu+9bUiQBrJNJ8y1BAAAAInQZsPSahBbJlMCCn//taMsABy\n",
              "Kk5+GAA4BDkDXpG7r251cMYDMzfui/PFgcDu7TLhtEOkV/Q/SrCEkgxvRvpqvMOsiXgzUt5KgX82\n",
              "bR/mB6hYPj3YKQDsqkTYD91M6fE4W3NWQVp3f829Vdz9+6zX7JcznRr5dOWO4H7Uq7wJ0PsBXqYF\n",
              "vyW5zzy/NWOIcP68LZ44MTtKh8/vSbat0fycJgIVsQkDBzAkjDbwpvvmoddlwdD3ia6zSLwGDVjo\n",
              "jKDfPj4caJjBnaVpjO+VDC31JYUCIWriynSuHfoC/yFjr8cgnwM0CWsaepBMN5boIOt1lPkrTYGI\n",
              "+saEJr5BwMVSxNNfCPbCJvj3+I/L2mKQSVKltzX+zyWcBMfbq63cNiMcypbTQnOWcr+6gTqcXeAU\n",
              "E/OvdMP6pH1LemN2AIZv2NuZxzIcNo7BLS6DkYq1CusND4Vyqonyx3Cl1jkvXdC6z/2g05xz3xPh\n",
              "xPMIAR88EFYOUHP+cmFDPVDjVRGtF4liFmFJreawhQhyYnSqxlgVr0QCbLMXQgZBS+acawKSe2N3\n",
              "s4iwudGKLsaIOqb4gmja2PO8Y7TAStm5UMPzwc7it/E0xblxbUhSpgnjKzNbElWfQre4t9oYoO/m\n",
              "6k3LQSWxCwZggpjFqI5akzm/3yzxXHVWMebIFSQUVWWNNGhD8ZccydjviGpBdtwLEPzdmjCL2NrA\n",
              "+ZIWY4O+5OCADrbkc+0+4C3hufgAAABZQZ8tRRUsEP8AAlrbLSRrnzSbQ8O8W3ys0GDpx75B8o+t\n",
              "1USBTFmJVdwS46BjDDZABZjdbQ9ZaE2jo55SFPK9EqhLLUf+QEvv537YRCdDlglE75HjzV1zA/0A\n",
              "AAAvAZ9MdEP/AAVAXG8AJCKneaKTfBTnI3Ysmjn1Qz+9+YBGETd9RmJBYESi2kC8EnEAAAAxAZ9O\n",
              "akP/AAVBH8z6vQwLasP3+S/GoZVZw8+mWpeHaNCzeejtdaYqZ+u5633yxqSmgQAAAeVBm1NJqEFs\n",
              "mUwIJ//+tSqAAbyzW5xgO1eugAFDeV/PAbwEXiODsbyh+OM+9v9ecYOMbzfu2nxVV2Yt4Zr2YmGK\n",
              "yiAZnB9Hn7za3l3CsTa33sxLKzw5eT7uVjmM8dOJr9s9jP9MDXZ0J7ppSJ8tPbLKXZf+CtlvZdum\n",
              "8qc8aEIUsC7RBfawWog391/Z30GQoS+o8Mv5H41ydgwmJp/HyfZk4jtlni+fSS6NFB+ksk4zKrbI\n",
              "fQJONfBTmtWDWeLDa/mFUIL2fZXOg1joL4Q47wSivKwXErAhRMXdXhErNupfmX0/6zHDPUTeNtEq\n",
              "zH5HSL+CvBeLIcYrnk96mkM8jzKJNg+cmvBlmMulCvRV/JTev2nHxCR0MGAZXECtysmCujH4rHW6\n",
              "CCTYnDpZg26pUPvp3pr0EbShCDC9De3nsfLaVsH+YKYyldaP+1oRBvMMsEO5Uei9X9Rov16dRRJV\n",
              "sLRDR/1nO5EdCQ0WVGkk1Z0pSSQYSZpm9OIKQhzXVYoKQOsnNn4CeoPptffGpHTcbsp2pWVrtho7\n",
              "q+ai/m9ZJ/k2h+AUtnlX+JAgqecjD2GmhzqSEQrJ51i0fVeEvgcRzE46CGfUriVUsdWKJ3UASue2\n",
              "x+IxByEOe3XBrPMu5XXE/MvVSHqFgAAAADVBn3FFFSwQ/wACWtssO6rQdOVdmEVanu5OTytjnspb\n",
              "UKFeAWbuXDjRloxesxVTPhmJbBrD/AAAAEQBn5B0Q/8ABUBcerOYOFzKuP7O8nH3ISLpnPtPWCZ5\n",
              "WGXC6ghcJXT8TVDyuAAEtG77sCHHNeY6hYC4MLw4FxFK2T8soQAAADQBn5JqQ/8ABUEf1dGgAsdL\n",
              "F0GzWf/wqMdwg78zhihIiR9fodyUUo9jyb+9w6XlTh/W7AGzAAABeUGbl0moQWyZTAgn//61KoAB\n",
              "vObya9wdEgAhtdknZKByp5dXgPlB6OLzLOtbuoQM5e3ijiDjA8+PlbTLQMk5XZhlJYGjFf/ljy8v\n",
              "vjtNlr7KnfEXfF0iqoqoZNTvN//Gq1ATg1Z0kyqOZwYazclT7FZy1aa12PjOCOLwKG0qDxkExjW9\n",
              "7j5rARwv4PNfyt19xZ9gLAbbpF9QdTctZt9wQ4H6Ov4h9nCV8nWm3n14Z8cf/eBi5TeU/slGSyU6\n",
              "Ay6Oy02VRj9pd2TFL6EhmjcgLaX146vtucRlXrwVM5YhBTyqlaQMybRNvnxuI8PxHHHvH3tHVE8U\n",
              "STlbLZCVWJKlcrckN7NexLe3mT2zs3qRE0MLECGQPTLeGF3eWsVj+5AeZSd3m7/fglDcF/sIyG7w\n",
              "MRpDG8j4P0IEGBGJOK1ctx+fGG+/4D5StMf9gY4JRGJD189jEApEa7DdKL4r3PAMinVcDrfzSCUU\n",
              "SwW+hz06+H5Uy48ONH/NmpWAAAAAKUGftUUVLBD/AAJa2y0oaQ1hsp5aL6UXd5FvCH+SRgoNbg4h\n",
              "iTMsAAspAAAANwGf1HRD/wAFQFxvADnjajEAualMTroinzcSkpfm4GYUUZJKwcQIV3JjT22ot4yx\n",
              "MQAsF9k0g4AAAAAxAZ/WakP/AAVBH8z6vQwJFr1O/vzjWrBKbQrD5bTB+oFeLgkuwIP/hq75trpL\n",
              "dvpjQQAAAXZBm9tJqEFsmUwIJ//+tSqAAbyzW5QQAIexlYxpjcO+Ir0IHGTqlrF6qCsfb8DliTud\n",
              "FtU6LHiigjxNUud12iL2FRrMduJoQee+RUbIR8fc8xtBVvHwt9k4L5AfI8MlOP/kYXsb3pn4O/Rh\n",
              "5UDSlPt6DPUGoTwiNEgI1bSpcGCO0sqN/0oj6tzgiOnJG0opvfzZYmXVvGQAq+YRtqm0+xsuVfq8\n",
              "ZAeQIHVVNMuG8c5XvDS6/9VinvjqpQrq3cOXIf7kuEZHgzfgXETjUh9wz9mkozzorXuEDgBvu7WL\n",
              "vt63nskjZF0j1CKcl36SYZ9U+AsHav0LDla+FzfB8v3kYq//VfA5hfxPFFS99j+LuI4DG7yuGBwc\n",
              "RrIQgu1nebhrajuND18XUb3uKreMDQZ8e1RXnrssW2NwWP3rSBJ77aDODhiVK60cRLR4TQKi/NXZ\n",
              "U4Ct5CbDBuiSXpGq0apglZtVGQdB39cLsb3r0EaGDZT3jQ9DWbnLaQAAAC9Bn/lFFSwQ/wACWtst\n",
              "IGxKw2U8tGWcYEC2lufY5LWZa99s2/nVCVTQpVWwh3VnwAAAAC0Bnhh0Q/8ABUBcewRFRVlMq8AG\n",
              "OWXhU7Ma7EmUbzvy731veKB2BcB6GnwJR3UAAAAoAZ4aakP/AAVBH8z6vQwKxi6djDB4waZvyQX7\n",
              "+TwhimxKlAhGF+BswAAAAPFBmh9JqEFsmUwIJf/+tSqAAb6HY+dQAi0BnNFyArh4b8FZfLAM4jyH\n",
              "uRWRr3hFAaShaSFKZvGT8jg9n4FATdZnJAEXGwKG0SvJzpHpJ/JN1QQgzraJrG3FMY6cEtl/Jbr0\n",
              "6EC9pRvtBgrijKY4JF8y2atgQs2IBN+ODk7av+i0AiH8Uj5A2DApaGmzYsLdlrTnP1CM5M/i+UDF\n",
              "STRY6Llbnj6w7/tDpw67wwb6R3O924gl15QoP/rFLSJPLctb1yfD5wX69ycH9ZRovs7UHDsLjBTL\n",
              "eAgMc6YnjUL1kutZOm+OzO4ueeGOwSdRtsrV93MDAAAAREGePUUVLBD/AAJa2yw7qtB02nly7x80\n",
              "coFsud0Mg22llysSIARlHNzv6PHwPPbMJpNiIYM9FoJmAWaAKFBgS2o7QQIfAAAALgGeXHRD/wAF\n",
              "QFxvADnjZtTi4+5SZ5OC2A1NZIwPRfKZXpzD0wy1ANA+6JUBFfAAAAApAZ5eakP/AAVBH8z6vQwL\n",
              "asO0xFROlW/z9pJS2+EJ4yZ8b0ZO8vBPBOwAAAB5QZpDSahBbJlMCH///qmWAA2VU1LbRACgSaiz\n",
              "MvWNb6TREuMhENrRCIHG5khOntnAB74XxfXoGtVXx+CPRKcrPuvo6cldufEsx1h+dDaonLz32dJE\n",
              "WSa+lcpjAHfe9lCgI030T3GpeU7/I5/LH/sfqImKalENYliHwQAAAENBnmFFFSwQ/wACWtssO6rQ\n",
              "dO9MVKlq8tbZtH16yeHNSG17eXmRtk9mFs2HM4+JlivIkI3yFIJKHNnL2FyMcATzDgz4AAAAMgGe\n",
              "gHRD/wAFQFx68O0zcpBONsWjvTzHL7AGNTPAwX5XdYd9PbJB4pijKGBQ4Mx30DPhAAAANAGegmpD\n",
              "/wAFQR/M+r0MC2rDtMOTV8kXVR33fOW/JHtIQVnvS4e0RfhmNTMCeE4OLZC7YWUAAAfObW9vdgAA\n",
              "AGxtdmhkAAAAAAAAAAAAAAAAAAAD6AAATiAAAQAAAQAAAAAAAAAAAAAAAAEAAAAAAAAAAAAAAAAA\n",
              "AAABAAAAAAAAAAAAAAAAAABAAAAAAAAAAAAAAAAAAAAAAAAAAAAAAAAAAAAAAAAAAgAABvh0cmFr\n",
              "AAAAXHRraGQAAAADAAAAAAAAAAAAAAABAAAAAAAATiAAAAAAAAAAAAAAAAAAAAAAAAEAAAAAAAAA\n",
              "AAAAAAAAAAABAAAAAAAAAAAAAAAAAABAAAAAAbAAAAEgAAAAAAAkZWR0cwAAABxlbHN0AAAAAAAA\n",
              "AAEAAE4gAAAQAAABAAAAAAZwbWRpYQAAACBtZGhkAAAAAAAAAAAAAAAAAAAoAAADIABVxAAAAAAA\n",
              "LWhkbHIAAAAAAAAAAHZpZGUAAAAAAAAAAAAAAABWaWRlb0hhbmRsZXIAAAAGG21pbmYAAAAUdm1o\n",
              "ZAAAAAEAAAAAAAAAAAAAACRkaW5mAAAAHGRyZWYAAAAAAAAAAQAAAAx1cmwgAAAAAQAABdtzdGJs\n",
              "AAAAs3N0c2QAAAAAAAAAAQAAAKNhdmMxAAAAAAAAAAEAAAAAAAAAAAAAAAAAAAAAAbABIABIAAAA\n",
              "SAAAAAAAAAABAAAAAAAAAAAAAAAAAAAAAAAAAAAAAAAAAAAAAAAAAAAAGP//AAAAMWF2Y0MBZAAV\n",
              "/+EAGGdkABWs2UGwloQAAAMABAAAAwAoPFi2WAEABmjr48siwAAAABx1dWlka2hA8l8kT8W6OaUb\n",
              "zwMj8wAAAAAAAAAYc3R0cwAAAAAAAAABAAAAZAAACAAAAAAUc3RzcwAAAAAAAAABAAAAAQAAAyBj\n",
              "dHRzAAAAAAAAAGIAAAACAAAQAAAAAAEAABgAAAAAAQAACAAAAAABAAAQAAAAAAEAACgAAAAAAQAA\n",
              "EAAAAAABAAAAAAAAAAEAAAgAAAAAAQAAIAAAAAACAAAIAAAAAAEAACgAAAAAAQAAEAAAAAABAAAA\n",
              "AAAAAAEAAAgAAAAAAQAAKAAAAAABAAAQAAAAAAEAAAAAAAAAAQAACAAAAAABAAAoAAAAAAEAABAA\n",
              "AAAAAQAAAAAAAAABAAAIAAAAAAEAACgAAAAAAQAAEAAAAAABAAAAAAAAAAEAAAgAAAAAAQAAKAAA\n",
              "AAABAAAQAAAAAAEAAAAAAAAAAQAACAAAAAABAAAoAAAAAAEAABAAAAAAAQAAAAAAAAABAAAIAAAA\n",
              "AAEAACgAAAAAAQAAEAAAAAABAAAAAAAAAAEAAAgAAAAAAQAAKAAAAAABAAAQAAAAAAEAAAAAAAAA\n",
              "AQAACAAAAAABAAAoAAAAAAEAABAAAAAAAQAAAAAAAAABAAAIAAAAAAEAACgAAAAAAQAAEAAAAAAB\n",
              "AAAAAAAAAAEAAAgAAAAAAQAAKAAAAAABAAAQAAAAAAEAAAAAAAAAAQAACAAAAAABAAAoAAAAAAEA\n",
              "ABAAAAAAAQAAAAAAAAABAAAIAAAAAAEAACgAAAAAAQAAEAAAAAABAAAAAAAAAAEAAAgAAAAAAQAA\n",
              "KAAAAAABAAAQAAAAAAEAAAAAAAAAAQAACAAAAAABAAAoAAAAAAEAABAAAAAAAQAAAAAAAAABAAAI\n",
              "AAAAAAEAACgAAAAAAQAAEAAAAAABAAAAAAAAAAEAAAgAAAAAAQAAKAAAAAABAAAQAAAAAAEAAAAA\n",
              "AAAAAQAACAAAAAABAAAoAAAAAAEAABAAAAAAAQAAAAAAAAABAAAIAAAAAAEAACgAAAAAAQAAEAAA\n",
              "AAABAAAAAAAAAAEAAAgAAAAAAQAAKAAAAAABAAAQAAAAAAEAAAAAAAAAAQAACAAAAAABAAAoAAAA\n",
              "AAEAABAAAAAAAQAAAAAAAAABAAAIAAAAAAEAACgAAAAAAQAAEAAAAAABAAAAAAAAAAEAAAgAAAAA\n",
              "HHN0c2MAAAAAAAAAAQAAAAEAAABkAAAAAQAAAaRzdHN6AAAAAAAAAAAAAABkAAAUHQAAA1IAAAOA\n",
              "AAAAugAAAgYAAAO7AAAAzQAAAHwAAABTAAAC6AAAAJMAAAA/AAADWwAAAHMAAABGAAAAOQAAApgA\n",
              "AABMAAAAKwAAACwAAALAAAAATQAAAC4AAAAnAAACvwAAAD0AAAApAAAAHAAAAngAAABBAAAAHgAA\n",
              "AD8AAAJXAAAAPQAAAC4AAAA1AAACuAAAAGIAAABAAAAAKwAAAswAAABOAAAAMQAAAC0AAAKsAAAA\n",
              "bwAAAC4AAAA8AAACRwAAADgAAABKAAAAOgAAAokAAABiAAAANQAAADwAAAKOAAAAVQAAAFYAAABW\n",
              "AAACkwAAAF4AAAAxAAAAPAAAAoQAAABAAAAAPAAAAB4AAAI1AAAAKAAAACgAAAAjAAABuAAAADgA\n",
              "AAAnAAAALAAAAisAAABdAAAAMwAAADUAAAHpAAAAOQAAAEgAAAA4AAABfQAAAC0AAAA7AAAANQAA\n",
              "AXoAAAAzAAAAMQAAACwAAAD1AAAASAAAADIAAAAtAAAAfQAAAEcAAAA2AAAAOAAAABRzdGNvAAAA\n",
              "AAAAAAEAAAAsAAAAYnVkdGEAAABabWV0YQAAAAAAAAAhaGRscgAAAAAAAAAAbWRpcmFwcGwAAAAA\n",
              "AAAAAAAAAAAtaWxzdAAAACWpdG9vAAAAHWRhdGEAAAABAAAAAExhdmY1Ny44My4xMDA=\n",
              "\">\n",
              "  Your browser does not support the video tag.\n",
              "</video>"
            ],
            "text/plain": [
              "<IPython.core.display.HTML object>"
            ]
          },
          "metadata": {
            "tags": []
          },
          "execution_count": 73
        }
      ]
    },
    {
      "metadata": {
        "id": "PLfpxxpHMlHg",
        "colab_type": "code",
        "colab": {}
      },
      "cell_type": "code",
      "source": [
        ""
      ],
      "execution_count": 0,
      "outputs": []
    }
  ]
}
