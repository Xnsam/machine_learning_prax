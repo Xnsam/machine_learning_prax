{
  "nbformat": 4,
  "nbformat_minor": 0,
  "metadata": {
    "colab": {
      "name": "python_stats_improv.ipynb",
      "provenance": [],
      "collapsed_sections": [],
      "authorship_tag": "ABX9TyNEy6JXAKaz/QEjkinxkFki",
      "include_colab_link": true
    },
    "kernelspec": {
      "name": "python3",
      "display_name": "Python 3"
    }
  },
  "cells": [
    {
      "cell_type": "markdown",
      "metadata": {
        "id": "view-in-github",
        "colab_type": "text"
      },
      "source": [
        "<a href=\"https://colab.research.google.com/github/Xnsam/machine_learning_prax/blob/master/python_stats_improv.ipynb\" target=\"_parent\"><img src=\"https://colab.research.google.com/assets/colab-badge.svg\" alt=\"Open In Colab\"/></a>"
      ]
    },
    {
      "cell_type": "markdown",
      "metadata": {
        "id": "ci5CVIHBqDNS",
        "colab_type": "text"
      },
      "source": [
        "# DAY 1"
      ]
    },
    {
      "cell_type": "markdown",
      "metadata": {
        "id": "7gbuAVK4rFK_",
        "colab_type": "text"
      },
      "source": [
        "Q1) Calculate the following measures of central tendency\n",
        "\n",
        "- Mean\n",
        "- Weighted Mean\n",
        "- Geometric Mean\n",
        "- Harmonic Mean\n",
        "- Median\n",
        "- Mode"
      ]
    },
    {
      "cell_type": "markdown",
      "metadata": {
        "id": "P8YkiHVKsp6O",
        "colab_type": "text"
      },
      "source": [
        "Q2) Calculate the following measures of variability\n",
        "\n",
        "- Variance\n",
        "- Standard Deviation\n",
        "- Skewness\n",
        "- Percentiles\n",
        "- Range\n",
        "- InterQuartile Range"
      ]
    },
    {
      "cell_type": "markdown",
      "metadata": {
        "id": "SpqGVr0stDam",
        "colab_type": "text"
      },
      "source": [
        "Q3) Calculate the correlation between pairs of data and comment on it, also calculate the correlation coefficient"
      ]
    },
    {
      "cell_type": "markdown",
      "metadata": {
        "id": "zSsNgHH7twdd",
        "colab_type": "text"
      },
      "source": [
        "Q4) Calculate the Covariance between pairs of data and comment on it"
      ]
    },
    {
      "cell_type": "markdown",
      "metadata": {
        "id": "ES3rmus0t3Md",
        "colab_type": "text"
      },
      "source": [
        "Q5) Plot a box whisker plot and describe the plot"
      ]
    },
    {
      "cell_type": "markdown",
      "metadata": {
        "id": "Wv1In145qOb3",
        "colab_type": "text"
      },
      "source": [
        "# DAY 2"
      ]
    },
    {
      "cell_type": "markdown",
      "metadata": {
        "id": "SRUGd0rSuz2d",
        "colab_type": "text"
      },
      "source": [
        "Q1) Plot a histogram and describe the plot"
      ]
    },
    {
      "cell_type": "markdown",
      "metadata": {
        "id": "c87fozj9u9EM",
        "colab_type": "text"
      },
      "source": [
        "Q2) Plot a pie chart and describe the plot"
      ]
    },
    {
      "cell_type": "markdown",
      "metadata": {
        "id": "xihgMmjevDxf",
        "colab_type": "text"
      },
      "source": [
        "Q3) Plot a bar chart and describe the plot"
      ]
    },
    {
      "cell_type": "markdown",
      "metadata": {
        "id": "270pBhEjvJ4k",
        "colab_type": "text"
      },
      "source": [
        "Q4) Plot a X - Y plot and describe the plot"
      ]
    },
    {
      "cell_type": "markdown",
      "metadata": {
        "id": "lkI5WCT_vUZ1",
        "colab_type": "text"
      },
      "source": [
        "Q5) Plot a heat map based on a correlation matrix"
      ]
    },
    {
      "cell_type": "markdown",
      "metadata": {
        "id": "Aogjqj0CqTnf",
        "colab_type": "text"
      },
      "source": [
        "# DAY 3"
      ]
    },
    {
      "cell_type": "markdown",
      "metadata": {
        "id": "u3beRlTcvnL1",
        "colab_type": "text"
      },
      "source": [
        "Q1) Implement Mann-Whitney U test"
      ]
    },
    {
      "cell_type": "markdown",
      "metadata": {
        "id": "6C9GSis2vx5c",
        "colab_type": "text"
      },
      "source": [
        "Q2) Implement Students t test"
      ]
    },
    {
      "cell_type": "markdown",
      "metadata": {
        "id": "6ejxL1iQv3UE",
        "colab_type": "text"
      },
      "source": [
        "Q3) Calculate the Chi-Square test between categorical variables and comment on it"
      ]
    },
    {
      "cell_type": "markdown",
      "metadata": {
        "id": "cDodfUIAwO7l",
        "colab_type": "text"
      },
      "source": [
        "Q4) Implement the following in python\n",
        "\n",
        "- Pure Functions\n",
        "- Anonymous Functions\n",
        "- Higher Order Functions"
      ]
    },
    {
      "cell_type": "markdown",
      "metadata": {
        "id": "tH6S3uyIyIxb",
        "colab_type": "text"
      },
      "source": [
        "Q5) Implement Eigen decomposition of any covariance matrix"
      ]
    },
    {
      "cell_type": "code",
      "metadata": {
        "id": "pJ-_viEvqVlf",
        "colab_type": "code",
        "colab": {}
      },
      "source": [
        ""
      ],
      "execution_count": 0,
      "outputs": []
    },
    {
      "cell_type": "markdown",
      "metadata": {
        "id": "hhnhoGvgqWmv",
        "colab_type": "text"
      },
      "source": [
        "# DAY 4 "
      ]
    },
    {
      "cell_type": "code",
      "metadata": {
        "id": "WjL1NEOxqWT3",
        "colab_type": "code",
        "colab": {}
      },
      "source": [
        ""
      ],
      "execution_count": 0,
      "outputs": []
    },
    {
      "cell_type": "code",
      "metadata": {
        "id": "-D7PoCG8qWRA",
        "colab_type": "code",
        "colab": {}
      },
      "source": [
        ""
      ],
      "execution_count": 0,
      "outputs": []
    },
    {
      "cell_type": "markdown",
      "metadata": {
        "id": "35zL30pCqbKX",
        "colab_type": "text"
      },
      "source": [
        "# DAY 5"
      ]
    },
    {
      "cell_type": "code",
      "metadata": {
        "id": "Lz-G-r_xqWOo",
        "colab_type": "code",
        "colab": {}
      },
      "source": [
        ""
      ],
      "execution_count": 0,
      "outputs": []
    },
    {
      "cell_type": "markdown",
      "metadata": {
        "id": "AmQztcALqf5n",
        "colab_type": "text"
      },
      "source": [
        "# DAY 6"
      ]
    },
    {
      "cell_type": "code",
      "metadata": {
        "id": "naZLQqUcqfeH",
        "colab_type": "code",
        "colab": {}
      },
      "source": [
        ""
      ],
      "execution_count": 0,
      "outputs": []
    },
    {
      "cell_type": "markdown",
      "metadata": {
        "id": "DSujvQF1qiPf",
        "colab_type": "text"
      },
      "source": [
        "# DAY 7"
      ]
    },
    {
      "cell_type": "code",
      "metadata": {
        "id": "_ydWGpabqfZg",
        "colab_type": "code",
        "colab": {}
      },
      "source": [
        ""
      ],
      "execution_count": 0,
      "outputs": []
    },
    {
      "cell_type": "code",
      "metadata": {
        "id": "dfHIcPxCqfS2",
        "colab_type": "code",
        "colab": {}
      },
      "source": [
        ""
      ],
      "execution_count": 0,
      "outputs": []
    },
    {
      "cell_type": "markdown",
      "metadata": {
        "id": "-v77I4Q0qlv3",
        "colab_type": "text"
      },
      "source": [
        "<h1 align='center'>THE END </h1>\n",
        "\n",
        "![alt text](https://i.ytimg.com/vi/P4LhWSN3YSw/maxresdefault.jpg)"
      ]
    },
    {
      "cell_type": "code",
      "metadata": {
        "id": "nC71Pys0rAS_",
        "colab_type": "code",
        "colab": {}
      },
      "source": [
        ""
      ],
      "execution_count": 0,
      "outputs": []
    }
  ]
}